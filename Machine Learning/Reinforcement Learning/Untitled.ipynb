{
 "cells": [
  {
   "cell_type": "code",
   "execution_count": 1,
   "id": "2175478b",
   "metadata": {},
   "outputs": [],
   "source": [
    "import random \n",
    "from typing import List"
   ]
  },
  {
   "cell_type": "code",
   "execution_count": 16,
   "id": "1de5b3e8",
   "metadata": {},
   "outputs": [],
   "source": [
    "class Sample_Environment:\n",
    "    def __init__(self):\n",
    "        self.steps_left=20\n",
    "    def get_observation(self)->List[float]:\n",
    "        return [0.0,0.0,0.0]\n",
    "    def get_action(self)->List[int]:\n",
    "        return [0,1]\n",
    "    def is_done(self)->bool:\n",
    "        return self.steps_left==0\n",
    "    def action(self,action:int)->float:\n",
    "        if self.is_done():\n",
    "            raise Exception(\"game over\")\n",
    "        self.steps_left-=1\n",
    "        return random.random()"
   ]
  },
  {
   "cell_type": "code",
   "execution_count": 19,
   "id": "43da1091",
   "metadata": {},
   "outputs": [],
   "source": [
    "class Agent:\n",
    "    def __init__(self):\n",
    "        self.total_reward=0.0\n",
    "    def step(self,env:Sample_Environment):\n",
    "        current_obs=env.get_observation()\n",
    "        print(current_obs)\n",
    "        action=env.get_action()\n",
    "        print(action)\n",
    "        reword=env.action(random.choice(action))\n",
    "        self.total_reward+=1"
   ]
  },
  {
   "cell_type": "code",
   "execution_count": 20,
   "id": "15d7abe7",
   "metadata": {},
   "outputs": [
    {
     "name": "stdout",
     "output_type": "stream",
     "text": [
      "[0.0, 0.0, 0.0]\n",
      "[0, 1]\n",
      "[0.0, 0.0, 0.0]\n",
      "[0, 1]\n",
      "[0.0, 0.0, 0.0]\n",
      "[0, 1]\n",
      "[0.0, 0.0, 0.0]\n",
      "[0, 1]\n",
      "[0.0, 0.0, 0.0]\n",
      "[0, 1]\n",
      "[0.0, 0.0, 0.0]\n",
      "[0, 1]\n",
      "[0.0, 0.0, 0.0]\n",
      "[0, 1]\n",
      "[0.0, 0.0, 0.0]\n",
      "[0, 1]\n",
      "[0.0, 0.0, 0.0]\n",
      "[0, 1]\n",
      "[0.0, 0.0, 0.0]\n",
      "[0, 1]\n",
      "[0.0, 0.0, 0.0]\n",
      "[0, 1]\n",
      "[0.0, 0.0, 0.0]\n",
      "[0, 1]\n",
      "[0.0, 0.0, 0.0]\n",
      "[0, 1]\n",
      "[0.0, 0.0, 0.0]\n",
      "[0, 1]\n",
      "[0.0, 0.0, 0.0]\n",
      "[0, 1]\n",
      "[0.0, 0.0, 0.0]\n",
      "[0, 1]\n",
      "[0.0, 0.0, 0.0]\n",
      "[0, 1]\n",
      "[0.0, 0.0, 0.0]\n",
      "[0, 1]\n",
      "[0.0, 0.0, 0.0]\n",
      "[0, 1]\n",
      "[0.0, 0.0, 0.0]\n",
      "[0, 1]\n",
      "total reward got 20.0\n"
     ]
    }
   ],
   "source": [
    "env=Sample_Environment()\n",
    "agent=Agent()\n",
    "while not env.is_done():\n",
    "    agent.step(env)\n",
    "print(\"total reward got\",agent.total_reward)    "
   ]
  },
  {
   "cell_type": "code",
   "execution_count": null,
   "id": "53cfb2b0",
   "metadata": {},
   "outputs": [],
   "source": []
  }
 ],
 "metadata": {
  "kernelspec": {
   "display_name": "Python 3 (ipykernel)",
   "language": "python",
   "name": "python3"
  },
  "language_info": {
   "codemirror_mode": {
    "name": "ipython",
    "version": 3
   },
   "file_extension": ".py",
   "mimetype": "text/x-python",
   "name": "python",
   "nbconvert_exporter": "python",
   "pygments_lexer": "ipython3",
   "version": "3.10.1"
  }
 },
 "nbformat": 4,
 "nbformat_minor": 5
}
