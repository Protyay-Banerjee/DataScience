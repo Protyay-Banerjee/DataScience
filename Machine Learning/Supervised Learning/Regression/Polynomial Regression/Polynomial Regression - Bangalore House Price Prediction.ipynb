{
 "cells": [
  {
   "cell_type": "markdown",
   "metadata": {
    "colab_type": "text",
    "id": "XMXuHe_Nr3aJ"
   },
   "source": [
    "### Load Libraries"
   ]
  },
  {
   "cell_type": "code",
   "execution_count": 1,
   "metadata": {
    "colab": {},
    "colab_type": "code",
    "id": "XumaS3odplm-"
   },
   "outputs": [],
   "source": [
    "import pandas as pd\n",
    "import numpy as np"
   ]
  },
  {
   "cell_type": "markdown",
   "metadata": {
    "colab_type": "text",
    "id": "VhV2t0oasB1T"
   },
   "source": [
    "### Load Data"
   ]
  },
  {
   "cell_type": "code",
   "execution_count": 2,
   "metadata": {
    "colab": {},
    "colab_type": "code",
    "id": "WSg8xJenr_Fb"
   },
   "outputs": [],
   "source": [
    "df = pd.read_csv(\"poly.csv\")"
   ]
  },
  {
   "cell_type": "code",
   "execution_count": 3,
   "metadata": {
    "colab": {
     "base_uri": "https://localhost:8080/",
     "height": 286
    },
    "colab_type": "code",
    "executionInfo": {
     "elapsed": 2326,
     "status": "ok",
     "timestamp": 1593017357537,
     "user": {
      "displayName": "indian ai production",
      "photoUrl": "",
      "userId": "05336710603640792650"
     },
     "user_tz": -330
    },
    "id": "UN743hihsOV-",
    "outputId": "7d1e68a0-43d7-41d0-b5ed-73a288adc004"
   },
   "outputs": [
    {
     "data": {
      "text/html": [
       "<div>\n",
       "<style scoped>\n",
       "    .dataframe tbody tr th:only-of-type {\n",
       "        vertical-align: middle;\n",
       "    }\n",
       "\n",
       "    .dataframe tbody tr th {\n",
       "        vertical-align: top;\n",
       "    }\n",
       "\n",
       "    .dataframe thead th {\n",
       "        text-align: right;\n",
       "    }\n",
       "</style>\n",
       "<table border=\"1\" class=\"dataframe\">\n",
       "  <thead>\n",
       "    <tr style=\"text-align: right;\">\n",
       "      <th></th>\n",
       "      <th>Experience</th>\n",
       "      <th>Salary</th>\n",
       "    </tr>\n",
       "  </thead>\n",
       "  <tbody>\n",
       "    <tr>\n",
       "      <th>0</th>\n",
       "      <td>1</td>\n",
       "      <td>47000</td>\n",
       "    </tr>\n",
       "    <tr>\n",
       "      <th>1</th>\n",
       "      <td>2</td>\n",
       "      <td>52000</td>\n",
       "    </tr>\n",
       "    <tr>\n",
       "      <th>2</th>\n",
       "      <td>3</td>\n",
       "      <td>63000</td>\n",
       "    </tr>\n",
       "    <tr>\n",
       "      <th>3</th>\n",
       "      <td>4</td>\n",
       "      <td>84000</td>\n",
       "    </tr>\n",
       "    <tr>\n",
       "      <th>4</th>\n",
       "      <td>5</td>\n",
       "      <td>150000</td>\n",
       "    </tr>\n",
       "  </tbody>\n",
       "</table>\n",
       "</div>"
      ],
      "text/plain": [
       "   Experience  Salary\n",
       "0           1   47000\n",
       "1           2   52000\n",
       "2           3   63000\n",
       "3           4   84000\n",
       "4           5  150000"
      ]
     },
     "execution_count": 3,
     "metadata": {},
     "output_type": "execute_result"
    }
   ],
   "source": [
    "df.head()"
   ]
  },
  {
   "cell_type": "markdown",
   "metadata": {
    "colab_type": "text",
    "id": "_Sb7Jf8Ns3f5"
   },
   "source": [
    "### Split Data"
   ]
  },
  {
   "cell_type": "code",
   "execution_count": 4,
   "metadata": {
    "colab": {
     "base_uri": "https://localhost:8080/",
     "height": 52
    },
    "colab_type": "code",
    "executionInfo": {
     "elapsed": 2303,
     "status": "ok",
     "timestamp": 1593017357539,
     "user": {
      "displayName": "indian ai production",
      "photoUrl": "",
      "userId": "05336710603640792650"
     },
     "user_tz": -330
    },
    "id": "ELKV24TYsQum",
    "outputId": "2d732762-7d81-4036-eb66-3a5c5fd447f8"
   },
   "outputs": [
    {
     "name": "stdout",
     "output_type": "stream",
     "text": [
      "Shape of X =  (10, 1)\n",
      "Shape of y =  (10,)\n",
      "   Experience\n",
      "0           1\n",
      "1           2\n",
      "2           3\n",
      "3           4\n",
      "4           5\n",
      "5           6\n",
      "6           7\n",
      "7           8\n",
      "8           9\n",
      "9          10\n",
      "0      47000\n",
      "1      52000\n",
      "2      63000\n",
      "3      84000\n",
      "4     150000\n",
      "5     200000\n",
      "6     270000\n",
      "7     350000\n",
      "8     600000\n",
      "9    1000000\n",
      "Name: Salary, dtype: int64\n"
     ]
    }
   ],
   "source": [
    "X = df.drop('Salary', axis=1)\n",
    "y = df['Salary']\n",
    "\n",
    "print('Shape of X = ', X.shape)\n",
    "print('Shape of y = ', y.shape)\n",
    "print(X) # experience \n",
    "print(y) # Salary \n"
   ]
  },
  {
   "cell_type": "code",
   "execution_count": 5,
   "metadata": {
    "colab": {
     "base_uri": "https://localhost:8080/",
     "height": 87
    },
    "colab_type": "code",
    "executionInfo": {
     "elapsed": 2279,
     "status": "ok",
     "timestamp": 1593017357541,
     "user": {
      "displayName": "indian ai production",
      "photoUrl": "",
      "userId": "05336710603640792650"
     },
     "user_tz": -330
    },
    "id": "SKmbpuzAtDp3",
    "outputId": "a21cd578-8691-460d-953b-0dd017665ea1"
   },
   "outputs": [
    {
     "name": "stdout",
     "output_type": "stream",
     "text": [
      "Shape of X_train =  (8, 1)\n",
      "Shape of y_train =  (8,)\n",
      "Shape of X_test =  (2, 1)\n",
      "Shape of y_test =  (2,)\n",
      "   Experience\n",
      "3           4\n",
      "4           5\n",
      "3     84000\n",
      "4    150000\n",
      "Name: Salary, dtype: int64\n"
     ]
    }
   ],
   "source": [
    "from sklearn.model_selection import train_test_split\n",
    "X_train, X_test, y_train, y_test = train_test_split(X, y, test_size=0.2, random_state=51)\n",
    "\n",
    "print('Shape of X_train = ', X_train.shape)\n",
    "print('Shape of y_train = ', y_train.shape)\n",
    "print('Shape of X_test = ', X_test.shape)\n",
    "print('Shape of y_test = ', y_test.shape)\n",
    "print(X_test)\n",
    "print(y_test)\n"
   ]
  },
  {
   "cell_type": "markdown",
   "metadata": {
    "colab_type": "text",
    "id": "udnxLNaSth6a"
   },
   "source": [
    "### Feature Scaling"
   ]
  },
  {
   "cell_type": "code",
   "execution_count": 6,
   "metadata": {
    "colab": {},
    "colab_type": "code",
    "id": "HFJxT3jZtTvg"
   },
   "outputs": [
    {
     "name": "stdout",
     "output_type": "stream",
     "text": [
      "[[-0.87235674]\n",
      " [ 0.39652579]\n",
      " [ 0.71374643]\n",
      " [ 1.03096706]\n",
      " [-1.18957738]\n",
      " [-1.50679801]\n",
      " [ 0.07930516]\n",
      " [ 1.3481877 ]]\n"
     ]
    }
   ],
   "source": [
    "from sklearn.preprocessing import StandardScaler\n",
    "sc = StandardScaler()\n",
    "sc.fit(X_train)\n",
    "X_train = sc.transform(X_train)\n",
    "X_test = sc.transform(X_test)\n",
    "print(X_train)"
   ]
  },
  {
   "cell_type": "markdown",
   "metadata": {
    "colab_type": "text",
    "id": "19ZULpxmSVFA"
   },
   "source": [
    "## Polynomial Linear Regression - ML Model Training"
   ]
  },
  {
   "cell_type": "code",
   "execution_count": 8,
   "metadata": {
    "colab": {},
    "colab_type": "code",
    "id": "PuKXRbVlSY-4"
   },
   "outputs": [],
   "source": [
    "from sklearn.linear_model import LinearRegression\n",
    "from sklearn.preprocessing import PolynomialFeatures"
   ]
  },
  {
   "cell_type": "code",
   "execution_count": 16,
   "metadata": {
    "colab": {},
    "colab_type": "code",
    "id": "EjS2ocDJSyB-"
   },
   "outputs": [
    {
     "name": "stdout",
     "output_type": "stream",
     "text": [
      "withou polynomial transfer but features scaling include \n",
      "[[-0.87235674]\n",
      " [ 0.39652579]\n",
      " [ 0.71374643]\n",
      " [ 1.03096706]\n",
      " [-1.18957738]\n",
      " [-1.50679801]\n",
      " [ 0.07930516]\n",
      " [ 1.3481877 ]]\n",
      "after polynomial transfer \n",
      "[[ 1.00000000e+00 -8.72356744e-01  7.61006289e-01 -6.63868969e-01\n",
      "   5.79130572e-01]\n",
      " [ 1.00000000e+00  3.96525793e-01  1.57232704e-01  6.23468228e-02\n",
      "   2.47221233e-02]\n",
      " [ 1.00000000e+00  7.13746427e-01  5.09433962e-01  3.63606670e-01\n",
      "   2.59522962e-01]\n",
      " [ 1.00000000e+00  1.03096706e+00  1.06289308e+00  1.09580776e+00\n",
      "   1.12974170e+00]\n",
      " [ 1.00000000e+00 -1.18957738e+00  1.41509434e+00 -1.68336421e+00\n",
      "   2.00249199e+00]\n",
      " [ 1.00000000e+00 -1.50679801e+00  2.27044025e+00 -3.42109486e+00\n",
      "   5.15489894e+00]\n",
      " [ 1.00000000e+00  7.93051586e-02  6.28930818e-03  4.98774582e-04\n",
      "   3.95553973e-05]\n",
      " [ 1.00000000e+00  1.34818770e+00  1.81761006e+00  2.45047952e+00\n",
      "   3.30370634e+00]]\n",
      "[[ 1.         -0.55513611  0.3081761  -0.17107968  0.09497251]\n",
      " [ 1.         -0.23791548  0.05660377 -0.01346691  0.00320399]]\n"
     ]
    }
   ],
   "source": [
    "poly_reg = PolynomialFeatures(degree=4)  # Experience 2 if degree 2^0=1, 2^1=2,2^2=4\n",
    "poly_reg.fit(X_train)\n",
    "#X_train transfrom polynomial format  for training \n",
    "X_train_poly = poly_reg.transform(X_train)\n",
    "#x_test trainsfer polynomial format for testing \n",
    "X_test_poly = poly_reg.transform(X_test)\n",
    "print(\"withou polynomial transfer but features scaling include \")\n",
    "print(X_train)\n",
    "print(\"after polynomial transfer \")\n",
    "print(X_train_poly)\n",
    "\n",
    "print(X_test_poly)"
   ]
  },
  {
   "cell_type": "code",
   "execution_count": 11,
   "metadata": {
    "colab": {
     "base_uri": "https://localhost:8080/",
     "height": 35
    },
    "colab_type": "code",
    "executionInfo": {
     "elapsed": 1467,
     "status": "ok",
     "timestamp": 1593018563879,
     "user": {
      "displayName": "indian ai production",
      "photoUrl": "",
      "userId": "05336710603640792650"
     },
     "user_tz": -330
    },
    "id": "8r8BFEDPTfNF",
    "outputId": "47f146fd-bc24-41b9-d7eb-2e3fc5d813d7"
   },
   "outputs": [
    {
     "data": {
      "text/plain": [
       "((8, 3), (2, 3))"
      ]
     },
     "execution_count": 11,
     "metadata": {},
     "output_type": "execute_result"
    }
   ],
   "source": [
    "X_train_poly.shape, X_test_poly.shape"
   ]
  },
  {
   "cell_type": "code",
   "execution_count": 17,
   "metadata": {
    "colab": {
     "base_uri": "https://localhost:8080/",
     "height": 35
    },
    "colab_type": "code",
    "executionInfo": {
     "elapsed": 95483,
     "status": "ok",
     "timestamp": 1593018922022,
     "user": {
      "displayName": "indian ai production",
      "photoUrl": "",
      "userId": "05336710603640792650"
     },
     "user_tz": -330
    },
    "id": "ZREfY3WvUAR-",
    "outputId": "c704b851-c3ce-41da-a0e3-e72a20a29852"
   },
   "outputs": [
    {
     "data": {
      "text/plain": [
       "LinearRegression()"
      ]
     },
     "execution_count": 17,
     "metadata": {},
     "output_type": "execute_result"
    }
   ],
   "source": [
    "lr = LinearRegression()\n",
    "\n",
    "lr.fit(X_train_poly, y_train)"
   ]
  },
  {
   "cell_type": "code",
   "execution_count": 18,
   "metadata": {
    "colab": {
     "base_uri": "https://localhost:8080/",
     "height": 35
    },
    "colab_type": "code",
    "executionInfo": {
     "elapsed": 1264,
     "status": "ok",
     "timestamp": 1593019124226,
     "user": {
      "displayName": "indian ai production",
      "photoUrl": "",
      "userId": "05336710603640792650"
     },
     "user_tz": -330
    },
    "id": "PBl1puElVmfp",
    "outputId": "9a13b286-9f26-4362-b535-caffbf8e5997"
   },
   "outputs": [
    {
     "name": "stdout",
     "output_type": "stream",
     "text": [
      "[[-0.55513611]\n",
      " [-0.23791548]]\n",
      "3     84000\n",
      "4    150000\n",
      "Name: Salary, dtype: int64\n"
     ]
    }
   ],
   "source": [
    "print(X_test)\n",
    "print(y_test)"
   ]
  },
  {
   "cell_type": "code",
   "execution_count": 19,
   "metadata": {
    "colab": {
     "base_uri": "https://localhost:8080/",
     "height": 35
    },
    "colab_type": "code",
    "executionInfo": {
     "elapsed": 1151,
     "status": "ok",
     "timestamp": 1593019275598,
     "user": {
      "displayName": "indian ai production",
      "photoUrl": "",
      "userId": "05336710603640792650"
     },
     "user_tz": -330
    },
    "id": "X66BM-RdWF6S",
    "outputId": "3dc1a817-3a9e-4ff9-ae70-b7ca83be3ab6"
   },
   "outputs": [
    {
     "data": {
      "text/plain": [
       "array([119871.4385742, 161184.2485184])"
      ]
     },
     "execution_count": 19,
     "metadata": {},
     "output_type": "execute_result"
    }
   ],
   "source": [
    "y_pred = lr.predict(X_test_poly)\n",
    "y_pred"
   ]
  },
  {
   "cell_type": "code",
   "execution_count": 15,
   "metadata": {
    "colab": {
     "base_uri": "https://localhost:8080/",
     "height": 225
    },
    "colab_type": "code",
    "executionInfo": {
     "elapsed": 1265,
     "status": "ok",
     "timestamp": 1593019291602,
     "user": {
      "displayName": "indian ai production",
      "photoUrl": "",
      "userId": "05336710603640792650"
     },
     "user_tz": -330
    },
    "id": "4yQYsHsIWRQO",
    "outputId": "693efb85-de73-4db3-a190-97f422dada99"
   },
   "outputs": [
    {
     "data": {
      "text/plain": [
       "3     84000\n",
       "4    150000\n",
       "Name: Salary, dtype: int64"
      ]
     },
     "execution_count": 15,
     "metadata": {},
     "output_type": "execute_result"
    }
   ],
   "source": [
    "y_test"
   ]
  },
  {
   "cell_type": "code",
   "execution_count": 20,
   "metadata": {
    "colab": {
     "base_uri": "https://localhost:8080/",
     "height": 35
    },
    "colab_type": "code",
    "executionInfo": {
     "elapsed": 1254,
     "status": "ok",
     "timestamp": 1593019421376,
     "user": {
      "displayName": "indian ai production",
      "photoUrl": "",
      "userId": "05336710603640792650"
     },
     "user_tz": -330
    },
    "id": "clXfyD6iWVAm",
    "outputId": "3ca64277-6eef-4e48-c0e8-ba60fc2fd6fe"
   },
   "outputs": [
    {
     "data": {
      "text/plain": [
       "(705923760.1520948, 26569.225810175478)"
      ]
     },
     "execution_count": 20,
     "metadata": {},
     "output_type": "execute_result"
    }
   ],
   "source": [
    "from sklearn.metrics import mean_squared_error\n",
    "mse = mean_squared_error(y_test, y_pred)\n",
    "rmse = np.sqrt(mse)\n",
    "\n",
    "mse, rmse"
   ]
  },
  {
   "cell_type": "code",
   "execution_count": null,
   "metadata": {},
   "outputs": [],
   "source": []
  }
 ],
 "metadata": {
  "colab": {
   "authorship_tag": "ABX9TyM1c5mcZMG4GJLLW5nmMrRZ",
   "collapsed_sections": [],
   "name": "Polynomial Regression - Bangalore House Price Prediction.ipynb",
   "provenance": []
  },
  "kernelspec": {
   "display_name": "Python 3 (ipykernel)",
   "language": "python",
   "name": "python3"
  },
  "language_info": {
   "codemirror_mode": {
    "name": "ipython",
    "version": 3
   },
   "file_extension": ".py",
   "mimetype": "text/x-python",
   "name": "python",
   "nbconvert_exporter": "python",
   "pygments_lexer": "ipython3",
   "version": "3.10.1"
  }
 },
 "nbformat": 4,
 "nbformat_minor": 1
}
