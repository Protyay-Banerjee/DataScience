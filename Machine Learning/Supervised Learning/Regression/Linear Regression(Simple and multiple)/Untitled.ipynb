{
 "cells": [
  {
   "cell_type": "code",
   "execution_count": 1,
   "id": "ccc7b588",
   "metadata": {},
   "outputs": [],
   "source": [
    "import matplotlib.pyplot as plt \n",
    "import  pandas as pd"
   ]
  },
  {
   "cell_type": "code",
   "execution_count": 2,
   "id": "072776a4",
   "metadata": {},
   "outputs": [
    {
     "data": {
      "text/html": [
       "<div>\n",
       "<style scoped>\n",
       "    .dataframe tbody tr th:only-of-type {\n",
       "        vertical-align: middle;\n",
       "    }\n",
       "\n",
       "    .dataframe tbody tr th {\n",
       "        vertical-align: top;\n",
       "    }\n",
       "\n",
       "    .dataframe thead th {\n",
       "        text-align: right;\n",
       "    }\n",
       "</style>\n",
       "<table border=\"1\" class=\"dataframe\">\n",
       "  <thead>\n",
       "    <tr style=\"text-align: right;\">\n",
       "      <th></th>\n",
       "      <th>Area</th>\n",
       "      <th>Price</th>\n",
       "    </tr>\n",
       "  </thead>\n",
       "  <tbody>\n",
       "    <tr>\n",
       "      <th>0</th>\n",
       "      <td>2600</td>\n",
       "      <td>550000</td>\n",
       "    </tr>\n",
       "    <tr>\n",
       "      <th>1</th>\n",
       "      <td>3000</td>\n",
       "      <td>565000</td>\n",
       "    </tr>\n",
       "    <tr>\n",
       "      <th>2</th>\n",
       "      <td>3200</td>\n",
       "      <td>610000</td>\n",
       "    </tr>\n",
       "    <tr>\n",
       "      <th>3</th>\n",
       "      <td>3600</td>\n",
       "      <td>680000</td>\n",
       "    </tr>\n",
       "    <tr>\n",
       "      <th>4</th>\n",
       "      <td>4000</td>\n",
       "      <td>725000</td>\n",
       "    </tr>\n",
       "  </tbody>\n",
       "</table>\n",
       "</div>"
      ],
      "text/plain": [
       "   Area   Price\n",
       "0  2600  550000\n",
       "1  3000  565000\n",
       "2  3200  610000\n",
       "3  3600  680000\n",
       "4  4000  725000"
      ]
     },
     "execution_count": 2,
     "metadata": {},
     "output_type": "execute_result"
    }
   ],
   "source": [
    "df=pd.read_csv(\"lin.csv\")\n",
    "df"
   ]
  },
  {
   "cell_type": "code",
   "execution_count": 3,
   "id": "2e597954",
   "metadata": {},
   "outputs": [
    {
     "data": {
      "text/plain": [
       "<matplotlib.collections.PathCollection at 0x18a1bf83640>"
      ]
     },
     "execution_count": 3,
     "metadata": {},
     "output_type": "execute_result"
    },
    {
     "data": {
      "image/png": "[encoded data removed]",
      "text/plain": [
       "<Figure size 432x288 with 1 Axes>"
      ]
     },
     "metadata": {
      "needs_background": "light"
     },
     "output_type": "display_data"
    }
   ],
   "source": [
    "plt.scatter(df.Area,df.Price,color='r')"
   ]
  },
  {
   "cell_type": "code",
   "execution_count": 4,
   "id": "2dca70b7",
   "metadata": {},
   "outputs": [
    {
     "name": "stdout",
     "output_type": "stream",
     "text": [
      "   Area\n",
      "0  2600\n",
      "1  3000\n",
      "2  3200\n",
      "3  3600\n",
      "4  4000\n",
      "    Price\n",
      "0  550000\n",
      "1  565000\n",
      "2  610000\n",
      "3  680000\n",
      "4  725000\n"
     ]
    }
   ],
   "source": [
    "x_train=df.drop('Price',axis=1)\n",
    "y_train=df.drop('Area',axis=1)\n",
    "print(x_train)\n",
    "print(y_train)"
   ]
  },
  {
   "cell_type": "code",
   "execution_count": 5,
   "id": "bbf21901",
   "metadata": {},
   "outputs": [],
   "source": [
    "from sklearn import linear_model "
   ]
  },
  {
   "cell_type": "markdown",
   "id": "9c708a8d",
   "metadata": {},
   "source": [
    "# Train our Model"
   ]
  },
  {
   "cell_type": "code",
   "execution_count": 6,
   "id": "044d7f61",
   "metadata": {},
   "outputs": [
    {
     "data": {
      "text/plain": [
       "LinearRegression()"
      ]
     },
     "execution_count": 6,
     "metadata": {},
     "output_type": "execute_result"
    }
   ],
   "source": [
    "model=linear_model.LinearRegression()\n",
    "model.fit(x_train,y_train)  # ( independt   , dependt )"
   ]
  },
  {
   "cell_type": "markdown",
   "id": "3edaca1f",
   "metadata": {},
   "source": [
    "# Predict our value through independ value \n"
   ]
  },
  {
   "cell_type": "code",
   "execution_count": 7,
   "id": "64d9f624",
   "metadata": {},
   "outputs": [
    {
     "name": "stderr",
     "output_type": "stream",
     "text": [
      "C:\\Users\\EASY\\AppData\\Local\\Programs\\Python\\Python310\\lib\\site-packages\\sklearn\\base.py:450: UserWarning: X does not have valid feature names, but LinearRegression was fitted with feature names\n",
      "  warnings.warn(\n"
     ]
    },
    {
     "data": {
      "text/plain": [
       "array([[750924.65753425]])"
      ]
     },
     "execution_count": 7,
     "metadata": {},
     "output_type": "execute_result"
    }
   ],
   "source": [
    "#model.predict([[3000]])   \n",
    "model.predict([[4200]])"
   ]
  },
  {
   "cell_type": "markdown",
   "id": "0d728732",
   "metadata": {},
   "source": [
    "# understand our math formula ( y=mx+b)\n",
    "m= coeffient , x=our independent value , b= intercept "
   ]
  },
  {
   "cell_type": "code",
   "execution_count": 9,
   "id": "8c3f70fb",
   "metadata": {},
   "outputs": [
    {
     "name": "stdout",
     "output_type": "stream",
     "text": [
      "[[135.78767123]]\n",
      "[180616.43835616]\n"
     ]
    }
   ],
   "source": [
    "# find m (coeffient )\n",
    "print(model.coef_)\n",
    "#find b(intercept) \n",
    "print(model.intercept_)"
   ]
  },
  {
   "cell_type": "code",
   "execution_count": 10,
   "id": "36d24c2b",
   "metadata": {},
   "outputs": [
    {
     "name": "stdout",
     "output_type": "stream",
     "text": [
      "750924.6575221601\n"
     ]
    }
   ],
   "source": [
    "y=135.78767123 * 4200 + 180616.43835616\n",
    "print(y) # out[17] value and calculation value both are same "
   ]
  },
  {
   "cell_type": "markdown",
   "id": "ea317dcd",
   "metadata": {},
   "source": [
    "# all area predict value (Graphically Represent)"
   ]
  },
  {
   "cell_type": "code",
   "execution_count": 45,
   "id": "d34ed8f9",
   "metadata": {},
   "outputs": [
    {
     "name": "stdout",
     "output_type": "stream",
     "text": [
      "[[533664.38356164]\n",
      " [587979.45205479]\n",
      " [615136.98630137]\n",
      " [669452.05479452]\n",
      " [723767.12328767]]\n",
      "    Price\n",
      "0  550000\n",
      "1  565000\n",
      "2  610000\n",
      "3  680000\n",
      "4  725000\n"
     ]
    }
   ],
   "source": [
    "predt=model.predict(x_train)\n",
    "print(predt)\n",
    "print(y_train)"
   ]
  },
  {
   "cell_type": "code",
   "execution_count": 47,
   "id": "8c797c18",
   "metadata": {},
   "outputs": [
    {
     "name": "stdout",
     "output_type": "stream",
     "text": [
      "   Area          Price\n",
      "0  2600  533664.383562\n",
      "1  3000  587979.452055\n",
      "2  3200  615136.986301\n",
      "3  3600  669452.054795\n",
      "4  4000  723767.123288\n",
      "   Area   Price\n",
      "0  2600  550000\n",
      "1  3000  565000\n",
      "2  3200  610000\n",
      "3  3600  680000\n",
      "4  4000  725000\n"
     ]
    }
   ],
   "source": [
    "#copy x_train to another variable \n",
    "predt1=x_train\n",
    "predt1['Price']=predt\n",
    "print(predt1)\n",
    "print(df)"
   ]
  },
  {
   "cell_type": "code",
   "execution_count": 48,
   "id": "75b8ea6a",
   "metadata": {},
   "outputs": [],
   "source": [
    "import seaborn as sns "
   ]
  },
  {
   "cell_type": "code",
   "execution_count": 49,
   "id": "7550077a",
   "metadata": {},
   "outputs": [
    {
     "data": {
      "text/plain": [
       "<AxesSubplot:xlabel='Area', ylabel='Price'>"
      ]
     },
     "execution_count": 49,
     "metadata": {},
     "output_type": "execute_result"
    },
    {
     "data": {
      "image/png": "[encoded data removed]",
      "text/plain": [
       "<Figure size 432x288 with 1 Axes>"
      ]
     },
     "metadata": {
      "needs_background": "light"
     },
     "output_type": "display_data"
    }
   ],
   "source": [
    "sns.scatterplot(x=\"Area\",y=\"Price\",data=df,color='g',label=\"original value \")\n",
    "\n",
    "\n",
    "\n",
    "sns.scatterplot(x=\"Area\",y=\"Price\",data=predt1,color='r',label=\"Predict value \")"
   ]
  },
  {
   "cell_type": "code",
   "execution_count": 50,
   "id": "c39ee05e",
   "metadata": {},
   "outputs": [
    {
     "data": {
      "image/png": "[encoded data removed]",
      "text/plain": [
       "<Figure size 432x288 with 1 Axes>"
      ]
     },
     "metadata": {
      "needs_background": "light"
     },
     "output_type": "display_data"
    }
   ],
   "source": [
    "sns.lineplot(x ='Area', y = 'Price', data=predt1,dashes=False,markers = True,color=\"r\" , label=\"Predict\",)\n",
    "\n",
    "sns.lineplot(x ='Area', y = 'Price', data=df,dashes=False,markers = True,color=\"g\" , label=\"Original\",)\n",
    "plt.legend()\n",
    "plt.show()"
   ]
  },
  {
   "cell_type": "markdown",
   "id": "d4558170",
   "metadata": {},
   "source": [
    "# Linear Regression Multiple Variables"
   ]
  },
  {
   "cell_type": "code",
   "execution_count": 11,
   "id": "196a8f4b",
   "metadata": {},
   "outputs": [
    {
     "data": {
      "text/html": [
       "<div>\n",
       "<style scoped>\n",
       "    .dataframe tbody tr th:only-of-type {\n",
       "        vertical-align: middle;\n",
       "    }\n",
       "\n",
       "    .dataframe tbody tr th {\n",
       "        vertical-align: top;\n",
       "    }\n",
       "\n",
       "    .dataframe thead th {\n",
       "        text-align: right;\n",
       "    }\n",
       "</style>\n",
       "<table border=\"1\" class=\"dataframe\">\n",
       "  <thead>\n",
       "    <tr style=\"text-align: right;\">\n",
       "      <th></th>\n",
       "      <th>area</th>\n",
       "      <th>bed</th>\n",
       "      <th>age</th>\n",
       "      <th>price</th>\n",
       "    </tr>\n",
       "  </thead>\n",
       "  <tbody>\n",
       "    <tr>\n",
       "      <th>0</th>\n",
       "      <td>2600</td>\n",
       "      <td>3.0</td>\n",
       "      <td>20</td>\n",
       "      <td>550000</td>\n",
       "    </tr>\n",
       "    <tr>\n",
       "      <th>1</th>\n",
       "      <td>3000</td>\n",
       "      <td>4.0</td>\n",
       "      <td>15</td>\n",
       "      <td>565000</td>\n",
       "    </tr>\n",
       "    <tr>\n",
       "      <th>2</th>\n",
       "      <td>3200</td>\n",
       "      <td>NaN</td>\n",
       "      <td>18</td>\n",
       "      <td>610000</td>\n",
       "    </tr>\n",
       "    <tr>\n",
       "      <th>3</th>\n",
       "      <td>3600</td>\n",
       "      <td>3.0</td>\n",
       "      <td>30</td>\n",
       "      <td>595000</td>\n",
       "    </tr>\n",
       "    <tr>\n",
       "      <th>4</th>\n",
       "      <td>4000</td>\n",
       "      <td>5.0</td>\n",
       "      <td>8</td>\n",
       "      <td>760000</td>\n",
       "    </tr>\n",
       "    <tr>\n",
       "      <th>5</th>\n",
       "      <td>4100</td>\n",
       "      <td>6.0</td>\n",
       "      <td>8</td>\n",
       "      <td>810000</td>\n",
       "    </tr>\n",
       "  </tbody>\n",
       "</table>\n",
       "</div>"
      ],
      "text/plain": [
       "   area  bed  age   price\n",
       "0  2600  3.0   20  550000\n",
       "1  3000  4.0   15  565000\n",
       "2  3200  NaN   18  610000\n",
       "3  3600  3.0   30  595000\n",
       "4  4000  5.0    8  760000\n",
       "5  4100  6.0    8  810000"
      ]
     },
     "execution_count": 11,
     "metadata": {},
     "output_type": "execute_result"
    }
   ],
   "source": [
    "df=pd.read_csv(\"mlin.csv\")\n",
    "df.head(6)"
   ]
  },
  {
   "cell_type": "code",
   "execution_count": 12,
   "id": "fad180cb",
   "metadata": {},
   "outputs": [],
   "source": [
    "df.bed=df.bed.fillna(df.bed.median())"
   ]
  },
  {
   "cell_type": "code",
   "execution_count": 53,
   "id": "9cbb4d29",
   "metadata": {},
   "outputs": [
    {
     "data": {
      "text/html": [
       "<div>\n",
       "<style scoped>\n",
       "    .dataframe tbody tr th:only-of-type {\n",
       "        vertical-align: middle;\n",
       "    }\n",
       "\n",
       "    .dataframe tbody tr th {\n",
       "        vertical-align: top;\n",
       "    }\n",
       "\n",
       "    .dataframe thead th {\n",
       "        text-align: right;\n",
       "    }\n",
       "</style>\n",
       "<table border=\"1\" class=\"dataframe\">\n",
       "  <thead>\n",
       "    <tr style=\"text-align: right;\">\n",
       "      <th></th>\n",
       "      <th>area</th>\n",
       "      <th>bed</th>\n",
       "      <th>age</th>\n",
       "      <th>price</th>\n",
       "    </tr>\n",
       "  </thead>\n",
       "  <tbody>\n",
       "    <tr>\n",
       "      <th>0</th>\n",
       "      <td>2600</td>\n",
       "      <td>3.0</td>\n",
       "      <td>20</td>\n",
       "      <td>550000</td>\n",
       "    </tr>\n",
       "    <tr>\n",
       "      <th>1</th>\n",
       "      <td>3000</td>\n",
       "      <td>4.0</td>\n",
       "      <td>15</td>\n",
       "      <td>565000</td>\n",
       "    </tr>\n",
       "    <tr>\n",
       "      <th>2</th>\n",
       "      <td>3200</td>\n",
       "      <td>4.0</td>\n",
       "      <td>18</td>\n",
       "      <td>610000</td>\n",
       "    </tr>\n",
       "    <tr>\n",
       "      <th>3</th>\n",
       "      <td>3600</td>\n",
       "      <td>3.0</td>\n",
       "      <td>30</td>\n",
       "      <td>595000</td>\n",
       "    </tr>\n",
       "    <tr>\n",
       "      <th>4</th>\n",
       "      <td>4000</td>\n",
       "      <td>5.0</td>\n",
       "      <td>8</td>\n",
       "      <td>760000</td>\n",
       "    </tr>\n",
       "    <tr>\n",
       "      <th>5</th>\n",
       "      <td>4100</td>\n",
       "      <td>6.0</td>\n",
       "      <td>8</td>\n",
       "      <td>810000</td>\n",
       "    </tr>\n",
       "  </tbody>\n",
       "</table>\n",
       "</div>"
      ],
      "text/plain": [
       "   area  bed  age   price\n",
       "0  2600  3.0   20  550000\n",
       "1  3000  4.0   15  565000\n",
       "2  3200  4.0   18  610000\n",
       "3  3600  3.0   30  595000\n",
       "4  4000  5.0    8  760000\n",
       "5  4100  6.0    8  810000"
      ]
     },
     "execution_count": 53,
     "metadata": {},
     "output_type": "execute_result"
    }
   ],
   "source": [
    "df"
   ]
  },
  {
   "cell_type": "code",
   "execution_count": 13,
   "id": "684717d5",
   "metadata": {},
   "outputs": [
    {
     "name": "stdout",
     "output_type": "stream",
     "text": [
      "   area  bed  age\n",
      "0  2600  3.0   20\n",
      "1  3000  4.0   15\n",
      "2  3200  4.0   18\n",
      "3  3600  3.0   30\n",
      "4  4000  5.0    8\n",
      "5  4100  6.0    8\n",
      "    price\n",
      "0  550000\n",
      "1  565000\n",
      "2  610000\n",
      "3  595000\n",
      "4  760000\n",
      "5  810000\n"
     ]
    }
   ],
   "source": [
    "\n",
    "y_train=df.drop(['area','bed','age'],axis=1)\n",
    "x_train=df.drop('price',axis=1)\n",
    "print(x_train)\n",
    "print(y_train)"
   ]
  },
  {
   "cell_type": "code",
   "execution_count": 14,
   "id": "dea2612f",
   "metadata": {},
   "outputs": [
    {
     "data": {
      "text/plain": [
       "LinearRegression()"
      ]
     },
     "execution_count": 14,
     "metadata": {},
     "output_type": "execute_result"
    }
   ],
   "source": [
    "model=linear_model.LinearRegression()\n",
    "\n",
    "model.fit(x_train,y_train)"
   ]
  },
  {
   "cell_type": "code",
   "execution_count": 15,
   "id": "5f087fdd",
   "metadata": {},
   "outputs": [
    {
     "name": "stderr",
     "output_type": "stream",
     "text": [
      "C:\\Users\\EASY\\AppData\\Local\\Programs\\Python\\Python310\\lib\\site-packages\\sklearn\\base.py:450: UserWarning: X does not have valid feature names, but LinearRegression was fitted with feature names\n",
      "  warnings.warn(\n"
     ]
    },
    {
     "data": {
      "text/plain": [
       "array([[602590.07937407]])"
      ]
     },
     "execution_count": 15,
     "metadata": {},
     "output_type": "execute_result"
    }
   ],
   "source": [
    "model.predict([[3000, 4.0 ,  15]])"
   ]
  },
  {
   "cell_type": "markdown",
   "id": "bd86f408",
   "metadata": {},
   "source": [
    "# Predict mat Formula (price=m1 *area + m2 * bed +m3*age+b)\n",
    "m1=coefficient , b=intercept"
   ]
  },
  {
   "cell_type": "code",
   "execution_count": 21,
   "id": "9e58bfd2",
   "metadata": {},
   "outputs": [
    {
     "data": {
      "text/plain": [
       "array([[  112.06244194, 23388.88007794, -3231.71790863]])"
      ]
     },
     "execution_count": 21,
     "metadata": {},
     "output_type": "execute_result"
    }
   ],
   "source": [
    "model.coef_"
   ]
  },
  {
   "cell_type": "code",
   "execution_count": 22,
   "id": "ee04f56b",
   "metadata": {},
   "outputs": [
    {
     "data": {
      "text/plain": [
       "array([221323.0018654])"
      ]
     },
     "execution_count": 22,
     "metadata": {},
     "output_type": "execute_result"
    }
   ],
   "source": [
    "model.intercept_"
   ]
  },
  {
   "cell_type": "code",
   "execution_count": 57,
   "id": "1cc364d8",
   "metadata": {},
   "outputs": [
    {
     "data": {
      "text/plain": [
       "602590.07936771"
      ]
     },
     "execution_count": 57,
     "metadata": {},
     "output_type": "execute_result"
    }
   ],
   "source": [
    "(112.06244194*3000) +(23388.88007794*4.0)+(-3231.71790863*15) +221323.0018654"
   ]
  },
  {
   "cell_type": "code",
   "execution_count": 58,
   "id": "751c3ee8",
   "metadata": {},
   "outputs": [
    {
     "name": "stdout",
     "output_type": "stream",
     "text": [
      "[[518217.63297611]\n",
      " [602590.07937407]\n",
      " [615307.4140366 ]\n",
      " [597962.89583192]\n",
      " [760663.42675457]\n",
      " [795258.55102673]]\n"
     ]
    }
   ],
   "source": [
    "predt=model.predict(x_train)\n",
    "print(predt)  "
   ]
  },
  {
   "cell_type": "code",
   "execution_count": 60,
   "id": "fb22c7cf",
   "metadata": {},
   "outputs": [
    {
     "name": "stdout",
     "output_type": "stream",
     "text": [
      "   area  bed  age          price\n",
      "0  2600  3.0   20  518217.632976\n",
      "1  3000  4.0   15  602590.079374\n",
      "2  3200  4.0   18  615307.414037\n",
      "3  3600  3.0   30  597962.895832\n",
      "4  4000  5.0    8  760663.426755\n",
      "5  4100  6.0    8  795258.551027\n",
      "   area  bed  age   price\n",
      "0  2600  3.0   20  550000\n",
      "1  3000  4.0   15  565000\n",
      "2  3200  4.0   18  610000\n",
      "3  3600  3.0   30  595000\n",
      "4  4000  5.0    8  760000\n",
      "5  4100  6.0    8  810000\n"
     ]
    }
   ],
   "source": [
    "#copy x_train to another variable \n",
    "predt1=x_train\n",
    "predt1['price']=predt\n",
    "print(predt1)\n",
    "print(df)"
   ]
  },
  {
   "cell_type": "code",
   "execution_count": 61,
   "id": "5c25e2ac",
   "metadata": {},
   "outputs": [
    {
     "data": {
      "text/plain": [
       "<AxesSubplot:xlabel='area', ylabel='price'>"
      ]
     },
     "execution_count": 61,
     "metadata": {},
     "output_type": "execute_result"
    },
    {
     "data": {
      "image/png": "[encoded data removed]",
      "text/plain": [
       "<Figure size 432x288 with 1 Axes>"
      ]
     },
     "metadata": {
      "needs_background": "light"
     },
     "output_type": "display_data"
    }
   ],
   "source": [
    "sns.scatterplot(x=\"area\",y=\"price\",data=df,color='g',label=\"original value \")\n",
    "sns.scatterplot(x=\"area\",y=\"price\",data=predt1,color='r',label=\"Predict value \")"
   ]
  },
  {
   "cell_type": "code",
   "execution_count": 62,
   "id": "a69eeb6d",
   "metadata": {},
   "outputs": [
    {
     "data": {
      "image/png": "[encoded data removed]",
      "text/plain": [
       "<Figure size 432x288 with 1 Axes>"
      ]
     },
     "metadata": {
      "needs_background": "light"
     },
     "output_type": "display_data"
    }
   ],
   "source": [
    "sns.lineplot(x ='area', y = 'price', data=predt1,dashes=False,markers = True,color=\"r\" , label=\"Predict\",)\n",
    "\n",
    "sns.lineplot(x ='area', y = 'price', data=df,dashes=False,markers = True,color=\"g\" , label=\"Original\",)\n",
    "plt.legend()\n",
    "plt.show()"
   ]
  },
  {
   "cell_type": "markdown",
   "id": "b1690b2c",
   "metadata": {},
   "source": [
    "# Error(Mean Square error & Root Mean Square error)"
   ]
  },
  {
   "cell_type": "code",
   "execution_count": 63,
   "id": "bdc007e6",
   "metadata": {},
   "outputs": [
    {
     "name": "stdout",
     "output_type": "stream",
     "text": [
      "0    550000\n",
      "1    565000\n",
      "2    610000\n",
      "3    595000\n",
      "4    760000\n",
      "5    810000\n",
      "Name: price, dtype: int64\n",
      "0    518217.632976\n",
      "1    602590.079374\n",
      "2    615307.414037\n",
      "3    597962.895832\n",
      "4    760663.426755\n",
      "5    795258.551027\n",
      "Name: price, dtype: float64\n"
     ]
    }
   ],
   "source": [
    "# actual value of multiple Linear regression\n",
    "print(y_train['price'])\n",
    "#multiple Linear regression predict value \n",
    "print(predt1['price'])"
   ]
  },
  {
   "cell_type": "code",
   "execution_count": 64,
   "id": "c1c5aaf9",
   "metadata": {},
   "outputs": [],
   "source": [
    "from sklearn.metrics import mean_squared_error\n",
    "import numpy as np"
   ]
  },
  {
   "cell_type": "code",
   "execution_count": 65,
   "id": "1c1ffb9a",
   "metadata": {
    "scrolled": true
   },
   "outputs": [
    {
     "name": "stdout",
     "output_type": "stream",
     "text": [
      "MSE =  446305128.22449404\n",
      "RMSE =  21125.93496687174\n"
     ]
    }
   ],
   "source": [
    "mse = mean_squared_error(y_train['price'],predt1['price'])\n",
    "rmse = np.sqrt(mse)\n",
    " \n",
    "print('MSE = ', mse)\n",
    "print('RMSE = ', rmse)"
   ]
  },
  {
   "cell_type": "code",
   "execution_count": null,
   "id": "afd60d6b",
   "metadata": {},
   "outputs": [],
   "source": []
  }
 ],
 "metadata": {
  "kernelspec": {
   "display_name": "Python 3 (ipykernel)",
   "language": "python",
   "name": "python3"
  },
  "language_info": {
   "codemirror_mode": {
    "name": "ipython",
    "version": 3
   },
   "file_extension": ".py",
   "mimetype": "text/x-python",
   "name": "python",
   "nbconvert_exporter": "python",
   "pygments_lexer": "ipython3",
   "version": "3.10.1"
  }
 },
 "nbformat": 4,
 "nbformat_minor": 5
}
