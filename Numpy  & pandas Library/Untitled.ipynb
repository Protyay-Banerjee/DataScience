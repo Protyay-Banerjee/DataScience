{
 "cells": [
  {
   "cell_type": "code",
   "execution_count": 1,
   "id": "504f68cc",
   "metadata": {},
   "outputs": [],
   "source": [
    "import numpy as np"
   ]
  },
  {
   "cell_type": "markdown",
   "id": "fedf60ed",
   "metadata": {},
   "source": [
    "# Difference between List & numpy "
   ]
  },
  {
   "cell_type": "code",
   "execution_count": 2,
   "id": "f2bc2227",
   "metadata": {
    "scrolled": true
   },
   "outputs": [
    {
     "name": "stdout",
     "output_type": "stream",
     "text": [
      "2611315676912\n",
      "2609348563312\n",
      "2609348563504\n"
     ]
    }
   ],
   "source": [
    "#List (memory Address)\n",
    "l=['1','yu','90']\n",
    "print(id(l[0]))\n",
    "print(id(l[1]))\n",
    "print(id(l[2]))\n"
   ]
  },
  {
   "cell_type": "code",
   "execution_count": 3,
   "id": "63834f3c",
   "metadata": {},
   "outputs": [
    {
     "name": "stdout",
     "output_type": "stream",
     "text": [
      "2609348322064\n",
      "2609348322064\n",
      "2609348322064\n"
     ]
    }
   ],
   "source": [
    "#numpy Array(memory Address) \n",
    "s=np.array(['1','yu','90'])\n",
    "print(id(s[0]))\n",
    "print(id(s[1]))\n",
    "print(id(s[2]))"
   ]
  },
  {
   "cell_type": "code",
   "execution_count": 4,
   "id": "95b36838",
   "metadata": {},
   "outputs": [
    {
     "name": "stdout",
     "output_type": "stream",
     "text": [
      "85176\n",
      "40112\n"
     ]
    }
   ],
   "source": [
    "# memory size diference  \n",
    "import sys\n",
    "#list \n",
    "ll=[x for x in range(10000)]\n",
    "print(sys.getsizeof(ll))\n",
    "# numpy \n",
    "ss=np.array(ll)\n",
    "print(sys.getsizeof(ss))\n"
   ]
  },
  {
   "cell_type": "code",
   "execution_count": 9,
   "id": "4293fbf4",
   "metadata": {},
   "outputs": [
    {
     "name": "stdout",
     "output_type": "stream",
     "text": [
      "62.3 ns ± 2.71 ns per loop (mean ± std. dev. of 7 runs, 10,000,000 loops each)\n",
      "50.5 ns ± 0.688 ns per loop (mean ± std. dev. of 7 runs, 10,000,000 loops each)\n"
     ]
    }
   ],
   "source": [
    "#time Complexiy\n",
    "%timeit ll\n",
    "\n",
    "%timeit ss\n",
    "\n"
   ]
  },
  {
   "cell_type": "markdown",
   "id": "ed29d478",
   "metadata": {},
   "source": [
    "# 1D & 2D array create"
   ]
  },
  {
   "cell_type": "code",
   "execution_count": 4,
   "id": "263304bc",
   "metadata": {},
   "outputs": [
    {
     "name": "stdout",
     "output_type": "stream",
     "text": [
      "[10 12 15]\n",
      "10\n",
      "[[10 12 15]\n",
      " [20 30 35]]\n",
      "<class 'numpy.ndarray'>\n"
     ]
    }
   ],
   "source": [
    "#one Dimension Array\n",
    "s=np.array([10,12,15])\n",
    "print(s)\n",
    "\n",
    "#Two Dimension Array\n",
    "s1=np.array([[10,12,15],[20,30,35]])\n",
    "print(s1[0][0])\n",
    "print(s1)\n",
    "#An array class in Numpy is called as ndarray\n",
    "print(type(s1))"
   ]
  },
  {
   "cell_type": "markdown",
   "id": "fad9ce45",
   "metadata": {},
   "source": [
    "# 3d or N Dimension array create "
   ]
  },
  {
   "cell_type": "code",
   "execution_count": 2,
   "id": "097ff8e6",
   "metadata": {},
   "outputs": [
    {
     "data": {
      "text/plain": [
       "array([[[1, 2],\n",
       "        [3, 4]],\n",
       "\n",
       "       [[5, 6],\n",
       "        [7, 8]]])"
      ]
     },
     "execution_count": 2,
     "metadata": {},
     "output_type": "execute_result"
    }
   ],
   "source": [
    "x = np.array([[[1, 2], [3, 4]], [[5, 6], [7, 8]]])\n",
    "x"
   ]
  },
  {
   "cell_type": "markdown",
   "id": "1ca3e285",
   "metadata": {},
   "source": [
    "# widgets use "
   ]
  },
  {
   "cell_type": "code",
   "execution_count": 13,
   "id": "0d19e1bb",
   "metadata": {},
   "outputs": [
    {
     "data": {
      "application/vnd.jupyter.widget-view+json": {
       "model_id": "bcf615b45e4847548ec3699b33dc5bce",
       "version_major": 2,
       "version_minor": 0
      },
      "text/plain": [
       "interactive(children=(Dropdown(description='Choose', options=('[10,12,15]', '[20,30,40]'), value='[10,12,15]')…"
      ]
     },
     "metadata": {},
     "output_type": "display_data"
    }
   ],
   "source": [
    "import ipywidgets as wid\n",
    "def ab(Choose=[]):\n",
    "    s=np.array(Choose)\n",
    "    print(s)\n",
    "    \n",
    "wid.interact(ab,Choose=['[10,12,15]','[20,30,40]']);"
   ]
  },
  {
   "cell_type": "markdown",
   "id": "2cd15442",
   "metadata": {},
   "source": [
    "# Common Features(Numpy Array)"
   ]
  },
  {
   "cell_type": "code",
   "execution_count": 17,
   "id": "09939175",
   "metadata": {},
   "outputs": [
    {
     "name": "stdout",
     "output_type": "stream",
     "text": [
      "dimension 1\n",
      "Shape (4,)\n",
      "Size 4\n",
      "Length 4\n",
      "type <class 'numpy.ndarray'>\n",
      "................................................................\n",
      "dimension 2\n",
      "Shape (2, 4)\n",
      "Size 8\n",
      "Length 2\n",
      "type <class 'numpy.ndarray'>\n"
     ]
    }
   ],
   "source": [
    "#one Dimension Array \n",
    "s=np.array([1,2,3,4])\n",
    "print(\"dimension\",s.ndim)\n",
    "print(\"Shape\",s.shape)\n",
    "print(\"Size\",s.size)\n",
    "print(\"Length\",len(s))\n",
    "print(\"type\",type(s))\n",
    "#2 Dimension Array\n",
    "\n",
    "print(\"................................................................\")\n",
    "s1=np.array([[1,2,3,4],[5,6,7,8]])\n",
    "print(\"dimension\",s1.ndim)\n",
    "print(\"Shape\",s1.shape)\n",
    "print(\"Size\",s1.size)\n",
    "print(\"Length\",len(s1))\n",
    "print(\"type\",type(s1))\n",
    "\n",
    "#converet Data Type \n",
    "# s=s.astype(int)\n"
   ]
  },
  {
   "cell_type": "markdown",
   "id": "8284e7a0",
   "metadata": {},
   "source": [
    "# Zero Matrix & perticular value input "
   ]
  },
  {
   "cell_type": "code",
   "execution_count": 12,
   "id": "07b3c953",
   "metadata": {
    "scrolled": false
   },
   "outputs": [
    {
     "name": "stdout",
     "output_type": "stream",
     "text": [
      "[[0. 0.]]\n",
      "[[12.  0.]]\n",
      "[[10 10]\n",
      " [10 10]\n",
      " [10 10]]\n"
     ]
    }
   ],
   "source": [
    "s1=np.zeros((1,2)) # 1=Row and 2=Column np.zeros(shape,dtype)\n",
    "#s1=np.zeros((2,2), dtype=bool)\n",
    "#s1=np.ones((1,2))\n",
    "print(s1)\n",
    "s1[0][0]=12 #replace value \n",
    "print(s1)\n",
    "#3=row and 2=column and value=10 \n",
    "s2=np.full((3,2),10) \n",
    "print(s2)"
   ]
  },
  {
   "cell_type": "markdown",
   "id": "9bc41be2",
   "metadata": {},
   "source": [
    "# Range Define (1D Array)"
   ]
  },
  {
   "cell_type": "code",
   "execution_count": 22,
   "id": "d6be1ee2",
   "metadata": {},
   "outputs": [
    {
     "name": "stdout",
     "output_type": "stream",
     "text": [
      "[10 11 12 13 14 15 16 17 18 19]\n",
      "[10 15 20 25 30 35 40 45]\n"
     ]
    }
   ],
   "source": [
    "#Range define \n",
    "s3=np.arange(10,20) # s3 value is 10 to 19\n",
    "print(s3)\n",
    "\n",
    "#increase value with 5\n",
    "s4=np.arange(10,50,5) # increase value 5\n",
    "print(s4)"
   ]
  },
  {
   "cell_type": "markdown",
   "id": "f920c75b",
   "metadata": {},
   "source": [
    "# Range Define (2D Array)"
   ]
  },
  {
   "cell_type": "code",
   "execution_count": 2,
   "id": "25373042",
   "metadata": {},
   "outputs": [
    {
     "name": "stdout",
     "output_type": "stream",
     "text": [
      "[10 11 12 13 14 15 16 17 18 19]\n"
     ]
    }
   ],
   "source": [
    "#arange method use through two dimension Array \n",
    "#np.array([1st column ..[1st raw,2nd raw],2nd column...[fst row, 2nd row ]])\n",
    "\n",
    "s5=np.array([[np.arange(10,20)],[np.arange(20,30)]])\n",
    "\n",
    "\n",
    "#print(s5)\n",
    "\n",
    "print(s5[0][0]) #1st row\n",
    "#print(s5[1][0]) # 2nd row "
   ]
  },
  {
   "cell_type": "markdown",
   "id": "ad20a71c",
   "metadata": {},
   "source": [
    "# random number generate "
   ]
  },
  {
   "cell_type": "code",
   "execution_count": 6,
   "id": "8593af58",
   "metadata": {},
   "outputs": [
    {
     "name": "stdout",
     "output_type": "stream",
     "text": [
      "6\n"
     ]
    }
   ],
   "source": [
    "#random number generate \n",
    "s6=np.random.randint(1,7) # one type of luddu game \n",
    "print(s6)\n"
   ]
  },
  {
   "cell_type": "markdown",
   "id": "a6b3c5b4",
   "metadata": {},
   "source": [
    "# How many row and column in our array "
   ]
  },
  {
   "cell_type": "code",
   "execution_count": 7,
   "id": "6881e237",
   "metadata": {},
   "outputs": [
    {
     "name": "stdout",
     "output_type": "stream",
     "text": [
      "(2, 3)\n"
     ]
    }
   ],
   "source": [
    "#shape function that provide how amny row and column \n",
    "s7=np.array([[10,12,15],[20,30,35]])\n",
    "print(s7.shape) # how many row and column \n"
   ]
  },
  {
   "cell_type": "markdown",
   "id": "2e9b7add",
   "metadata": {},
   "source": [
    "# Matrix Shape change"
   ]
  },
  {
   "cell_type": "code",
   "execution_count": 8,
   "id": "011aed7e",
   "metadata": {},
   "outputs": [
    {
     "name": "stdout",
     "output_type": "stream",
     "text": [
      "[[10 12]\n",
      " [15 20]\n",
      " [30 35]]\n"
     ]
    }
   ],
   "source": [
    "# if you want to change row and column so change it \n",
    "s7.shape=(3,2) \n",
    "print(s7)"
   ]
  },
  {
   "cell_type": "markdown",
   "id": "aad8358c",
   "metadata": {},
   "source": [
    "# Linespace Function( start point , end point , how many number )"
   ]
  },
  {
   "cell_type": "code",
   "execution_count": 13,
   "id": "36e99c41",
   "metadata": {},
   "outputs": [
    {
     "name": "stdout",
     "output_type": "stream",
     "text": [
      "[2.   2.25 2.5  2.75 3.  ] \n",
      "\n"
     ]
    }
   ],
   "source": [
    "# restep set to True\n",
    "print(np.linspace(2.0, 3.0, num=5), \"\\n\")"
   ]
  },
  {
   "cell_type": "markdown",
   "id": "78bf3a0c",
   "metadata": {},
   "source": [
    "# Ravel Function 2d array convert into 1d array "
   ]
  },
  {
   "cell_type": "code",
   "execution_count": 2,
   "id": "6d9eb383",
   "metadata": {},
   "outputs": [
    {
     "name": "stdout",
     "output_type": "stream",
     "text": [
      "[[10 12 15]\n",
      " [20 30 35]]\n",
      "[10 12 15 20 30 35]\n"
     ]
    }
   ],
   "source": [
    "#shape function that provide how amny row and column \n",
    "a=np.array([[10,12,15],[20,30,35]])\n",
    "print(a)\n",
    "print(a.ravel())\n",
    "\n"
   ]
  },
  {
   "cell_type": "markdown",
   "id": "cd254f28",
   "metadata": {},
   "source": [
    "# Transpose Matrix"
   ]
  },
  {
   "cell_type": "code",
   "execution_count": 10,
   "id": "a66a5d49",
   "metadata": {},
   "outputs": [
    {
     "name": "stdout",
     "output_type": "stream",
     "text": [
      "[[10 20]\n",
      " [12 30]\n",
      " [15 35]]\n"
     ]
    }
   ],
   "source": [
    "a=np.array([[10,12,15],[20,30,35]])\n",
    "print(a.transpose())"
   ]
  },
  {
   "cell_type": "markdown",
   "id": "82ceaab6",
   "metadata": {},
   "source": [
    "# Maximum and minimum value return 1D and 2D array "
   ]
  },
  {
   "cell_type": "code",
   "execution_count": 13,
   "id": "68091e77",
   "metadata": {},
   "outputs": [
    {
     "name": "stdout",
     "output_type": "stream",
     "text": [
      "40\n",
      "10\n",
      "[40 35]\n",
      "[35 40 20]\n"
     ]
    }
   ],
   "source": [
    "a=np.array([[10,40,15],[35,30,20]])\n",
    "print(a.max())\n",
    "print(a.min())\n",
    "# row wise check & maximum value return \n",
    "print(a.max(axis=1))\n",
    "# column wise check & maximum value return \n",
    "print(a.max(axis=0))"
   ]
  },
  {
   "cell_type": "markdown",
   "id": "99edfee2",
   "metadata": {},
   "source": [
    "# Extra row Add (create Another row)"
   ]
  },
  {
   "cell_type": "code",
   "execution_count": 7,
   "id": "a2bf8af2",
   "metadata": {},
   "outputs": [
    {
     "data": {
      "text/plain": [
       "array([[10, 12, 15, 30],\n",
       "       [20, 30, 40, 10]])"
      ]
     },
     "execution_count": 7,
     "metadata": {},
     "output_type": "execute_result"
    }
   ],
   "source": [
    "#another row add\n",
    "s8=np.array([10,12,15,30])\n",
    "s9=np.array([20,30,40,10])\n",
    "\n",
    "np.vstack((s8,s9)) # v=vertical wise add \n"
   ]
  },
  {
   "cell_type": "markdown",
   "id": "be3d7396",
   "metadata": {},
   "source": [
    "# fst row value and second row  Add"
   ]
  },
  {
   "cell_type": "code",
   "execution_count": 4,
   "id": "3bdbe99d",
   "metadata": {},
   "outputs": [
    {
     "data": {
      "text/plain": [
       "array([[10, 20],\n",
       "       [12, 30],\n",
       "       [15, 40],\n",
       "       [30, 10]])"
      ]
     },
     "execution_count": 4,
     "metadata": {},
     "output_type": "execute_result"
    }
   ],
   "source": [
    "s8=np.array([10,12,15,30])\n",
    "s9=np.array([20,30,40,10])\n",
    "\n",
    "np.column_stack((s8,s9))"
   ]
  },
  {
   "cell_type": "markdown",
   "id": "248717e0",
   "metadata": {},
   "source": [
    "# Extra row Add on the Same row"
   ]
  },
  {
   "cell_type": "code",
   "execution_count": 15,
   "id": "146ffa25",
   "metadata": {},
   "outputs": [
    {
     "data": {
      "text/plain": [
       "array([10, 12, 15, 30, 20, 30, 40, 10])"
      ]
     },
     "execution_count": 15,
     "metadata": {},
     "output_type": "execute_result"
    }
   ],
   "source": [
    "s8=np.array([10,12,15,30])\n",
    "s9=np.array([20,30,40,10])\n",
    "np.hstack((s8,s9)) # h=horizontal "
   ]
  },
  {
   "cell_type": "markdown",
   "id": "043cffdc",
   "metadata": {},
   "source": [
    "# Common Value Find and Differ value Find "
   ]
  },
  {
   "cell_type": "code",
   "execution_count": 9,
   "id": "068af584",
   "metadata": {},
   "outputs": [
    {
     "name": "stdout",
     "output_type": "stream",
     "text": [
      "[10 30]\n",
      "[20 40]\n"
     ]
    }
   ],
   "source": [
    "s8=np.array([10,12,15,30])\n",
    "s9=np.array([20,30,40,10])\n",
    "# common value find \n",
    "c=np.intersect1d(s8,s9)\n",
    "print(c)\n",
    "# differ value return( s8 wise search) \n",
    "c1=np.setdiff1d(s8,s9) # show s8 value that value not include in our s9\n",
    "print(c1)"
   ]
  },
  {
   "cell_type": "markdown",
   "id": "427ac05e",
   "metadata": {},
   "source": [
    "# Addition 1D Array \n"
   ]
  },
  {
   "cell_type": "code",
   "execution_count": 10,
   "id": "60af8aea",
   "metadata": {},
   "outputs": [
    {
     "data": {
      "text/plain": [
       "167"
      ]
     },
     "execution_count": 10,
     "metadata": {},
     "output_type": "execute_result"
    }
   ],
   "source": [
    "s8=np.array([10,12,15,30])\n",
    "s9=np.array([20,30,40,10])\n",
    "# all value add in array \n",
    "np.sum((s8,s9)) #10+12+15+30+20+30+40+10"
   ]
  },
  {
   "cell_type": "code",
   "execution_count": 11,
   "id": "9a5c5d99",
   "metadata": {},
   "outputs": [
    {
     "data": {
      "text/plain": [
       "array([30, 42, 55, 40])"
      ]
     },
     "execution_count": 11,
     "metadata": {},
     "output_type": "execute_result"
    }
   ],
   "source": [
    "s8=np.array([10,12,15,30])\n",
    "s9=np.array([20,30,40,10])\n",
    "# column(fst column +snd column ) \n",
    "np.sum([s8,s9],axis=0)\n"
   ]
  },
  {
   "cell_type": "code",
   "execution_count": 12,
   "id": "96e572de",
   "metadata": {},
   "outputs": [
    {
     "data": {
      "text/plain": [
       "array([ 67, 100])"
      ]
     },
     "execution_count": 12,
     "metadata": {},
     "output_type": "execute_result"
    }
   ],
   "source": [
    "s8=np.array([10,12,15,30])\n",
    "s9=np.array([20,30,40,10])\n",
    "#fst array row all add and secod array row all add\n",
    "np.sum([s8,s9],axis=1)"
   ]
  },
  {
   "cell_type": "code",
   "execution_count": 18,
   "id": "112c1ea7",
   "metadata": {},
   "outputs": [
    {
     "name": "stdout",
     "output_type": "stream",
     "text": [
      "[11 13 16 31]\n"
     ]
    }
   ],
   "source": [
    "s8=np.array([10,12,15,30])\n",
    "s9=np.array([20,30,40,10])\n",
    "# if you want to add/subtruct/multiple/devided extra value\n",
    "s8=s8+1 # [10,12,15,30] +1   [11,13,16,31]\n",
    "print(s8)\n"
   ]
  },
  {
   "cell_type": "markdown",
   "id": "98bb80e4",
   "metadata": {},
   "source": [
    "# Multiple(Dot) operation "
   ]
  },
  {
   "cell_type": "code",
   "execution_count": 13,
   "id": "d7a6d252",
   "metadata": {},
   "outputs": [
    {
     "data": {
      "text/plain": [
       "1460"
      ]
     },
     "execution_count": 13,
     "metadata": {},
     "output_type": "execute_result"
    }
   ],
   "source": [
    "s8=np.array([10,12,15,30])\n",
    "s9=np.array([20,30,40,10])\n",
    "s8.T # transpose matrix\n",
    "s9.T\n",
    "np.dot(s8,s9)  #( 10*20 + 12*30+........)"
   ]
  },
  {
   "cell_type": "markdown",
   "id": "82b250b7",
   "metadata": {},
   "source": [
    "# without numpy function , Sum /Multification perform \n",
    "(Very Slow Performance )"
   ]
  },
  {
   "cell_type": "code",
   "execution_count": 20,
   "id": "0966fabb",
   "metadata": {},
   "outputs": [
    {
     "name": "stdout",
     "output_type": "stream",
     "text": [
      "[200 360 600 300]\n"
     ]
    }
   ],
   "source": [
    "s8=np.array([10,12,15,30])\n",
    "s9=np.array([20,30,40,10])\n",
    "z=[]\n",
    "for x,y in zip(s8,s9):\n",
    "       z.append(s8*s9)\n",
    "print(z[0])"
   ]
  },
  {
   "cell_type": "markdown",
   "id": "dfd63918",
   "metadata": {},
   "source": [
    "# Addition & Multification of Matrix "
   ]
  },
  {
   "cell_type": "code",
   "execution_count": 25,
   "id": "dab6b0b0",
   "metadata": {},
   "outputs": [
    {
     "name": "stdout",
     "output_type": "stream",
     "text": [
      "[[12 12]\n",
      " [ 3  2]]\n"
     ]
    }
   ],
   "source": [
    "t1=np.array([[4,3],[2,1]])\n",
    "t2=np.array([[8,9],[1,1]])\n",
    "#Add two Matrix \n",
    "print(t1+t2) \n",
    "# multiple two matrix\n",
    "print(t1.dot(t2))  "
   ]
  },
  {
   "cell_type": "markdown",
   "id": "6454a65f",
   "metadata": {},
   "source": [
    "# Mean ,Mode &Std function Numpy "
   ]
  },
  {
   "cell_type": "code",
   "execution_count": 14,
   "id": "cb1e5418",
   "metadata": {},
   "outputs": [
    {
     "name": "stdout",
     "output_type": "stream",
     "text": [
      "16.75\n",
      "[3.16227766 3.46410162 3.87298335 5.47722558]\n",
      "7.854139036202504\n"
     ]
    }
   ],
   "source": [
    "s8=np.array([10,12,15,30])\n",
    "#s8=np.array([[10,40,15],[35,30,20]])\n",
    "#average value \n",
    "print(np.mean(s8))\n",
    "# squere root \n",
    "print(np.sqrt(s8))\n",
    "#Standerd Division \n",
    "print(np.std(s8))\n",
    "\n"
   ]
  },
  {
   "cell_type": "markdown",
   "id": "05c77180",
   "metadata": {},
   "source": [
    "# Linear Lgebra With Numpy "
   ]
  },
  {
   "cell_type": "markdown",
   "id": "65652317",
   "metadata": {},
   "source": [
    "Idempotent Matrix"
   ]
  },
  {
   "cell_type": "code",
   "execution_count": 64,
   "id": "59c085c4",
   "metadata": {},
   "outputs": [
    {
     "data": {
      "text/plain": [
       "array([[1., 0.],\n",
       "       [0., 1.]])"
      ]
     },
     "execution_count": 64,
     "metadata": {},
     "output_type": "execute_result"
    }
   ],
   "source": [
    "np.eye(2)"
   ]
  },
  {
   "cell_type": "markdown",
   "id": "df9b2dcd",
   "metadata": {},
   "source": [
    "Rank , Trace & Determinant Matrix "
   ]
  },
  {
   "cell_type": "code",
   "execution_count": 28,
   "id": "db931e0a",
   "metadata": {},
   "outputs": [
    {
     "name": "stdout",
     "output_type": "stream",
     "text": [
      "Rank of A: 3\n",
      "\n",
      "Trace of A: 11\n",
      "\n",
      "Determinant of A: -306.0\n"
     ]
    }
   ],
   "source": [
    "A = np.array([[6, 1, 1],\n",
    "              [4, -2, 5],\n",
    "              [2, 8, 7]])\n",
    " \n",
    "# Rank of a matrix\n",
    "print(\"Rank of A:\", np.linalg.matrix_rank(A))\n",
    " \n",
    "# Trace of matrix A ( 6+(-2)+7)\n",
    "print(\"\\nTrace of A:\", np.trace(A))\n",
    " \n",
    "# Determinant of a matrix\n",
    "print(\"\\nDeterminant of A:\", np.linalg.det(A))"
   ]
  },
  {
   "cell_type": "markdown",
   "id": "4923c8fa",
   "metadata": {},
   "source": [
    "Multiple(Complex number ).......................... \n",
    "(3 + 2i)(1 + 7i)\t= 3×1 + 3×7i + 2i×1+ 2i×7i\n",
    " \t= 3 + 21i + 2i + 14i2\n",
    " \t= 3 + 21i + 2i − 14   (because i2 = −1)\n",
    " \t= −11 + 23i"
   ]
  },
  {
   "cell_type": "code",
   "execution_count": 30,
   "id": "2a7962cc",
   "metadata": {},
   "outputs": [
    {
     "name": "stdout",
     "output_type": "stream",
     "text": [
      "Dot Product of scalar values  :  20\n",
      "Dot Product  :  (-11+23j)\n"
     ]
    }
   ],
   "source": [
    "# Scalars\n",
    "product = np.dot(5, 4)\n",
    "print(\"Dot Product of scalar values  : \", product)\n",
    " # 1D array\n",
    "vector_a = 3 + 2j\n",
    "vector_b = 1 + 7j\n",
    " \n",
    "product = np.dot(vector_a, vector_b)\n",
    "print(\"Dot Product  : \", product)\n"
   ]
  },
  {
   "cell_type": "markdown",
   "id": "1bc3d074",
   "metadata": {},
   "source": [
    "Inner Method (fst row multiple 2nd row (# 1*11+2*12, 1*13+2*14    3*11+4*12, 3*13+4*14 )"
   ]
  },
  {
   "cell_type": "code",
   "execution_count": 32,
   "id": "96c297b1",
   "metadata": {
    "scrolled": true
   },
   "outputs": [
    {
     "name": "stdout",
     "output_type": "stream",
     "text": [
      "Array a:\n",
      "[[1 2]\n",
      " [3 4]]\n",
      "Array b:\n",
      "[[11 12]\n",
      " [13 14]]\n",
      "Inner product:\n",
      "[[35 41]\n",
      " [81 95]]\n"
     ]
    }
   ],
   "source": [
    "#inner Product \n",
    "a = np.array([[1,2], [3,4]]) \n",
    "\n",
    "print('Array a:') \n",
    "print (a )\n",
    "b = np.array([[11, 12], [13, 14]]) \n",
    "\n",
    "print('Array b:') \n",
    "print( b) \n",
    "\n",
    "print('Inner product:') \n",
    "print(np.inner(a,b)) "
   ]
  },
  {
   "cell_type": "markdown",
   "id": "44c5a341",
   "metadata": {},
   "source": [
    "# 3d Array Multification "
   ]
  },
  {
   "cell_type": "code",
   "execution_count": 15,
   "id": "4a5663f1",
   "metadata": {},
   "outputs": [
    {
     "name": "stdout",
     "output_type": "stream",
     "text": [
      "[[[1 2]\n",
      "  [3 4]]\n",
      "\n",
      " [[5 6]\n",
      "  [7 8]]]\n",
      "[[[1 2]\n",
      "  [3 4]]\n",
      "\n",
      " [[5 6]\n",
      "  [7 8]]]\n",
      "Multiple result\n",
      "[[[  7  10]\n",
      "  [ 15  22]]\n",
      "\n",
      " [[ 67  78]\n",
      "  [ 91 106]]]\n"
     ]
    }
   ],
   "source": [
    "x = np.array([[[1, 2], [3, 4]], [[5, 6], [7, 8]]])\n",
    "print(x)\n",
    "y = np.array([[[1, 2], [3, 4]], [[5, 6], [7, 8]]])\n",
    "print(y)\n",
    "print('Multiple result') \n",
    "print(np.matmul(x,y)) \n"
   ]
  },
  {
   "cell_type": "markdown",
   "id": "4dd94671",
   "metadata": {},
   "source": [
    "Matmul Method \n",
    "# A = [[A00, A01],\n",
    "     [A10, A11]]\n",
    "     \n",
    "B = [[B00, B01],\n",
    "     [B10, B11]]\n",
    "\n",
    "Then the product is calculated as shown below\n",
    "A*B = [[(A00*B00 + A01*B10), (A00*B01 + A01*B11)],\n",
    "       [(A10*B00 + A11+B10), (A10*B01 + A11*B11)]]"
   ]
  },
  {
   "cell_type": "code",
   "execution_count": 68,
   "id": "02273a86",
   "metadata": {},
   "outputs": [
    {
     "name": "stdout",
     "output_type": "stream",
     "text": [
      "Matrix Product is \n",
      "[[ 90  96 102]\n",
      " [216 231 246]\n",
      " [342 366 390]]\n",
      "\n",
      "Matrix Product is \n",
      "[[10 14 18]\n",
      " [15 21 27]]\n",
      "\n",
      "Matrix Product is \n",
      "[[ 900 1400]\n",
      " [1900 3000]]\n"
     ]
    }
   ],
   "source": [
    "# Finding the matrix product\n",
    "arr1 = np.array([[1, 2, 3], [4, 5, 6],\n",
    "                 [7, 8, 9]])\n",
    "arr2 = np.array([[11, 12, 13], [14, 15, 16],\n",
    "                 [17, 18, 19]])\n",
    "  \n",
    "matrix_product = np.matmul(arr1, arr2)\n",
    "print(\"Matrix Product is \")\n",
    "print(matrix_product)\n",
    "print()\n",
    "  \n",
    "arr1 = np.array([[2,2],[3,3]])\n",
    "arr2 = np.array([[1,2,3],[4,5,6]])\n",
    "  \n",
    "matrix_product = np.matmul(arr1, arr2)\n",
    "print(\"Matrix Product is \")\n",
    "print(matrix_product)\n",
    "print()\n",
    "  \n",
    "arr1 = np.array([[100,200],[300,400]])\n",
    "arr2 = np.array([[1,2],[4,6]])\n",
    "  \n",
    "matrix_product = np.matmul(arr1, arr2)\n",
    "print(\"Matrix Product is \")\n",
    "print(matrix_product)"
   ]
  },
  {
   "cell_type": "markdown",
   "id": "47b5f6d7",
   "metadata": {},
   "source": [
    "# Linear Equations ( 3x+y=9  x+2y=8)"
   ]
  },
  {
   "cell_type": "code",
   "execution_count": 33,
   "id": "2a2e376d",
   "metadata": {},
   "outputs": [
    {
     "data": {
      "text/plain": [
       "array([2., 3.])"
      ]
     },
     "execution_count": 33,
     "metadata": {},
     "output_type": "execute_result"
    }
   ],
   "source": [
    "a=np.array([[3,1],[1,2]])\n",
    "b=np.array([9,8])\n",
    "np.linalg.solve(a,b)"
   ]
  },
  {
   "cell_type": "markdown",
   "id": "b1f9bf14",
   "metadata": {},
   "source": [
    "# Inverse Matrix"
   ]
  },
  {
   "cell_type": "code",
   "execution_count": 34,
   "id": "f78c0f7a",
   "metadata": {},
   "outputs": [
    {
     "data": {
      "text/plain": [
       "array([[ 3., -5.],\n",
       "       [-1.,  2.]])"
      ]
     },
     "execution_count": 34,
     "metadata": {},
     "output_type": "execute_result"
    }
   ],
   "source": [
    "#2*2 matrix inverse\n",
    "a=np.array([[2,5],[1,3]])\n",
    "np.linalg.inv(a)"
   ]
  },
  {
   "cell_type": "code",
   "execution_count": 35,
   "id": "bba25ad3",
   "metadata": {},
   "outputs": [
    {
     "data": {
      "text/plain": [
       "array([[3., 2., 6.],\n",
       "       [1., 1., 2.],\n",
       "       [2., 2., 5.]])"
      ]
     },
     "execution_count": 35,
     "metadata": {},
     "output_type": "execute_result"
    }
   ],
   "source": [
    "#3*3 matrix inverse \n",
    "a=np.array([[1,2,-2],[-1,3,0],[0,-2,1]])\n",
    "np.linalg.inv(a)"
   ]
  },
  {
   "cell_type": "markdown",
   "id": "6adc8dee",
   "metadata": {},
   "source": [
    "# Eigen value & Eigen Vector "
   ]
  },
  {
   "cell_type": "code",
   "execution_count": 72,
   "id": "81618c8e",
   "metadata": {},
   "outputs": [
    {
     "name": "stdout",
     "output_type": "stream",
     "text": [
      "eigen value [2.4406197+1.56961032j 2.4406197-1.56961032j 0.1187606+0.j        ]\n",
      "eigen vector [[-0.77208278+0.j         -0.77208278-0.j          0.75789789+0.j        ]\n",
      " [-0.15554655-0.43646062j -0.15554655+0.43646062j  0.26304579+0.j        ]\n",
      " [ 0.40059228+0.16947392j  0.40059228-0.16947392j  0.59699053+0.j        ]]\n"
     ]
    }
   ],
   "source": [
    "#Eigen value & Eigen vector  \n",
    "a=np.array([[1,2,-2],[-1,3,0],[0,-2,1]])\n",
    "\n",
    "eigen_value,eigen_vector=np.linalg.eig(a)\n",
    "\n",
    "print(\"eigen value\",eigen_value)\n",
    "print(\"eigen vector\",eigen_vector)\n"
   ]
  },
  {
   "cell_type": "markdown",
   "id": "c7c3a138",
   "metadata": {},
   "source": [
    "# what is the Difference between Numpy and Pandas "
   ]
  },
  {
   "cell_type": "raw",
   "id": "a116cde1",
   "metadata": {},
   "source": [
    "-> Pandas provides us with some powerful objects like DataFrames and Series which are very useful for working with and analyzing data whereas numpy library which provides objects for multi-dimensional arrays, Pandas provides in-memory 2d table object called Dataframe.\n",
    "-->Pandas works when when data is in Tabular Format…whereas Numpy works really well when data is Numeric.\n",
    "--> Numpy performs real good when there are 50k/less rows …..whereas pandas works really well when there are around 500k/more rows.\n",
    "from platform import python_version\n",
    "print(python_version())"
   ]
  },
  {
   "cell_type": "markdown",
   "id": "affc1ba9",
   "metadata": {},
   "source": [
    "# Pandas  Library Concept "
   ]
  },
  {
   "cell_type": "markdown",
   "id": "e1f511c2",
   "metadata": {},
   "source": [
    "Series object create"
   ]
  },
  {
   "cell_type": "code",
   "execution_count": 1,
   "id": "73c33bd0",
   "metadata": {},
   "outputs": [
    {
     "name": "stdout",
     "output_type": "stream",
     "text": [
      "0    15\n",
      "1     8\n",
      "2     9\n",
      "3    48\n",
      "dtype: object\n",
      "9\n"
     ]
    }
   ],
   "source": [
    "import pandas as pd\n",
    "#one dimensional array =Series object\n",
    "s=pd.Series([15,'8',9,48])\n",
    "print(s)\n",
    "print(s[2]) # you have used list all the property \n"
   ]
  },
  {
   "cell_type": "markdown",
   "id": "cc3c3473",
   "metadata": {},
   "source": [
    "Index convert to Label "
   ]
  },
  {
   "cell_type": "code",
   "execution_count": 2,
   "id": "a15ea713",
   "metadata": {},
   "outputs": [
    {
     "name": "stdout",
     "output_type": "stream",
     "text": [
      "a    15\n",
      "b     8\n",
      "c     9\n",
      "d    48\n",
      "dtype: int64\n"
     ]
    }
   ],
   "source": [
    "#index value change \n",
    "s=pd.Series([15,8,9,48],index=['a','b','c','d']) #,dtype=int,name='x')\n",
    "print(s)"
   ]
  },
  {
   "cell_type": "markdown",
   "id": "6c1c0d22",
   "metadata": {},
   "source": [
    "# Series function copy part description"
   ]
  },
  {
   "cell_type": "code",
   "execution_count": 2,
   "id": "101c9f89",
   "metadata": {},
   "outputs": [
    {
     "name": "stdout",
     "output_type": "stream",
     "text": [
      "0    999\n",
      "1      2\n",
      "dtype: int32\n",
      "[1 2]\n"
     ]
    }
   ],
   "source": [
    "import numpy as np\n",
    "r = np.array([1, 2])\n",
    "ser = pd.Series(r, copy=True) # ! change original data \n",
    "ser.iloc[0] = 999\n",
    "print(ser)\n",
    "print(r)"
   ]
  },
  {
   "cell_type": "markdown",
   "id": "69ee3ae9",
   "metadata": {},
   "source": [
    "#dictionary through pandas"
   ]
  },
  {
   "cell_type": "code",
   "execution_count": 4,
   "id": "a1cf8b4d",
   "metadata": {},
   "outputs": [
    {
     "name": "stdout",
     "output_type": "stream",
     "text": [
      "k1    15\n",
      "k2     8\n",
      "k3     9\n",
      "k4    48\n",
      "dtype: int64\n",
      "9\n"
     ]
    }
   ],
   "source": [
    "#dictionary through pandas\n",
    "s=pd.Series({'k1':15,'k2':8,'k3':9,'k4':48})\n",
    "print(s)\n",
    "print(s['k3'])\n"
   ]
  },
  {
   "cell_type": "markdown",
   "id": "37bb3772",
   "metadata": {},
   "source": [
    "# operator use under series function"
   ]
  },
  {
   "cell_type": "code",
   "execution_count": 4,
   "id": "d9c40e0f",
   "metadata": {},
   "outputs": [
    {
     "name": "stdout",
     "output_type": "stream",
     "text": [
      "a    1\n",
      "b    2\n",
      "dtype: int64\n",
      "c    3\n",
      "d    4\n",
      "dtype: int64\n",
      "False\n"
     ]
    }
   ],
   "source": [
    "s=pd.Series([1,2,3,4],index=['a','b','c','d'])\n",
    "print(s[0:2])\n",
    "print(s[s>2]) # oprator use \n",
    "print(s['c']==2) # oprator use \n"
   ]
  },
  {
   "cell_type": "markdown",
   "id": "8074ff59",
   "metadata": {},
   "source": [
    "#Numpy and Pandas Series "
   ]
  },
  {
   "cell_type": "code",
   "execution_count": 52,
   "id": "6223a141",
   "metadata": {},
   "outputs": [
    {
     "data": {
      "text/plain": [
       "0    0\n",
       "1    1\n",
       "2    2\n",
       "3    3\n",
       "4    4\n",
       "5    5\n",
       "6    6\n",
       "7    7\n",
       "8    8\n",
       "9    9\n",
       "dtype: int64"
      ]
     },
     "execution_count": 52,
     "metadata": {},
     "output_type": "execute_result"
    }
   ],
   "source": [
    "s=pd.Series(np.arange(1,10))\n",
    "#s=pd.Series(range(10))\n",
    "s"
   ]
  },
  {
   "cell_type": "markdown",
   "id": "26a21037",
   "metadata": {},
   "source": [
    "# Sets Operations"
   ]
  },
  {
   "cell_type": "code",
   "execution_count": null,
   "id": "2a412896",
   "metadata": {},
   "outputs": [],
   "source": [
    "\n",
    "a={1,2,4,5}\n",
    "b={4,5,6,7}\n",
    "#a.union(b) # union \n",
    "a.intersection(b) # 4 & 5 include (a and b both)\n",
    "a.difference(b) #  1 & 2 ! include in a &b  "
   ]
  },
  {
   "cell_type": "markdown",
   "id": "e4983a3d",
   "metadata": {},
   "source": [
    "# add,subtruct,multiple ,division operation use(Series)"
   ]
  },
  {
   "cell_type": "code",
   "execution_count": 41,
   "id": "2e21a1ea",
   "metadata": {},
   "outputs": [
    {
     "name": "stdout",
     "output_type": "stream",
     "text": [
      "0    17\n",
      "1    10\n",
      "2    11\n",
      "3    50\n",
      "dtype: int64\n",
      "0    17\n",
      "1    12\n",
      "2    15\n",
      "3    56\n",
      "dtype: int64\n",
      "0     30\n",
      "1     32\n",
      "2     54\n",
      "3    384\n",
      "dtype: int64\n"
     ]
    }
   ],
   "source": [
    "# sum of Series\n",
    "s=pd.Series([15,8,9,48])\n",
    "s1=pd.Series([2,4,6,8])\n",
    "print(s+2) \n",
    "print(s+s1)\n",
    "print(s*s1)\n"
   ]
  },
  {
   "cell_type": "markdown",
   "id": "71a3a14b",
   "metadata": {},
   "source": [
    "#Mean,Mode,std "
   ]
  },
  {
   "cell_type": "code",
   "execution_count": 75,
   "id": "929210c9",
   "metadata": {},
   "outputs": [
    {
     "name": "stdout",
     "output_type": "stream",
     "text": [
      "20.0\n",
      "12.0\n",
      "18.920887928424502\n"
     ]
    }
   ],
   "source": [
    "s=pd.Series([15,8,9,48])\n",
    "print(s.mean())\n",
    "print(s.median()) #15,8,9,48 = 8,9,15,48  median find= (9+15)/2 =12\n",
    "print(s.std())\n"
   ]
  },
  {
   "cell_type": "markdown",
   "id": "d82d3b18",
   "metadata": {},
   "source": [
    "DataFrame Create (Table create ---- Name fst column and mks 2nd column)"
   ]
  },
  {
   "cell_type": "code",
   "execution_count": 6,
   "id": "10aacd2a",
   "metadata": {},
   "outputs": [
    {
     "name": "stdout",
     "output_type": "stream",
     "text": [
      "   name  mks\n",
      "0   som   12\n",
      "1  som2   16\n",
      "2  som3   15\n",
      "3  som4   85\n",
      "4  som5   89\n",
      "5  som6   55\n",
      "6  som7   57\n",
      "   name  mks\n",
      "0   som   12\n",
      "1  som2   16\n",
      "2  som3   15\n",
      "3  som4   85\n",
      "4  som5   89\n",
      "   name  mks\n",
      "2  som3   15\n",
      "3  som4   85\n",
      "4  som5   89\n",
      "5  som6   55\n",
      "6  som7   57\n",
      "(7, 2)\n",
      "            mks\n",
      "count   7.00000\n",
      "mean   47.00000\n",
      "std    33.12099\n",
      "min    12.00000\n",
      "25%    15.50000\n",
      "50%    55.00000\n",
      "75%    71.00000\n",
      "max    89.00000\n"
     ]
    }
   ],
   "source": [
    "s=pd.DataFrame({\"name\":['som','som2','som3','som4','som5','som6','som7'],\"mks\":[12,16,15,85,89,55,57]})\n",
    "#s=pd.DataFrame({\"name\":pd.Series([1,2,3]),\"mks\":pd.Series(np.arange(1,10))})\n",
    "#s=pd.DataFrame([[1,2,3],[4,5,6],[7,8,9]])\n",
    "\n",
    "print(s)\n",
    "print(s.head()) # fst 5 data show\n",
    "print(s.tail())\n",
    "print(s.shape)\n",
    "print(s.describe())"
   ]
  },
  {
   "cell_type": "markdown",
   "id": "c0942d81",
   "metadata": {},
   "source": [
    "# Read CSV File (using Pandas)"
   ]
  },
  {
   "cell_type": "code",
   "execution_count": 2,
   "id": "2d0a202c",
   "metadata": {},
   "outputs": [
    {
     "data": {
      "text/html": [
       "<div>\n",
       "<style scoped>\n",
       "    .dataframe tbody tr th:only-of-type {\n",
       "        vertical-align: middle;\n",
       "    }\n",
       "\n",
       "    .dataframe tbody tr th {\n",
       "        vertical-align: top;\n",
       "    }\n",
       "\n",
       "    .dataframe thead th {\n",
       "        text-align: right;\n",
       "    }\n",
       "</style>\n",
       "<table border=\"1\" class=\"dataframe\">\n",
       "  <thead>\n",
       "    <tr style=\"text-align: right;\">\n",
       "      <th></th>\n",
       "      <th>id</th>\n",
       "      <th>Balnc</th>\n",
       "      <th>Monthly_Credit</th>\n",
       "      <th>Loan_Eli</th>\n",
       "      <th>Loan_Limit</th>\n",
       "      <th>Act_type</th>\n",
       "    </tr>\n",
       "  </thead>\n",
       "  <tbody>\n",
       "    <tr>\n",
       "      <th>0</th>\n",
       "      <td>1</td>\n",
       "      <td>50000.0</td>\n",
       "      <td>10000</td>\n",
       "      <td>NO</td>\n",
       "      <td>0</td>\n",
       "      <td>Normal</td>\n",
       "    </tr>\n",
       "    <tr>\n",
       "      <th>1</th>\n",
       "      <td>2</td>\n",
       "      <td>60000.0</td>\n",
       "      <td>10000</td>\n",
       "      <td>NO</td>\n",
       "      <td>0</td>\n",
       "      <td>Normal</td>\n",
       "    </tr>\n",
       "    <tr>\n",
       "      <th>2</th>\n",
       "      <td>3</td>\n",
       "      <td>44545.0</td>\n",
       "      <td>13000</td>\n",
       "      <td>NO</td>\n",
       "      <td>0</td>\n",
       "      <td>Normal</td>\n",
       "    </tr>\n",
       "    <tr>\n",
       "      <th>3</th>\n",
       "      <td>4</td>\n",
       "      <td>20000.0</td>\n",
       "      <td>11000</td>\n",
       "      <td>NO</td>\n",
       "      <td>0</td>\n",
       "      <td>Normal</td>\n",
       "    </tr>\n",
       "    <tr>\n",
       "      <th>4</th>\n",
       "      <td>5</td>\n",
       "      <td>100000.0</td>\n",
       "      <td>20000</td>\n",
       "      <td>YES</td>\n",
       "      <td>50000</td>\n",
       "      <td>Salary</td>\n",
       "    </tr>\n",
       "    <tr>\n",
       "      <th>5</th>\n",
       "      <td>6</td>\n",
       "      <td>500000.0</td>\n",
       "      <td>25000</td>\n",
       "      <td>YES</td>\n",
       "      <td>200000</td>\n",
       "      <td>Salary</td>\n",
       "    </tr>\n",
       "    <tr>\n",
       "      <th>6</th>\n",
       "      <td>7</td>\n",
       "      <td>700000.0</td>\n",
       "      <td>35000</td>\n",
       "      <td>YES</td>\n",
       "      <td>400000</td>\n",
       "      <td>Bussiness</td>\n",
       "    </tr>\n",
       "    <tr>\n",
       "      <th>7</th>\n",
       "      <td>8</td>\n",
       "      <td>5000.0</td>\n",
       "      <td>0</td>\n",
       "      <td>NO</td>\n",
       "      <td>0</td>\n",
       "      <td>Normal</td>\n",
       "    </tr>\n",
       "    <tr>\n",
       "      <th>8</th>\n",
       "      <td>9</td>\n",
       "      <td>50000.0</td>\n",
       "      <td>10000</td>\n",
       "      <td>NO</td>\n",
       "      <td>0</td>\n",
       "      <td>Normal</td>\n",
       "    </tr>\n",
       "    <tr>\n",
       "      <th>9</th>\n",
       "      <td>10</td>\n",
       "      <td>60000.0</td>\n",
       "      <td>10000</td>\n",
       "      <td>NO</td>\n",
       "      <td>0</td>\n",
       "      <td>Normal</td>\n",
       "    </tr>\n",
       "    <tr>\n",
       "      <th>10</th>\n",
       "      <td>11</td>\n",
       "      <td>44545.0</td>\n",
       "      <td>13000</td>\n",
       "      <td>NO</td>\n",
       "      <td>0</td>\n",
       "      <td>Normal</td>\n",
       "    </tr>\n",
       "    <tr>\n",
       "      <th>11</th>\n",
       "      <td>12</td>\n",
       "      <td>20000.0</td>\n",
       "      <td>11000</td>\n",
       "      <td>NO</td>\n",
       "      <td>0</td>\n",
       "      <td>Normal</td>\n",
       "    </tr>\n",
       "    <tr>\n",
       "      <th>12</th>\n",
       "      <td>13</td>\n",
       "      <td>44545.0</td>\n",
       "      <td>20000</td>\n",
       "      <td>YES</td>\n",
       "      <td>50000</td>\n",
       "      <td>Salary</td>\n",
       "    </tr>\n",
       "    <tr>\n",
       "      <th>13</th>\n",
       "      <td>14</td>\n",
       "      <td>20000.0</td>\n",
       "      <td>25000</td>\n",
       "      <td>YES</td>\n",
       "      <td>200000</td>\n",
       "      <td>Salary</td>\n",
       "    </tr>\n",
       "    <tr>\n",
       "      <th>14</th>\n",
       "      <td>15</td>\n",
       "      <td>100000.0</td>\n",
       "      <td>35000</td>\n",
       "      <td>YES</td>\n",
       "      <td>400000</td>\n",
       "      <td>Bussiness</td>\n",
       "    </tr>\n",
       "    <tr>\n",
       "      <th>15</th>\n",
       "      <td>16</td>\n",
       "      <td>1000.0</td>\n",
       "      <td>0</td>\n",
       "      <td>NO</td>\n",
       "      <td>0</td>\n",
       "      <td>Student_account</td>\n",
       "    </tr>\n",
       "    <tr>\n",
       "      <th>16</th>\n",
       "      <td>17</td>\n",
       "      <td>500.0</td>\n",
       "      <td>0</td>\n",
       "      <td>NO</td>\n",
       "      <td>0</td>\n",
       "      <td>Student_account</td>\n",
       "    </tr>\n",
       "    <tr>\n",
       "      <th>17</th>\n",
       "      <td>18</td>\n",
       "      <td>NaN</td>\n",
       "      <td>0</td>\n",
       "      <td>NO</td>\n",
       "      <td>0</td>\n",
       "      <td>Student_account</td>\n",
       "    </tr>\n",
       "  </tbody>\n",
       "</table>\n",
       "</div>"
      ],
      "text/plain": [
       "    id     Balnc  Monthly_Credit Loan_Eli  Loan_Limit         Act_type\n",
       "0    1   50000.0           10000       NO           0           Normal\n",
       "1    2   60000.0           10000       NO           0           Normal\n",
       "2    3   44545.0           13000       NO           0           Normal\n",
       "3    4   20000.0           11000       NO           0           Normal\n",
       "4    5  100000.0           20000      YES       50000           Salary\n",
       "5    6  500000.0           25000      YES      200000           Salary\n",
       "6    7  700000.0           35000      YES      400000        Bussiness\n",
       "7    8    5000.0               0       NO           0           Normal\n",
       "8    9   50000.0           10000       NO           0           Normal\n",
       "9   10   60000.0           10000       NO           0           Normal\n",
       "10  11   44545.0           13000       NO           0           Normal\n",
       "11  12   20000.0           11000       NO           0           Normal\n",
       "12  13   44545.0           20000      YES       50000           Salary\n",
       "13  14   20000.0           25000      YES      200000           Salary\n",
       "14  15  100000.0           35000      YES      400000        Bussiness\n",
       "15  16    1000.0               0       NO           0  Student_account\n",
       "16  17     500.0               0       NO           0  Student_account\n",
       "17  18       NaN               0       NO           0  Student_account"
      ]
     },
     "execution_count": 2,
     "metadata": {},
     "output_type": "execute_result"
    }
   ],
   "source": [
    "# Read CSV File \n",
    "s3=pd.read_csv(\"bank_loan.csv\")#,nrows=2,usecols=[0,1],skiprows=[0,1]) ##ss = pd.read_excel('a.xlsx', sheet_name='Sheet1')\n",
    "#Series object print \n",
    "#s4=pd.read_csv(\"single.csv\")\n",
    "#print(s3.iloc[0:2,0:2]) # 2 row and 2 column(index wise) read \n",
    "#Directory Find \n",
    "#import os\n",
    "#print(os.getcwd())\n",
    "s3\n",
    "\n"
   ]
  },
  {
   "cell_type": "markdown",
   "id": "c23f73d9",
   "metadata": {},
   "source": [
    "# index change ,heder ,prefix & names use"
   ]
  },
  {
   "cell_type": "code",
   "execution_count": 3,
   "id": "1d8cd3a0",
   "metadata": {},
   "outputs": [
    {
     "data": {
      "text/html": [
       "<div>\n",
       "<style scoped>\n",
       "    .dataframe tbody tr th:only-of-type {\n",
       "        vertical-align: middle;\n",
       "    }\n",
       "\n",
       "    .dataframe tbody tr th {\n",
       "        vertical-align: top;\n",
       "    }\n",
       "\n",
       "    .dataframe thead th {\n",
       "        text-align: right;\n",
       "    }\n",
       "</style>\n",
       "<table border=\"1\" class=\"dataframe\">\n",
       "  <thead>\n",
       "    <tr style=\"text-align: right;\">\n",
       "      <th></th>\n",
       "      <th>col0</th>\n",
       "      <th>col1</th>\n",
       "      <th>col2</th>\n",
       "      <th>col3</th>\n",
       "      <th>col4</th>\n",
       "      <th>col5</th>\n",
       "    </tr>\n",
       "  </thead>\n",
       "  <tbody>\n",
       "    <tr>\n",
       "      <th>0</th>\n",
       "      <td>id</td>\n",
       "      <td>Balnc</td>\n",
       "      <td>Monthly_Credit</td>\n",
       "      <td>Loan_Eli</td>\n",
       "      <td>Loan_Limit</td>\n",
       "      <td>Act_type</td>\n",
       "    </tr>\n",
       "    <tr>\n",
       "      <th>1</th>\n",
       "      <td>1</td>\n",
       "      <td>50000</td>\n",
       "      <td>10000</td>\n",
       "      <td>NO</td>\n",
       "      <td>0</td>\n",
       "      <td>Normal</td>\n",
       "    </tr>\n",
       "    <tr>\n",
       "      <th>2</th>\n",
       "      <td>2</td>\n",
       "      <td>60000</td>\n",
       "      <td>10000</td>\n",
       "      <td>NO</td>\n",
       "      <td>0</td>\n",
       "      <td>Normal</td>\n",
       "    </tr>\n",
       "    <tr>\n",
       "      <th>3</th>\n",
       "      <td>3</td>\n",
       "      <td>44545</td>\n",
       "      <td>13000</td>\n",
       "      <td>NO</td>\n",
       "      <td>0</td>\n",
       "      <td>Normal</td>\n",
       "    </tr>\n",
       "    <tr>\n",
       "      <th>4</th>\n",
       "      <td>4</td>\n",
       "      <td>20000</td>\n",
       "      <td>11000</td>\n",
       "      <td>NO</td>\n",
       "      <td>0</td>\n",
       "      <td>Normal</td>\n",
       "    </tr>\n",
       "    <tr>\n",
       "      <th>5</th>\n",
       "      <td>5</td>\n",
       "      <td>100000</td>\n",
       "      <td>20000</td>\n",
       "      <td>YES</td>\n",
       "      <td>50000</td>\n",
       "      <td>Salary</td>\n",
       "    </tr>\n",
       "    <tr>\n",
       "      <th>6</th>\n",
       "      <td>6</td>\n",
       "      <td>500000</td>\n",
       "      <td>25000</td>\n",
       "      <td>YES</td>\n",
       "      <td>200000</td>\n",
       "      <td>Salary</td>\n",
       "    </tr>\n",
       "    <tr>\n",
       "      <th>7</th>\n",
       "      <td>7</td>\n",
       "      <td>700000</td>\n",
       "      <td>35000</td>\n",
       "      <td>YES</td>\n",
       "      <td>400000</td>\n",
       "      <td>Bussiness</td>\n",
       "    </tr>\n",
       "    <tr>\n",
       "      <th>8</th>\n",
       "      <td>8</td>\n",
       "      <td>5000</td>\n",
       "      <td>0</td>\n",
       "      <td>NO</td>\n",
       "      <td>0</td>\n",
       "      <td>Normal</td>\n",
       "    </tr>\n",
       "    <tr>\n",
       "      <th>9</th>\n",
       "      <td>9</td>\n",
       "      <td>50000</td>\n",
       "      <td>10000</td>\n",
       "      <td>NO</td>\n",
       "      <td>0</td>\n",
       "      <td>Normal</td>\n",
       "    </tr>\n",
       "    <tr>\n",
       "      <th>10</th>\n",
       "      <td>10</td>\n",
       "      <td>60000</td>\n",
       "      <td>10000</td>\n",
       "      <td>NO</td>\n",
       "      <td>0</td>\n",
       "      <td>Normal</td>\n",
       "    </tr>\n",
       "    <tr>\n",
       "      <th>11</th>\n",
       "      <td>11</td>\n",
       "      <td>44545</td>\n",
       "      <td>13000</td>\n",
       "      <td>NO</td>\n",
       "      <td>0</td>\n",
       "      <td>Normal</td>\n",
       "    </tr>\n",
       "    <tr>\n",
       "      <th>12</th>\n",
       "      <td>12</td>\n",
       "      <td>20000</td>\n",
       "      <td>11000</td>\n",
       "      <td>NO</td>\n",
       "      <td>0</td>\n",
       "      <td>Normal</td>\n",
       "    </tr>\n",
       "    <tr>\n",
       "      <th>13</th>\n",
       "      <td>13</td>\n",
       "      <td>44545</td>\n",
       "      <td>20000</td>\n",
       "      <td>YES</td>\n",
       "      <td>50000</td>\n",
       "      <td>Salary</td>\n",
       "    </tr>\n",
       "    <tr>\n",
       "      <th>14</th>\n",
       "      <td>14</td>\n",
       "      <td>20000</td>\n",
       "      <td>25000</td>\n",
       "      <td>YES</td>\n",
       "      <td>200000</td>\n",
       "      <td>Salary</td>\n",
       "    </tr>\n",
       "    <tr>\n",
       "      <th>15</th>\n",
       "      <td>15</td>\n",
       "      <td>100000</td>\n",
       "      <td>35000</td>\n",
       "      <td>YES</td>\n",
       "      <td>400000</td>\n",
       "      <td>Bussiness</td>\n",
       "    </tr>\n",
       "    <tr>\n",
       "      <th>16</th>\n",
       "      <td>16</td>\n",
       "      <td>1000</td>\n",
       "      <td>0</td>\n",
       "      <td>NO</td>\n",
       "      <td>0</td>\n",
       "      <td>Student_account</td>\n",
       "    </tr>\n",
       "    <tr>\n",
       "      <th>17</th>\n",
       "      <td>17</td>\n",
       "      <td>500</td>\n",
       "      <td>0</td>\n",
       "      <td>NO</td>\n",
       "      <td>0</td>\n",
       "      <td>Student_account</td>\n",
       "    </tr>\n",
       "    <tr>\n",
       "      <th>18</th>\n",
       "      <td>18</td>\n",
       "      <td>NaN</td>\n",
       "      <td>0</td>\n",
       "      <td>NO</td>\n",
       "      <td>0</td>\n",
       "      <td>Student_account</td>\n",
       "    </tr>\n",
       "    <tr>\n",
       "      <th>19</th>\n",
       "      <td>19</td>\n",
       "      <td>NaN</td>\n",
       "      <td>NaN</td>\n",
       "      <td>NaN</td>\n",
       "      <td>0</td>\n",
       "      <td>NaN</td>\n",
       "    </tr>\n",
       "    <tr>\n",
       "      <th>20</th>\n",
       "      <td>20</td>\n",
       "      <td>0</td>\n",
       "      <td>0</td>\n",
       "      <td>not available</td>\n",
       "      <td>1200</td>\n",
       "      <td>NaN</td>\n",
       "    </tr>\n",
       "  </tbody>\n",
       "</table>\n",
       "</div>"
      ],
      "text/plain": [
       "   col0    col1            col2           col3        col4             col5\n",
       "0    id   Balnc  Monthly_Credit       Loan_Eli  Loan_Limit         Act_type\n",
       "1     1   50000           10000             NO           0           Normal\n",
       "2     2   60000           10000             NO           0           Normal\n",
       "3     3   44545           13000             NO           0           Normal\n",
       "4     4   20000           11000             NO           0           Normal\n",
       "5     5  100000           20000            YES       50000           Salary\n",
       "6     6  500000           25000            YES      200000           Salary\n",
       "7     7  700000           35000            YES      400000        Bussiness\n",
       "8     8    5000               0             NO           0           Normal\n",
       "9     9   50000           10000             NO           0           Normal\n",
       "10   10   60000           10000             NO           0           Normal\n",
       "11   11   44545           13000             NO           0           Normal\n",
       "12   12   20000           11000             NO           0           Normal\n",
       "13   13   44545           20000            YES       50000           Salary\n",
       "14   14   20000           25000            YES      200000           Salary\n",
       "15   15  100000           35000            YES      400000        Bussiness\n",
       "16   16    1000               0             NO           0  Student_account\n",
       "17   17     500               0             NO           0  Student_account\n",
       "18   18     NaN               0             NO           0  Student_account\n",
       "19   19     NaN             NaN            NaN           0              NaN\n",
       "20   20       0               0  not available        1200              NaN"
      ]
     },
     "execution_count": 3,
     "metadata": {},
     "output_type": "execute_result"
    }
   ],
   "source": [
    "\n",
    "s4=pd.read_csv(\"bank_loan.csv\",index_col=['Act_type'])\n",
    "#s5=pd.read_csv(\"bank_loan.csv\",header=11) # perticular row convert into header \n",
    "#s6=pd.read_csv(\"bank_loan.csv\",header=None) # NO Header \n",
    "#your choice name as a header \n",
    "#s6=pd.read_csv(\"bank_loan.csv\",header=None,prefix='col') # column name prefix wise \n",
    "#s6=pd.read_csv(\"bank_loan.csv\",names=['A','B','C','D','E','F']) # different different column name define \n",
    "s6"
   ]
  },
  {
   "cell_type": "markdown",
   "id": "20377e41",
   "metadata": {},
   "source": [
    "# Common Features "
   ]
  },
  {
   "cell_type": "code",
   "execution_count": 6,
   "id": "d997711b",
   "metadata": {},
   "outputs": [],
   "source": [
    "import pandas as pd\n",
    "s5=pd.read_csv(\"bank_loan.csv\")\n",
    "#print(s5)\n",
    "#print(s5.info())  # information in our DataFrame \n",
    "#fst 5 rows show\n",
    "#print(s5.head())  # head(3)\n",
    "# last 5 rows show\n",
    "#print(s5.tail())  # tail(3)\n",
    "#set data type of any column \n",
    "#s6=pd.read_csv(\"bank_loan.csv\",dtype={'id':'float','Loan_Limit':'float'})\n",
    "#print(s6)\n",
    "# yes and no convert into True and False  but mention all the string like yes no and not available also inclue\n",
    "s7=pd.read_csv(\"bank_loan.csv\",true_values=[\"YES\"],false_values=[\"NO\",\"not available\"])\n",
    "#maximum rows in our data freame \n",
    "#print(pd.options.display.max_rows)   # how many rows in out DataFrame \n",
    "#duplicate value find \n",
    "#print(s5['Balnc'].duplicated()) # duplicate value include so return False \n",
    "#drop Duplicate Values \n",
    "#s5.drop_duplicates(inplace = True) inplace=True means !create another dataframe directly effect on s5\n",
    "\n",
    "# Value Counts(how many times value repeat count)\n",
    "#value count\n",
    "#s5['Balnc'].value_counts()\n",
    "\n",
    "#delete multiple row \n",
    "#s6=s5.drop([1,2,3],axis=0) # perticular row del\n",
    "#delete column from s5 object \n",
    "#s7=s5.drop('Loan_Eli',axis=1) #delete column \n",
    "\n",
    "\n",
    "\n"
   ]
  },
  {
   "cell_type": "markdown",
   "id": "3982a986",
   "metadata": {},
   "source": [
    "own function create and apply some calculation pertucular column \n"
   ]
  },
  {
   "cell_type": "code",
   "execution_count": 7,
   "id": "66f8dc73",
   "metadata": {},
   "outputs": [
    {
     "name": "stdout",
     "output_type": "stream",
     "text": [
      "    id     Balnc  Monthly_Credit       Loan_Eli  Loan_Limit         Act_type\n",
      "0    1   50000.0         10000.0             NO           0           Normal\n",
      "1    2   60000.0         10000.0             NO           0           Normal\n",
      "2    3   44545.0         13000.0             NO           0           Normal\n",
      "3    4   20000.0         11000.0             NO           0           Normal\n",
      "4    5  100000.0         20000.0            YES       50000           Salary\n",
      "5    6  500000.0         25000.0            YES      200000           Salary\n",
      "6    7  700000.0         35000.0            YES      400000        Bussiness\n",
      "7    8    5000.0             0.0             NO           0           Normal\n",
      "8    9   50000.0         10000.0             NO           0           Normal\n",
      "9   10   60000.0         10000.0             NO           0           Normal\n",
      "10  11   44545.0         13000.0             NO           0           Normal\n",
      "11  12   20000.0         11000.0             NO           0           Normal\n",
      "12  13   44545.0         20000.0            YES       50000           Salary\n",
      "13  14   20000.0         25000.0            YES      200000           Salary\n",
      "14  15  100000.0         35000.0            YES      400000        Bussiness\n",
      "15  16    1000.0             0.0             NO           0  Student_account\n",
      "16  17     500.0             0.0             NO           0  Student_account\n",
      "17  18       NaN             0.0             NO           0  Student_account\n",
      "18  19       NaN             NaN            NaN           0              NaN\n",
      "19  20       0.0             0.0  not available        1200              NaN\n"
     ]
    },
    {
     "data": {
      "text/html": [
       "<div>\n",
       "<style scoped>\n",
       "    .dataframe tbody tr th:only-of-type {\n",
       "        vertical-align: middle;\n",
       "    }\n",
       "\n",
       "    .dataframe tbody tr th {\n",
       "        vertical-align: top;\n",
       "    }\n",
       "\n",
       "    .dataframe thead th {\n",
       "        text-align: right;\n",
       "    }\n",
       "</style>\n",
       "<table border=\"1\" class=\"dataframe\">\n",
       "  <thead>\n",
       "    <tr style=\"text-align: right;\">\n",
       "      <th></th>\n",
       "      <th>Balnc</th>\n",
       "    </tr>\n",
       "  </thead>\n",
       "  <tbody>\n",
       "    <tr>\n",
       "      <th>0</th>\n",
       "      <td>49990.0</td>\n",
       "    </tr>\n",
       "    <tr>\n",
       "      <th>1</th>\n",
       "      <td>59990.0</td>\n",
       "    </tr>\n",
       "    <tr>\n",
       "      <th>2</th>\n",
       "      <td>44535.0</td>\n",
       "    </tr>\n",
       "    <tr>\n",
       "      <th>3</th>\n",
       "      <td>19990.0</td>\n",
       "    </tr>\n",
       "    <tr>\n",
       "      <th>4</th>\n",
       "      <td>99990.0</td>\n",
       "    </tr>\n",
       "    <tr>\n",
       "      <th>5</th>\n",
       "      <td>499990.0</td>\n",
       "    </tr>\n",
       "    <tr>\n",
       "      <th>6</th>\n",
       "      <td>699990.0</td>\n",
       "    </tr>\n",
       "    <tr>\n",
       "      <th>7</th>\n",
       "      <td>4990.0</td>\n",
       "    </tr>\n",
       "    <tr>\n",
       "      <th>8</th>\n",
       "      <td>49990.0</td>\n",
       "    </tr>\n",
       "    <tr>\n",
       "      <th>9</th>\n",
       "      <td>59990.0</td>\n",
       "    </tr>\n",
       "    <tr>\n",
       "      <th>10</th>\n",
       "      <td>44535.0</td>\n",
       "    </tr>\n",
       "    <tr>\n",
       "      <th>11</th>\n",
       "      <td>19990.0</td>\n",
       "    </tr>\n",
       "    <tr>\n",
       "      <th>12</th>\n",
       "      <td>44535.0</td>\n",
       "    </tr>\n",
       "    <tr>\n",
       "      <th>13</th>\n",
       "      <td>19990.0</td>\n",
       "    </tr>\n",
       "    <tr>\n",
       "      <th>14</th>\n",
       "      <td>99990.0</td>\n",
       "    </tr>\n",
       "    <tr>\n",
       "      <th>15</th>\n",
       "      <td>990.0</td>\n",
       "    </tr>\n",
       "    <tr>\n",
       "      <th>16</th>\n",
       "      <td>490.0</td>\n",
       "    </tr>\n",
       "    <tr>\n",
       "      <th>17</th>\n",
       "      <td>NaN</td>\n",
       "    </tr>\n",
       "    <tr>\n",
       "      <th>18</th>\n",
       "      <td>NaN</td>\n",
       "    </tr>\n",
       "    <tr>\n",
       "      <th>19</th>\n",
       "      <td>-10.0</td>\n",
       "    </tr>\n",
       "  </tbody>\n",
       "</table>\n",
       "</div>"
      ],
      "text/plain": [
       "       Balnc\n",
       "0    49990.0\n",
       "1    59990.0\n",
       "2    44535.0\n",
       "3    19990.0\n",
       "4    99990.0\n",
       "5   499990.0\n",
       "6   699990.0\n",
       "7     4990.0\n",
       "8    49990.0\n",
       "9    59990.0\n",
       "10   44535.0\n",
       "11   19990.0\n",
       "12   44535.0\n",
       "13   19990.0\n",
       "14   99990.0\n",
       "15     990.0\n",
       "16     490.0\n",
       "17       NaN\n",
       "18       NaN\n",
       "19     -10.0"
      ]
     },
     "execution_count": 7,
     "metadata": {},
     "output_type": "execute_result"
    }
   ],
   "source": [
    "s3=pd.read_csv(\"bank_loan.csv\")\n",
    "print(s3)\n",
    "# apply method use \n",
    "def h(s):\n",
    "    return s - 10\n",
    "s4=s3[['Balnc']].apply(h)\n",
    "s4\n",
    "\n",
    "\n"
   ]
  },
  {
   "cell_type": "code",
   "execution_count": 17,
   "id": "8b6395a9",
   "metadata": {},
   "outputs": [
    {
     "data": {
      "application/vnd.jupyter.widget-view+json": {
       "model_id": "24c74069cae04097bbe0d895d132fefb",
       "version_major": 2,
       "version_minor": 0
      },
      "text/plain": [
       "interactive(children=(Text(value='', description='x'), Output()), _dom_classes=('widget-interact',))"
      ]
     },
     "metadata": {},
     "output_type": "display_data"
    },
    {
     "data": {
      "text/plain": [
       "<function __main__.xy(x='')>"
      ]
     },
     "execution_count": 17,
     "metadata": {},
     "output_type": "execute_result"
    }
   ],
   "source": [
    "import ipywidgets  as wid\n",
    "s3=pd.read_csv(\"bank_loan.csv\")\n",
    "def xy(x=''):\n",
    "    if x:\n",
    "        y=int(x)\n",
    "        rslt_df = s3[s3['Balnc'] > y]\n",
    "        print(rslt_df)\n",
    "wid.interact(xy,x='')    "
   ]
  },
  {
   "cell_type": "markdown",
   "id": "3125d250",
   "metadata": {},
   "source": [
    "# # Perticular row show condition basis "
   ]
  },
  {
   "cell_type": "code",
   "execution_count": 8,
   "id": "31b87321",
   "metadata": {},
   "outputs": [
    {
     "name": "stdout",
     "output_type": "stream",
     "text": [
      "\n",
      "Result dataframe :\n",
      "     id     Balnc  Monthly_Credit Loan_Eli  Loan_Limit         Act_type\n",
      "6    7  700000.0         35000.0      YES      400000        Bussiness\n",
      "14  15  100000.0         35000.0      YES      400000        Bussiness\n",
      "15  16    1000.0             0.0       NO           0  Student_account\n",
      "16  17     500.0             0.0       NO           0  Student_account\n",
      "17  18       NaN             0.0       NO           0  Student_account\n"
     ]
    }
   ],
   "source": [
    "s3=pd.read_csv(\"bank_loan.csv\")\n",
    "#rslt_df = s3[s3['Balnc'] > 80000]\n",
    "#print('\\nResult dataframe :\\n', rslt_df)\n",
    "    \n",
    "    \n",
    "# selecting rows based on condition\n",
    "options = ['Student_account', 'Bussiness']\n",
    "rslt_df1 = s3[s3['Act_type'].isin(options)]\n",
    "# 'Student_account', 'Bussiness' wise show row \n",
    "print('\\nResult dataframe :\\n', rslt_df1)\n",
    "#Selecting all the rows from the given dataframe in which ‘Act_type’ is not present in the options list using .loc[].\n",
    "#options = ['Student_account', 'Bussiness']\n",
    "# !'Student_account', 'Bussiness' wise show row \n",
    "#rslt_df2 = s3.loc[~s3['Act_type'].isin(options)]\n",
    "#print('\\nResult dataframe :\\n', rslt_df2)\n",
    "\n",
    "#rslt_df3 = s3[(s3['Balnc'] == 100000) & s3['Monthly_Credit']==20000]\n",
    "#print('\\nResult dataframe :\\n', rslt_df3)\n",
    "\n",
    "# Data Short ASC order\n",
    "#s3.sort_values(by=['Balnc'],ascending=False)\n",
    "\n",
    "\n"
   ]
  },
  {
   "cell_type": "markdown",
   "id": "293d40e7",
   "metadata": {},
   "source": [
    "# Perticular Column Convert into DateTime \n"
   ]
  },
  {
   "cell_type": "code",
   "execution_count": 9,
   "id": "c68e0fe4",
   "metadata": {},
   "outputs": [
    {
     "name": "stdout",
     "output_type": "stream",
     "text": [
      "0    1970-01-01 00:00:00.000000001\n",
      "1    1970-01-01 00:00:00.000000002\n",
      "2    1970-01-01 00:00:00.000000003\n",
      "3    1970-01-01 00:00:00.000000004\n",
      "4    1970-01-01 00:00:00.000000005\n",
      "5    1970-01-01 00:00:00.000000006\n",
      "6    1970-01-01 00:00:00.000000007\n",
      "7    1970-01-01 00:00:00.000000008\n",
      "8    1970-01-01 00:00:00.000000009\n",
      "9    1970-01-01 00:00:00.000000010\n",
      "10   1970-01-01 00:00:00.000000011\n",
      "11   1970-01-01 00:00:00.000000012\n",
      "12   1970-01-01 00:00:00.000000013\n",
      "13   1970-01-01 00:00:00.000000014\n",
      "14   1970-01-01 00:00:00.000000015\n",
      "15   1970-01-01 00:00:00.000000016\n",
      "16   1970-01-01 00:00:00.000000017\n",
      "17   1970-01-01 00:00:00.000000018\n",
      "18   1970-01-01 00:00:00.000000019\n",
      "19   1970-01-01 00:00:00.000000020\n",
      "Name: id, dtype: datetime64[ns]\n"
     ]
    }
   ],
   "source": [
    "s3=pd.read_csv(\"bank_loan.csv\")\n",
    "\n",
    "s4['id'] = pd.to_datetime(s3['id'])\n",
    "\n",
    "print(s4['id'])"
   ]
  },
  {
   "cell_type": "markdown",
   "id": "7d0d4376",
   "metadata": {},
   "source": [
    "# Handle Missing Value (Pandas)"
   ]
  },
  {
   "cell_type": "code",
   "execution_count": 13,
   "id": "71205fc6",
   "metadata": {},
   "outputs": [
    {
     "name": "stdout",
     "output_type": "stream",
     "text": [
      "    id     Balnc  Monthly_Credit       Loan_Eli  Loan_Limit         Act_type\n",
      "0    1   50000.0         10000.0             NO           0           Normal\n",
      "1    2   60000.0         10000.0             NO           0           Normal\n",
      "2    3   44545.0         13000.0             NO           0           Normal\n",
      "3    4   20000.0         11000.0             NO           0           Normal\n",
      "4    5  100000.0         20000.0            YES       50000           Salary\n",
      "5    6  500000.0         25000.0            YES      200000           Salary\n",
      "6    7  700000.0         35000.0            YES      400000        Bussiness\n",
      "7    8    5000.0             0.0             NO           0           Normal\n",
      "8    9   50000.0         10000.0             NO           0           Normal\n",
      "9   10   60000.0         10000.0             NO           0           Normal\n",
      "10  11   44545.0         13000.0             NO           0           Normal\n",
      "11  12   20000.0         11000.0             NO           0           Normal\n",
      "12  13   44545.0         20000.0            YES       50000           Salary\n",
      "13  14   20000.0         25000.0            YES      200000           Salary\n",
      "14  15  100000.0         35000.0            YES      400000        Bussiness\n",
      "15  16    1000.0             0.0             NO           0  Student_account\n",
      "16  17     500.0             0.0             NO           0  Student_account\n",
      "17  18       NaN             0.0             NO           0  Student_account\n",
      "18  19       NaN             NaN            NaN           0              NaN\n",
      "19  20       0.0             0.0  not available        1200              NaN\n"
     ]
    }
   ],
   "source": [
    "# show NaN for missing value or null\n",
    "\n",
    "#s5=pd.read_csv(\"bank_loan.csv\")\n",
    "#print(s5)\n",
    "# not available','no values' string include in your column  replace with NaN \n",
    "#s6=pd.read_csv(\"bank_loan.csv\",na_values=['not available','no values'])\n",
    "#print(s6)\n",
    "#perticular column value define as a NaN\n",
    "#s7=pd.read_csv(\"bank_loan.csv\",na_values={'Loan_Eli':'NO'})\n",
    "#print(s7)\n",
    "#if do not fill ur column as a NaN \n",
    "#s8=pd.read_csv(\"bank_loan.csv\",keep_default_na=False)\n",
    "#print(s8)\n",
    "#missing value fill NaN na_filter=True  or False\n",
    "s9=pd.read_csv(\"bank_loan.csv\",na_filter=True)\n",
    "print(s9)\n",
    "\n"
   ]
  },
  {
   "cell_type": "markdown",
   "id": "2f896d57",
   "metadata": {},
   "source": [
    "Finding missing Value "
   ]
  },
  {
   "cell_type": "code",
   "execution_count": 17,
   "id": "a176c43a",
   "metadata": {},
   "outputs": [
    {
     "name": "stdout",
     "output_type": "stream",
     "text": [
      "      id  Balnc  Monthly_Credit  Loan_Eli  Loan_Limit  Act_type\n",
      "0   True   True            True      True        True      True\n",
      "1   True   True            True      True        True      True\n",
      "2   True   True            True      True        True      True\n",
      "3   True   True            True      True        True      True\n",
      "4   True   True            True      True        True      True\n",
      "5   True   True            True      True        True      True\n",
      "6   True   True            True      True        True      True\n",
      "7   True   True            True      True        True      True\n",
      "8   True   True            True      True        True      True\n",
      "9   True   True            True      True        True      True\n",
      "10  True   True            True      True        True      True\n",
      "11  True   True            True      True        True      True\n",
      "12  True   True            True      True        True      True\n",
      "13  True   True            True      True        True      True\n",
      "14  True   True            True      True        True      True\n",
      "15  True   True            True      True        True      True\n",
      "16  True   True            True      True        True      True\n",
      "17  True  False            True      True        True      True\n",
      "18  True  False           False     False        True     False\n",
      "19  True   True            True      True        True     False\n"
     ]
    }
   ],
   "source": [
    "s9=pd.read_csv(\"bank_loan.csv\")\n",
    "#missing value return true & otherwise False \n",
    "#print(s9.isnull())\n",
    "#column wise null value count\n",
    "#print(s9.isnull().sum())\n",
    "#Total null value count\n",
    "#print(s9.isnull().sum().sum())\n",
    "\n",
    "# not missing value return true & otherwise False \n",
    "#print(s9.notnull())\n",
    "#column wise not null value count\n",
    "#print(s9.notnull().sum())\n",
    "#Total not null value count\n",
    "#print(s9.notnull().sum().sum())"
   ]
  },
  {
   "cell_type": "markdown",
   "id": "62d01e6e",
   "metadata": {},
   "source": [
    "DropNa() function use = drop missing value"
   ]
  },
  {
   "cell_type": "code",
   "execution_count": 7,
   "id": "8cb601cc",
   "metadata": {},
   "outputs": [],
   "source": [
    "s9=pd.read_csv(\"bank_loan.csv\")\n",
    "#print(s9)\n",
    "#if missing or NaN value include drop this column or Row\n",
    "#s10=s9.dropna(axis=1) # axis=1 for column \n",
    "#print(s10)\n",
    "#s11=s9.dropna(how='any') # any = default NaN include del this row , all= all value are NaN then del the row\n",
    "#print(s11)\n",
    "#s12=s9.dropna(thresh=3) # minimum 3 not NaN value include column print   \n",
    "#print(s12)\n",
    "#s13=s9.dropna(subset=['Balnc']) #  Nan value del on perticular column wise  \n",
    "#print(s13)\n",
    "#s9.dropna(inplace=True) # do not create another dataframe update mother data frame  so, !write s9=s9.dropna()\n",
    "#print(s9)"
   ]
  },
  {
   "cell_type": "markdown",
   "id": "ff85d4f1",
   "metadata": {},
   "source": [
    "fillna() function use=fillna the NaN values with given values (input)"
   ]
  },
  {
   "cell_type": "code",
   "execution_count": 18,
   "id": "272fe9a1",
   "metadata": {},
   "outputs": [],
   "source": [
    "s9=pd.read_csv(\"bank_loan.csv\")\n",
    "#NaN value replace with 0 or any value \n",
    "#s10=s9.fillna(0)\n",
    "#print(s10)\n",
    "#specific column wise choice value input\n",
    "#s11=s9.fillna({'Balnc':0,'Act_type':'ABC'})\n",
    "#print(s11)\n",
    "#previous row value fill replace  NaN value \n",
    "#s12=s9.fillna(method='ffill')  # bfill next value \n",
    "#print(s12)\n",
    "#previous column value fill replace  NaN value \n",
    "#s13=s9.fillna(method='ffill',axis=1)  # axis=0 row value fill\n",
    "#print(s13)\n",
    "#only one NaN value fill with 0 every column \n",
    "#s14=s9.fillna(0,limit=1)  # limit = choose your value \n",
    "#print(s14)\n",
    "#perticular column NaN value replace \n",
    "#s9[\"Balnc\"].fillna(130, inplace = True)\n",
    "\n",
    "#print(s9)"
   ]
  },
  {
   "cell_type": "markdown",
   "id": "6d47d50a",
   "metadata": {},
   "source": [
    "Replace function use ( values to the dataframe are replaced with other values dynamically) "
   ]
  },
  {
   "cell_type": "code",
   "execution_count": 28,
   "id": "459a1c11",
   "metadata": {},
   "outputs": [],
   "source": [
    "s9=pd.read_csv(\"bank_loan.csv\")\n",
    "#repalce value to value \n",
    "#s10=s9.replace(to_replace='NO',value='x') #s10=s9.replace('NO','x')  bcz fst and 2nd parameter \n",
    "#print(s10)\n",
    "#different differrent value repalce with perticuar value ( your id column follow)\n",
    "#s11=s9.replace(to_replace=[1,2,3,4],value=20) # values=[20,21,22,23]\n",
    "#print(s11)\n",
    "# pericular column value  replace \n",
    "#s12=s9.replace({'Act_type':'Normal'},value='NO') \n",
    "#print(s12)\n",
    "#regula expression through use our replace function \n",
    "#s13=s9.replace('[A-Za-z]',0,regex=True) \n",
    "#print(s13)\n",
    "\n",
    "# pericular column value  regular expression use \n",
    "#s14=s9.replace({'Act_type':'[a-zA-Z]'},0,regex=True) # values=[20,21,22,23]\n",
    "\n",
    "#print(s14)"
   ]
  },
  {
   "cell_type": "code",
   "execution_count": 34,
   "id": "f921a107",
   "metadata": {},
   "outputs": [
    {
     "name": "stdout",
     "output_type": "stream",
     "text": [
      "    id     Balnc  Monthly_Credit       Loan_Eli  Loan_Limit         Act_type\n",
      "0    1   50000.0         10000.0             NO           0           Normal\n",
      "1    2   60000.0         10000.0             NO           0           Normal\n",
      "2    3   44545.0         13000.0             NO           0           Normal\n",
      "3    4   20000.0         11000.0             NO           0           Normal\n",
      "4    5  100000.0         20000.0            YES       50000           Salary\n",
      "5    6  500000.0         25000.0            YES      200000           Salary\n",
      "6    7  700000.0         35000.0            YES      400000        Bussiness\n",
      "7    8    5000.0             0.0             NO           0           Normal\n",
      "8    9   50000.0         10000.0             NO           0           Normal\n",
      "9   10   60000.0         10000.0             NO           0           Normal\n",
      "10  11   44545.0         13000.0             NO           0           Normal\n",
      "11  12   20000.0         11000.0             NO           0           Normal\n",
      "12  13   44545.0         20000.0            YES       50000           Salary\n",
      "13  14   20000.0         25000.0            YES      200000           Salary\n",
      "14  15  100000.0         35000.0            YES      400000        Bussiness\n",
      "15  16    1000.0             0.0             NO           0  Student_account\n",
      "16  17     500.0             0.0             NO           0  Student_account\n",
      "17  18       NaN             0.0             NO           0  Student_account\n",
      "18  19       NaN             NaN            NaN           0              NaN\n",
      "19  20       0.0             0.0  not available        1200              NaN\n"
     ]
    }
   ],
   "source": []
  },
  {
   "cell_type": "markdown",
   "id": "bb9454ee",
   "metadata": {},
   "source": [
    "interpolate function is basically used to fill NAN values in dataframe or series \n"
   ]
  },
  {
   "cell_type": "code",
   "execution_count": 37,
   "id": "ab8cd15f",
   "metadata": {},
   "outputs": [
    {
     "name": "stdout",
     "output_type": "stream",
     "text": [
      "    id     Balnc  Monthly_Credit       Loan_Eli  Loan_Limit         Act_type\n",
      "0    1   50000.0         10000.0             NO           0           Normal\n",
      "1    2   60000.0         10000.0             NO           0           Normal\n",
      "2    3   44545.0         13000.0             NO           0           Normal\n",
      "3    4   20000.0         11000.0             NO           0           Normal\n",
      "4    5  100000.0         20000.0            YES       50000           Salary\n",
      "5    6  500000.0         25000.0            YES      200000           Salary\n",
      "6    7  700000.0         35000.0            YES      400000        Bussiness\n",
      "7    8    5000.0             0.0             NO           0           Normal\n",
      "8    9   50000.0         10000.0             NO           0           Normal\n",
      "9   10   60000.0         10000.0             NO           0           Normal\n",
      "10  11   44545.0         13000.0             NO           0           Normal\n",
      "11  12   20000.0         11000.0             NO           0           Normal\n",
      "12  13   44545.0         20000.0            YES       50000           Salary\n",
      "13  14   20000.0         25000.0            YES      200000           Salary\n",
      "14  15  100000.0         35000.0            YES      400000        Bussiness\n",
      "15  16    1000.0             0.0             NO           0  Student_account\n",
      "16  17     500.0             0.0             NO           0  Student_account\n",
      "17  18     500.0             0.0             NO           0  Student_account\n",
      "18  19       0.0             0.0            NaN           0              NaN\n",
      "19  20       0.0             0.0  not available        1200              NaN\n"
     ]
    }
   ],
   "source": [
    "s9=pd.read_csv(\"bank_loan.csv\")\n",
    "#print(s9)\n",
    "#interpolate math calculation by-default linear part \n",
    "#s10=s9.interpolate(method='linear',direction='forord')\n",
    "#print(s10)\n",
    "#nearest value receive\n",
    "#s10=s9.interpolate(method='nearest')\n",
    "#print(s10)\n"
   ]
  },
  {
   "cell_type": "code",
   "execution_count": null,
   "id": "6fc6ae08",
   "metadata": {},
   "outputs": [],
   "source": []
  },
  {
   "cell_type": "markdown",
   "id": "42296397",
   "metadata": {},
   "source": [
    "pandas loc method ...Access a group of rows & columns by label or a boolean array "
   ]
  },
  {
   "cell_type": "code",
   "execution_count": 38,
   "id": "55ab86f0",
   "metadata": {},
   "outputs": [],
   "source": [
    "s9=pd.read_csv(\"bank_loan.csv\")\n",
    "# show row 0 details \n",
    "#s9.loc[0] # list of rows [0,1,2]\n",
    "# perticlar column & row value\n",
    "#s9.loc[4,'Monthly_Credit'] \n",
    "#mention start point & end point \n",
    "#s9.loc[0:3]\n",
    "#condition operator use \n",
    "#s9.loc[s9['Balnc']>10000]\n",
    "#condition operator use & show perticular column  \n",
    "#s9.loc[s9['Balnc']>10000,['Loan_Eli']]"
   ]
  },
  {
   "cell_type": "markdown",
   "id": "511f4e06",
   "metadata": {},
   "source": [
    "pandas iloc method use --integer location-based indexing \n"
   ]
  },
  {
   "cell_type": "code",
   "execution_count": 49,
   "id": "144e10f7",
   "metadata": {},
   "outputs": [
    {
     "data": {
      "text/plain": [
       "0    1\n",
       "1    2\n",
       "2    3\n",
       "3    4\n",
       "Name: id, dtype: int64"
      ]
     },
     "execution_count": 49,
     "metadata": {},
     "output_type": "execute_result"
    }
   ],
   "source": [
    "s9=pd.read_csv(\"bank_loan.csv\")\n",
    "#s9.iloc[0] #[1,2,3]\n",
    "#s9.iloc[0:2]\n",
    "# difference between s9.loc[0:4,'column_name']\n",
    "s9.iloc[0:4,0] # 0 to 4 row value and column 0 index  \n"
   ]
  },
  {
   "cell_type": "markdown",
   "id": "1b1de1c7",
   "metadata": {},
   "source": [
    "GroupBy Function use ..... is used to split the data into groups based on some criteria"
   ]
  },
  {
   "cell_type": "code",
   "execution_count": 52,
   "id": "092229fc",
   "metadata": {},
   "outputs": [
    {
     "name": "stdout",
     "output_type": "stream",
     "text": [
      "Bussiness\n",
      "    id     Balnc  Monthly_Credit Loan_Eli  Loan_Limit   Act_type\n",
      "6    7  700000.0         35000.0      YES      400000  Bussiness\n",
      "14  15  100000.0         35000.0      YES      400000  Bussiness\n",
      "Normal\n",
      "    id    Balnc  Monthly_Credit Loan_Eli  Loan_Limit Act_type\n",
      "0    1  50000.0         10000.0       NO           0   Normal\n",
      "1    2  60000.0         10000.0       NO           0   Normal\n",
      "2    3  44545.0         13000.0       NO           0   Normal\n",
      "3    4  20000.0         11000.0       NO           0   Normal\n",
      "7    8   5000.0             0.0       NO           0   Normal\n",
      "8    9  50000.0         10000.0       NO           0   Normal\n",
      "9   10  60000.0         10000.0       NO           0   Normal\n",
      "10  11  44545.0         13000.0       NO           0   Normal\n",
      "11  12  20000.0         11000.0       NO           0   Normal\n",
      "Salary\n",
      "    id     Balnc  Monthly_Credit Loan_Eli  Loan_Limit Act_type\n",
      "4    5  100000.0         20000.0      YES       50000   Salary\n",
      "5    6  500000.0         25000.0      YES      200000   Salary\n",
      "12  13   44545.0         20000.0      YES       50000   Salary\n",
      "13  14   20000.0         25000.0      YES      200000   Salary\n",
      "Student_account\n",
      "    id   Balnc  Monthly_Credit Loan_Eli  Loan_Limit         Act_type\n",
      "15  16  1000.0             0.0       NO           0  Student_account\n",
      "16  17   500.0             0.0       NO           0  Student_account\n",
      "17  18     NaN             0.0       NO           0  Student_account\n"
     ]
    }
   ],
   "source": [
    "s9=pd.read_csv(\"bank_loan.csv\")\n",
    "s10=s9.groupby('Act_type') # like SQL select * from table_name group by Act_type\n",
    "#return a object \n",
    "#s10\n",
    "#print s10 Object\n",
    "for x,y in s10:\n",
    "    print(x)\n",
    "    print(y)"
   ]
  },
  {
   "cell_type": "code",
   "execution_count": 56,
   "id": "2a385b3c",
   "metadata": {},
   "outputs": [
    {
     "data": {
      "text/html": [
       "<div>\n",
       "<style scoped>\n",
       "    .dataframe tbody tr th:only-of-type {\n",
       "        vertical-align: middle;\n",
       "    }\n",
       "\n",
       "    .dataframe tbody tr th {\n",
       "        vertical-align: top;\n",
       "    }\n",
       "\n",
       "    .dataframe thead tr th {\n",
       "        text-align: left;\n",
       "    }\n",
       "\n",
       "    .dataframe thead tr:last-of-type th {\n",
       "        text-align: right;\n",
       "    }\n",
       "</style>\n",
       "<table border=\"1\" class=\"dataframe\">\n",
       "  <thead>\n",
       "    <tr>\n",
       "      <th></th>\n",
       "      <th colspan=\"2\" halign=\"left\">id</th>\n",
       "      <th colspan=\"2\" halign=\"left\">Balnc</th>\n",
       "      <th colspan=\"2\" halign=\"left\">Monthly_Credit</th>\n",
       "      <th colspan=\"2\" halign=\"left\">Loan_Eli</th>\n",
       "      <th colspan=\"2\" halign=\"left\">Loan_Limit</th>\n",
       "    </tr>\n",
       "    <tr>\n",
       "      <th></th>\n",
       "      <th>count</th>\n",
       "      <th>max</th>\n",
       "      <th>count</th>\n",
       "      <th>max</th>\n",
       "      <th>count</th>\n",
       "      <th>max</th>\n",
       "      <th>count</th>\n",
       "      <th>max</th>\n",
       "      <th>count</th>\n",
       "      <th>max</th>\n",
       "    </tr>\n",
       "    <tr>\n",
       "      <th>Act_type</th>\n",
       "      <th></th>\n",
       "      <th></th>\n",
       "      <th></th>\n",
       "      <th></th>\n",
       "      <th></th>\n",
       "      <th></th>\n",
       "      <th></th>\n",
       "      <th></th>\n",
       "      <th></th>\n",
       "      <th></th>\n",
       "    </tr>\n",
       "  </thead>\n",
       "  <tbody>\n",
       "    <tr>\n",
       "      <th>Bussiness</th>\n",
       "      <td>2</td>\n",
       "      <td>15</td>\n",
       "      <td>2</td>\n",
       "      <td>700000.0</td>\n",
       "      <td>2</td>\n",
       "      <td>35000.0</td>\n",
       "      <td>2</td>\n",
       "      <td>YES</td>\n",
       "      <td>2</td>\n",
       "      <td>400000</td>\n",
       "    </tr>\n",
       "    <tr>\n",
       "      <th>Normal</th>\n",
       "      <td>9</td>\n",
       "      <td>12</td>\n",
       "      <td>9</td>\n",
       "      <td>60000.0</td>\n",
       "      <td>9</td>\n",
       "      <td>13000.0</td>\n",
       "      <td>9</td>\n",
       "      <td>NO</td>\n",
       "      <td>9</td>\n",
       "      <td>0</td>\n",
       "    </tr>\n",
       "    <tr>\n",
       "      <th>Salary</th>\n",
       "      <td>4</td>\n",
       "      <td>14</td>\n",
       "      <td>4</td>\n",
       "      <td>500000.0</td>\n",
       "      <td>4</td>\n",
       "      <td>25000.0</td>\n",
       "      <td>4</td>\n",
       "      <td>YES</td>\n",
       "      <td>4</td>\n",
       "      <td>200000</td>\n",
       "    </tr>\n",
       "    <tr>\n",
       "      <th>Student_account</th>\n",
       "      <td>3</td>\n",
       "      <td>18</td>\n",
       "      <td>2</td>\n",
       "      <td>1000.0</td>\n",
       "      <td>3</td>\n",
       "      <td>0.0</td>\n",
       "      <td>3</td>\n",
       "      <td>NO</td>\n",
       "      <td>3</td>\n",
       "      <td>0</td>\n",
       "    </tr>\n",
       "  </tbody>\n",
       "</table>\n",
       "</div>"
      ],
      "text/plain": [
       "                   id     Balnc           Monthly_Credit          Loan_Eli  \\\n",
       "                count max count       max          count      max    count   \n",
       "Act_type                                                                     \n",
       "Bussiness           2  15     2  700000.0              2  35000.0        2   \n",
       "Normal              9  12     9   60000.0              9  13000.0        9   \n",
       "Salary              4  14     4  500000.0              4  25000.0        4   \n",
       "Student_account     3  18     2    1000.0              3      0.0        3   \n",
       "\n",
       "                     Loan_Limit          \n",
       "                 max      count     max  \n",
       "Act_type                                 \n",
       "Bussiness        YES          2  400000  \n",
       "Normal            NO          9       0  \n",
       "Salary           YES          4  200000  \n",
       "Student_account   NO          3       0  "
      ]
     },
     "execution_count": 56,
     "metadata": {},
     "output_type": "execute_result"
    }
   ],
   "source": [
    "# just mention one value \n",
    "#s10.get_group('Normal') #like SQL select * from table_name group by Act_type where Act_type='Normal'\n",
    "#maximum value return group wise \n",
    "#s10.max()\n",
    "#describe my data details group wise \n",
    "#s10.describe()\n",
    "#perticular function mentions \n",
    "s10.agg(['count','max'])"
   ]
  },
  {
   "cell_type": "markdown",
   "id": "9dd43e22",
   "metadata": {},
   "source": [
    "pandas marging function = SQL join concept"
   ]
  },
  {
   "cell_type": "code",
   "execution_count": 64,
   "id": "0a3189b6",
   "metadata": {},
   "outputs": [],
   "source": [
    "table1=pd.DataFrame({\"name\":['som','som2','som3','som4','som5','som6','som7'],\"mks\":[12,16,15,85,89,55,57]})\n",
    "table2=pd.DataFrame({\"name\":['som','som2','som3','ab1','ab2','ab3','ab4'],\"Sec\":['A','A','A','B','B','B','B']})\n",
    "#print(table1)\n",
    "#print(table2)\n",
    "#join 2 dataframe \n",
    "#s2=pd.merge(table1,table2,on='name',how='inner') #  on= 'common value' how='outer'/'right'/'left' rmation)\n",
    "#print(s2)\n",
    "#indicator=True left join right join both information provide \n",
    "#s2=pd.merge(table1,table2,on='name',how='outer',indicator=True) #  on= 'common value' how='outer'/'right'/'left' rmation)\n",
    "#print(s2)\n",
    "#join left column  and right column show\n",
    "#s2=pd.merge(table1,table2,left_index=True,right_index=True) # name_x & nam_y change throuh suffixes=('_a','_b')\n",
    "#s2\n"
   ]
  },
  {
   "cell_type": "markdown",
   "id": "b1c23003",
   "metadata": {},
   "source": [
    "pandas Concat Function .(marge=one column name same but ! concat )"
   ]
  },
  {
   "cell_type": "code",
   "execution_count": 68,
   "id": "16ff7227",
   "metadata": {},
   "outputs": [
    {
     "name": "stdout",
     "output_type": "stream",
     "text": [
      "   name  mks  name  mks\n",
      "0   som   12   som   12\n",
      "1  som2   16  som2   16\n",
      "2  som3   15  som3   15\n",
      "3  som4   85   ab1   87\n"
     ]
    }
   ],
   "source": [
    "table1=pd.DataFrame({\"name\":['som','som2','som3','som4','som5','som6','som7'],\"mks\":[12,16,15,85,89,55,57]})\n",
    "table2=pd.DataFrame({\"name\":['som','som2','som3','ab1'],\"mks\":[12,16,15,87]})\n",
    "#concat two data frame \n",
    "#s=pd.concat([table1,table2])\n",
    "#print(s)\n",
    "#fst one data frame then other data frame \n",
    "#s=pd.concat([table1,table2],axis=1)\n",
    "#print(s)\n",
    "#index wise match bydefault \n",
    "#s=pd.concat([table1,table2],axis=1,join='inner') # compare index wise therefore show all data \n",
    "#print(s)\n"
   ]
  },
  {
   "cell_type": "code",
   "execution_count": 55,
   "id": "4792158b",
   "metadata": {},
   "outputs": [
    {
     "name": "stdout",
     "output_type": "stream",
     "text": [
      "   name  mks  name  mks\n",
      "1   som   12   som   12\n",
      "2  som2   16  som2   16\n",
      "3  som3   15  som3   15\n",
      "4  som4   85   ab1   85\n"
     ]
    }
   ],
   "source": [
    "#change index then compare value \n",
    "table1=pd.DataFrame({\"name\":['som','som2','som3','som4','som5','som6','som7'],\"mks\":[12,16,15,85,89,55,57]},index=[1,2,3,4,5,6,7])\n",
    "table2=pd.DataFrame({\"name\":['som','som2','som3','ab1'],\"mks\":[12,16,15,85]},index=[1,2,3,4])\n",
    "#print(table1)\n",
    "#print(table2)\n",
    "#s=pd.concat([table1,table2],axis=1,join='inner') # compare index wise therefore show all data \n",
    "#print(s)"
   ]
  },
  {
   "cell_type": "markdown",
   "id": "11432376",
   "metadata": {},
   "source": [
    "join = different column name join  "
   ]
  },
  {
   "cell_type": "code",
   "execution_count": 37,
   "id": "e6389ca5",
   "metadata": {},
   "outputs": [
    {
     "data": {
      "text/html": [
       "<div>\n",
       "<style scoped>\n",
       "    .dataframe tbody tr th:only-of-type {\n",
       "        vertical-align: middle;\n",
       "    }\n",
       "\n",
       "    .dataframe tbody tr th {\n",
       "        vertical-align: top;\n",
       "    }\n",
       "\n",
       "    .dataframe thead th {\n",
       "        text-align: right;\n",
       "    }\n",
       "</style>\n",
       "<table border=\"1\" class=\"dataframe\">\n",
       "  <thead>\n",
       "    <tr style=\"text-align: right;\">\n",
       "      <th></th>\n",
       "      <th>name</th>\n",
       "      <th>mks</th>\n",
       "    </tr>\n",
       "  </thead>\n",
       "  <tbody>\n",
       "    <tr>\n",
       "      <th>1</th>\n",
       "      <td>som</td>\n",
       "      <td>12</td>\n",
       "    </tr>\n",
       "    <tr>\n",
       "      <th>2</th>\n",
       "      <td>som2</td>\n",
       "      <td>16</td>\n",
       "    </tr>\n",
       "    <tr>\n",
       "      <th>3</th>\n",
       "      <td>som3</td>\n",
       "      <td>15</td>\n",
       "    </tr>\n",
       "  </tbody>\n",
       "</table>\n",
       "</div>"
      ],
      "text/plain": [
       "   name  mks\n",
       "1   som   12\n",
       "2  som2   16\n",
       "3  som3   15"
      ]
     },
     "metadata": {},
     "output_type": "display_data"
    },
    {
     "data": {
      "text/html": [
       "<div>\n",
       "<style scoped>\n",
       "    .dataframe tbody tr th:only-of-type {\n",
       "        vertical-align: middle;\n",
       "    }\n",
       "\n",
       "    .dataframe tbody tr th {\n",
       "        vertical-align: top;\n",
       "    }\n",
       "\n",
       "    .dataframe thead th {\n",
       "        text-align: right;\n",
       "    }\n",
       "</style>\n",
       "<table border=\"1\" class=\"dataframe\">\n",
       "  <thead>\n",
       "    <tr style=\"text-align: right;\">\n",
       "      <th></th>\n",
       "      <th>name1</th>\n",
       "      <th>mks1</th>\n",
       "    </tr>\n",
       "  </thead>\n",
       "  <tbody>\n",
       "    <tr>\n",
       "      <th>0</th>\n",
       "      <td>som</td>\n",
       "      <td>12</td>\n",
       "    </tr>\n",
       "    <tr>\n",
       "      <th>1</th>\n",
       "      <td>som2</td>\n",
       "      <td>16</td>\n",
       "    </tr>\n",
       "    <tr>\n",
       "      <th>2</th>\n",
       "      <td>som3</td>\n",
       "      <td>15</td>\n",
       "    </tr>\n",
       "  </tbody>\n",
       "</table>\n",
       "</div>"
      ],
      "text/plain": [
       "  name1  mks1\n",
       "0   som    12\n",
       "1  som2    16\n",
       "2  som3    15"
      ]
     },
     "metadata": {},
     "output_type": "display_data"
    },
    {
     "data": {
      "text/html": [
       "<div>\n",
       "<style scoped>\n",
       "    .dataframe tbody tr th:only-of-type {\n",
       "        vertical-align: middle;\n",
       "    }\n",
       "\n",
       "    .dataframe tbody tr th {\n",
       "        vertical-align: top;\n",
       "    }\n",
       "\n",
       "    .dataframe thead th {\n",
       "        text-align: right;\n",
       "    }\n",
       "</style>\n",
       "<table border=\"1\" class=\"dataframe\">\n",
       "  <thead>\n",
       "    <tr style=\"text-align: right;\">\n",
       "      <th></th>\n",
       "      <th>name</th>\n",
       "      <th>mks</th>\n",
       "      <th>name1</th>\n",
       "      <th>mks1</th>\n",
       "    </tr>\n",
       "  </thead>\n",
       "  <tbody>\n",
       "    <tr>\n",
       "      <th>1</th>\n",
       "      <td>som</td>\n",
       "      <td>12</td>\n",
       "      <td>som2</td>\n",
       "      <td>16.0</td>\n",
       "    </tr>\n",
       "    <tr>\n",
       "      <th>2</th>\n",
       "      <td>som2</td>\n",
       "      <td>16</td>\n",
       "      <td>som3</td>\n",
       "      <td>15.0</td>\n",
       "    </tr>\n",
       "    <tr>\n",
       "      <th>3</th>\n",
       "      <td>som3</td>\n",
       "      <td>15</td>\n",
       "      <td>NaN</td>\n",
       "      <td>NaN</td>\n",
       "    </tr>\n",
       "  </tbody>\n",
       "</table>\n",
       "</div>"
      ],
      "text/plain": [
       "   name  mks name1  mks1\n",
       "1   som   12  som2  16.0\n",
       "2  som2   16  som3  15.0\n",
       "3  som3   15   NaN   NaN"
      ]
     },
     "execution_count": 37,
     "metadata": {},
     "output_type": "execute_result"
    }
   ],
   "source": [
    "table1=pd.DataFrame({\"name\":['som','som2','som3'],\"mks\":[12,16,15]},index=[1,2,3])\n",
    "table2=pd.DataFrame({\"name1\":['som','som2','som3'],\"mks1\":[12,16,15]})\n",
    "display(table1,table2)\n",
    "table1.join(table2)"
   ]
  },
  {
   "cell_type": "markdown",
   "id": "832aa4cc",
   "metadata": {},
   "source": [
    "Append=datafame row join to another data frame "
   ]
  },
  {
   "cell_type": "code",
   "execution_count": 71,
   "id": "54b04d8c",
   "metadata": {},
   "outputs": [
    {
     "data": {
      "text/html": [
       "<div>\n",
       "<style scoped>\n",
       "    .dataframe tbody tr th:only-of-type {\n",
       "        vertical-align: middle;\n",
       "    }\n",
       "\n",
       "    .dataframe tbody tr th {\n",
       "        vertical-align: top;\n",
       "    }\n",
       "\n",
       "    .dataframe thead th {\n",
       "        text-align: right;\n",
       "    }\n",
       "</style>\n",
       "<table border=\"1\" class=\"dataframe\">\n",
       "  <thead>\n",
       "    <tr style=\"text-align: right;\">\n",
       "      <th></th>\n",
       "      <th>name</th>\n",
       "      <th>mks</th>\n",
       "    </tr>\n",
       "  </thead>\n",
       "  <tbody>\n",
       "    <tr>\n",
       "      <th>1</th>\n",
       "      <td>som</td>\n",
       "      <td>12</td>\n",
       "    </tr>\n",
       "    <tr>\n",
       "      <th>2</th>\n",
       "      <td>som2</td>\n",
       "      <td>16</td>\n",
       "    </tr>\n",
       "    <tr>\n",
       "      <th>3</th>\n",
       "      <td>som3</td>\n",
       "      <td>15</td>\n",
       "    </tr>\n",
       "  </tbody>\n",
       "</table>\n",
       "</div>"
      ],
      "text/plain": [
       "   name  mks\n",
       "1   som   12\n",
       "2  som2   16\n",
       "3  som3   15"
      ]
     },
     "metadata": {},
     "output_type": "display_data"
    },
    {
     "data": {
      "text/html": [
       "<div>\n",
       "<style scoped>\n",
       "    .dataframe tbody tr th:only-of-type {\n",
       "        vertical-align: middle;\n",
       "    }\n",
       "\n",
       "    .dataframe tbody tr th {\n",
       "        vertical-align: top;\n",
       "    }\n",
       "\n",
       "    .dataframe thead th {\n",
       "        text-align: right;\n",
       "    }\n",
       "</style>\n",
       "<table border=\"1\" class=\"dataframe\">\n",
       "  <thead>\n",
       "    <tr style=\"text-align: right;\">\n",
       "      <th></th>\n",
       "      <th>name1</th>\n",
       "      <th>mks1</th>\n",
       "    </tr>\n",
       "  </thead>\n",
       "  <tbody>\n",
       "    <tr>\n",
       "      <th>0</th>\n",
       "      <td>som</td>\n",
       "      <td>12</td>\n",
       "    </tr>\n",
       "    <tr>\n",
       "      <th>1</th>\n",
       "      <td>som2</td>\n",
       "      <td>16</td>\n",
       "    </tr>\n",
       "    <tr>\n",
       "      <th>2</th>\n",
       "      <td>som3</td>\n",
       "      <td>15</td>\n",
       "    </tr>\n",
       "  </tbody>\n",
       "</table>\n",
       "</div>"
      ],
      "text/plain": [
       "  name1  mks1\n",
       "0   som    12\n",
       "1  som2    16\n",
       "2  som3    15"
      ]
     },
     "metadata": {},
     "output_type": "display_data"
    },
    {
     "data": {
      "text/html": [
       "<div>\n",
       "<style scoped>\n",
       "    .dataframe tbody tr th:only-of-type {\n",
       "        vertical-align: middle;\n",
       "    }\n",
       "\n",
       "    .dataframe tbody tr th {\n",
       "        vertical-align: top;\n",
       "    }\n",
       "\n",
       "    .dataframe thead th {\n",
       "        text-align: right;\n",
       "    }\n",
       "</style>\n",
       "<table border=\"1\" class=\"dataframe\">\n",
       "  <thead>\n",
       "    <tr style=\"text-align: right;\">\n",
       "      <th></th>\n",
       "      <th>name</th>\n",
       "      <th>mks</th>\n",
       "      <th>name1</th>\n",
       "      <th>mks1</th>\n",
       "    </tr>\n",
       "  </thead>\n",
       "  <tbody>\n",
       "    <tr>\n",
       "      <th>0</th>\n",
       "      <td>som</td>\n",
       "      <td>12.0</td>\n",
       "      <td>NaN</td>\n",
       "      <td>NaN</td>\n",
       "    </tr>\n",
       "    <tr>\n",
       "      <th>1</th>\n",
       "      <td>som2</td>\n",
       "      <td>16.0</td>\n",
       "      <td>NaN</td>\n",
       "      <td>NaN</td>\n",
       "    </tr>\n",
       "    <tr>\n",
       "      <th>2</th>\n",
       "      <td>som3</td>\n",
       "      <td>15.0</td>\n",
       "      <td>NaN</td>\n",
       "      <td>NaN</td>\n",
       "    </tr>\n",
       "    <tr>\n",
       "      <th>3</th>\n",
       "      <td>NaN</td>\n",
       "      <td>NaN</td>\n",
       "      <td>som</td>\n",
       "      <td>12.0</td>\n",
       "    </tr>\n",
       "    <tr>\n",
       "      <th>4</th>\n",
       "      <td>NaN</td>\n",
       "      <td>NaN</td>\n",
       "      <td>som2</td>\n",
       "      <td>16.0</td>\n",
       "    </tr>\n",
       "    <tr>\n",
       "      <th>5</th>\n",
       "      <td>NaN</td>\n",
       "      <td>NaN</td>\n",
       "      <td>som3</td>\n",
       "      <td>15.0</td>\n",
       "    </tr>\n",
       "  </tbody>\n",
       "</table>\n",
       "</div>"
      ],
      "text/plain": [
       "   name   mks name1  mks1\n",
       "0   som  12.0   NaN   NaN\n",
       "1  som2  16.0   NaN   NaN\n",
       "2  som3  15.0   NaN   NaN\n",
       "3   NaN   NaN   som  12.0\n",
       "4   NaN   NaN  som2  16.0\n",
       "5   NaN   NaN  som3  15.0"
      ]
     },
     "execution_count": 71,
     "metadata": {},
     "output_type": "execute_result"
    }
   ],
   "source": [
    "\n",
    "table1=pd.DataFrame({\"name\":['som','som2','som3'],\"mks\":[12,16,15]},index=[1,2,3])\n",
    "table2=pd.DataFrame({\"name\":['som','som2','som3'],\"mks\":[12,16,15]})\n",
    "display(table1,table2)\n",
    "#table 1 row join to table2(( ! column wise)) row but column name must same  if not same show NAN for not match value \n",
    "#table1.append(table2)\n",
    "#index show orderly \n",
    "table1.append(table2,ignore_index=True)\n"
   ]
  },
  {
   "cell_type": "markdown",
   "id": "55f709e4",
   "metadata": {},
   "source": [
    "# Pivot Table "
   ]
  },
  {
   "cell_type": "code",
   "execution_count": 74,
   "id": "95a42302",
   "metadata": {},
   "outputs": [
    {
     "name": "stdout",
     "output_type": "stream",
     "text": [
      "                Balnc                Loan_Eli                Loan_Limit       \\\n",
      "year             2010 2012 2015 2018     2010 2012 2015 2018       2010 2012   \n",
      "Act_type                                                                       \n",
      "Bussiness         NaN  1.0  NaN  1.0      NaN  1.0  NaN  1.0        NaN  1.0   \n",
      "Normal            4.0  1.0  4.0  NaN      4.0  1.0  4.0  NaN        4.0  1.0   \n",
      "Salary            NaN  2.0  NaN  2.0      NaN  2.0  NaN  2.0        NaN  2.0   \n",
      "Student_account   NaN  NaN  NaN  2.0      NaN  NaN  NaN  3.0        NaN  NaN   \n",
      "\n",
      "                          Monthly_Credit                  id                 \n",
      "year            2015 2018           2010 2012 2015 2018 2010 2012 2015 2018  \n",
      "Act_type                                                                     \n",
      "Bussiness        NaN  1.0            NaN  1.0  NaN  1.0  NaN  1.0  NaN  1.0  \n",
      "Normal           4.0  NaN            4.0  1.0  4.0  NaN  4.0  1.0  4.0  NaN  \n",
      "Salary           NaN  2.0            NaN  2.0  NaN  2.0  NaN  2.0  NaN  2.0  \n",
      "Student_account  NaN  3.0            NaN  NaN  NaN  3.0  NaN  NaN  NaN  3.0  \n"
     ]
    }
   ],
   "source": [
    "s3=pd.read_csv(\"piv.csv\")\n",
    "#print(s3)\n",
    "#pivot table create Acccount type wise every column mean value show \n",
    "#s4=s3.pivot_table(index='Act_type') #bydefault mean value show \n",
    "#print(s4)\n",
    "#acount type and year wise grouping \n",
    "#s5=s3.pivot_table(index='Act_type',columns='year') #bydefault mean value show \n",
    "#print(s5)\n",
    "#different function use in my pivot table \n",
    "#s6=s3.pivot_table(index='Act_type',columns='year',aggfunc='count') #bydefault mean value show \n",
    "#print(s6)\n",
    "#Nan value replace with 0 \n",
    "#s7=s3.pivot_table(index='Act_type',columns='year',aggfunc='count',fill_value=0) #bydefault mean value show \n",
    "#print(s7)"
   ]
  },
  {
   "cell_type": "markdown",
   "id": "171c9633",
   "metadata": {},
   "source": [
    "# Mean(Average) Value Find "
   ]
  },
  {
   "cell_type": "code",
   "execution_count": 69,
   "id": "c0a7e986",
   "metadata": {},
   "outputs": [
    {
     "name": "stdout",
     "output_type": "stream",
     "text": [
      "    id     Balnc  Monthly_Credit       Loan_Eli  Loan_Limit         Act_type\n",
      "0    1   50000.0         10000.0             NO           0           Normal\n",
      "1    2   60000.0         10000.0             NO           0           Normal\n",
      "2    3   44545.0         13000.0             NO           0           Normal\n",
      "3    4   20000.0         11000.0             NO           0           Normal\n",
      "4    5  100000.0         20000.0            YES       50000           Salary\n",
      "5    6  500000.0         25000.0            YES      200000           Salary\n",
      "6    7  700000.0         35000.0            YES      400000        Bussiness\n",
      "7    8    5000.0             0.0             NO           0           Normal\n",
      "8    9   50000.0         10000.0             NO           0           Normal\n",
      "9   10   60000.0         10000.0             NO           0           Normal\n",
      "10  11   44545.0         13000.0             NO           0           Normal\n",
      "11  12   20000.0         11000.0             NO           0           Normal\n",
      "12  13   44545.0         20000.0            YES       50000           Salary\n",
      "13  14   20000.0         25000.0            YES      200000           Salary\n",
      "14  15  100000.0         35000.0            YES      400000        Bussiness\n",
      "15  16    1000.0             0.0             NO           0  Student_account\n",
      "16  17     500.0             0.0             NO           0  Student_account\n",
      "17  18   44545.0             0.0             NO           0  Student_account\n",
      "18  19   44545.0             NaN            NaN           0              NaN\n",
      "19  20       0.0             0.0  not available        1200              NaN\n"
     ]
    }
   ],
   "source": [
    "import numpy as np\n",
    "s3=pd.read_csv(\"bank_loan.csv\")\n",
    "x = s3[\"Balnc\"].mean()   #median()      \n",
    "s3[\"Balnc\"].fillna(x, inplace = True)\n",
    "print(s3)\n",
    "#s3.head(2)\n",
    "#s3[\"Balnc\"] = s3[\"Balnc\"].replace(np.nan, x)\n",
    "#print(s3[\"Balnc\"])\n",
    "#s3[\"Balnc\"]=s3[\"Balnc\"].fillna(x)\n",
    "#print(s3[\"Balnc\"])"
   ]
  },
  {
   "cell_type": "markdown",
   "id": "db4b4c80",
   "metadata": {},
   "source": [
    "# Median = the value in the middle, after you have sorted all values ascending.\n",
    "[5,9,8,12,1,6] = 1,5,6,8,9,12 = (6+8)/2=7"
   ]
  },
  {
   "cell_type": "code",
   "execution_count": 69,
   "id": "8545ae55",
   "metadata": {},
   "outputs": [
    {
     "name": "stdout",
     "output_type": "stream",
     "text": [
      "7.0\n"
     ]
    }
   ],
   "source": [
    "s=pd.Series([5,9,8,12,1,6])\n",
    "print(s.median())"
   ]
  },
  {
   "cell_type": "code",
   "execution_count": 71,
   "id": "53887cf5",
   "metadata": {},
   "outputs": [
    {
     "name": "stdout",
     "output_type": "stream",
     "text": [
      "44545.0\n"
     ]
    },
    {
     "data": {
      "text/html": [
       "<div>\n",
       "<style scoped>\n",
       "    .dataframe tbody tr th:only-of-type {\n",
       "        vertical-align: middle;\n",
       "    }\n",
       "\n",
       "    .dataframe tbody tr th {\n",
       "        vertical-align: top;\n",
       "    }\n",
       "\n",
       "    .dataframe thead th {\n",
       "        text-align: right;\n",
       "    }\n",
       "</style>\n",
       "<table border=\"1\" class=\"dataframe\">\n",
       "  <thead>\n",
       "    <tr style=\"text-align: right;\">\n",
       "      <th></th>\n",
       "      <th>id</th>\n",
       "      <th>Balnc</th>\n",
       "      <th>Monthly_Credit</th>\n",
       "      <th>Loan_Eli</th>\n",
       "      <th>Loan_Limit</th>\n",
       "      <th>Act_type</th>\n",
       "    </tr>\n",
       "  </thead>\n",
       "  <tbody>\n",
       "    <tr>\n",
       "      <th>0</th>\n",
       "      <td>1</td>\n",
       "      <td>50000.0</td>\n",
       "      <td>10000.0</td>\n",
       "      <td>NO</td>\n",
       "      <td>0</td>\n",
       "      <td>Normal</td>\n",
       "    </tr>\n",
       "    <tr>\n",
       "      <th>1</th>\n",
       "      <td>2</td>\n",
       "      <td>60000.0</td>\n",
       "      <td>10000.0</td>\n",
       "      <td>NO</td>\n",
       "      <td>0</td>\n",
       "      <td>Normal</td>\n",
       "    </tr>\n",
       "  </tbody>\n",
       "</table>\n",
       "</div>"
      ],
      "text/plain": [
       "   id    Balnc  Monthly_Credit Loan_Eli  Loan_Limit Act_type\n",
       "0   1  50000.0         10000.0       NO           0   Normal\n",
       "1   2  60000.0         10000.0       NO           0   Normal"
      ]
     },
     "execution_count": 71,
     "metadata": {},
     "output_type": "execute_result"
    }
   ],
   "source": [
    "s3=pd.read_csv(\"bank_loan.csv\")\n",
    "x = s3[\"Balnc\"].median()\n",
    "print(x)\n",
    "s3[\"Balnc\"].fillna(x, inplace = True)\n",
    "s3.head(2)"
   ]
  },
  {
   "cell_type": "markdown",
   "id": "0e3d64c5",
   "metadata": {},
   "source": [
    "# Mode ( Maximum repeat value(small value ) return "
   ]
  },
  {
   "cell_type": "code",
   "execution_count": 70,
   "id": "7b7a7cb7",
   "metadata": {},
   "outputs": [
    {
     "name": "stdout",
     "output_type": "stream",
     "text": [
      "0    18\n",
      "1    19\n",
      "2    21\n",
      "dtype: int64\n",
      "18\n"
     ]
    }
   ],
   "source": [
    "s=pd.Series([21, 19, 18, 46, 30, 17, 19, 21, 18]) #([[19, 21, 18, 30, 46]])\n",
    "print(s.mode())\n",
    "print(s.mode()[0])"
   ]
  },
  {
   "cell_type": "code",
   "execution_count": null,
   "id": "6e67bd3a",
   "metadata": {},
   "outputs": [],
   "source": [
    "x = s3[\"Balnc\"].mode()[0]\n",
    "x\n",
    "s3[\"Balnc\"].fillna(x, inplace = True)\n"
   ]
  },
  {
   "cell_type": "markdown",
   "id": "db0fb2d0",
   "metadata": {},
   "source": []
  },
  {
   "cell_type": "code",
   "execution_count": null,
   "id": "9579ed5a",
   "metadata": {},
   "outputs": [],
   "source": []
  },
  {
   "cell_type": "markdown",
   "id": "265fcb27",
   "metadata": {},
   "source": [
    "# Standard deviation"
   ]
  },
  {
   "cell_type": "code",
   "execution_count": null,
   "id": "af1f3155",
   "metadata": {},
   "outputs": [],
   "source": [
    "x = s3[\"Balnc\"].std()\n",
    "x\n",
    "s3[\"Balnc\"].fillna(x, inplace = True)\n"
   ]
  },
  {
   "cell_type": "markdown",
   "id": "cffb2436",
   "metadata": {},
   "source": [
    "# Statistic Operation"
   ]
  },
  {
   "cell_type": "code",
   "execution_count": null,
   "id": "57bf35e4",
   "metadata": {},
   "outputs": [],
   "source": [
    "# import statistics\n",
    " \n",
    "# initializing list\n",
    "li = [1, 2, 3, 3, 2,6]\n",
    " \n",
    "# using mean() to calculate average of list\n",
    "# elements\n",
    "print (\"The average of list values is : \",end=\"\")\n",
    "print (statistics.mean(li))"
   ]
  },
  {
   "cell_type": "markdown",
   "id": "c2ec7586",
   "metadata": {},
   "source": [
    "# #Median value find"
   ]
  },
  {
   "cell_type": "code",
   "execution_count": null,
   "id": "6fdab81d",
   "metadata": {},
   "outputs": [],
   "source": [
    "print (statistics.median(li))"
   ]
  },
  {
   "cell_type": "markdown",
   "id": "0db9d320",
   "metadata": {},
   "source": [
    "# #Median_low value find()"
   ]
  },
  {
   "cell_type": "code",
   "execution_count": null,
   "id": "088c2a9f",
   "metadata": {},
   "outputs": [],
   "source": [
    "print (statistics.median_low(li))"
   ]
  },
  {
   "cell_type": "markdown",
   "id": "46e95bc5",
   "metadata": {},
   "source": [
    "# #Median_high  value find()"
   ]
  },
  {
   "cell_type": "code",
   "execution_count": null,
   "id": "acb967be",
   "metadata": {},
   "outputs": [],
   "source": [
    "\n",
    "print (statistics.median_high(li))"
   ]
  },
  {
   "cell_type": "markdown",
   "id": "531702e3",
   "metadata": {},
   "source": [
    "# #Mode  value find()"
   ]
  },
  {
   "cell_type": "code",
   "execution_count": null,
   "id": "99fe3e43",
   "metadata": {},
   "outputs": [],
   "source": [
    "\n",
    "print (statistics.mode(li))"
   ]
  },
  {
   "cell_type": "markdown",
   "id": "c08a931e",
   "metadata": {},
   "source": [
    "# #Range Find (maximum value - minimum value )"
   ]
  },
  {
   "cell_type": "code",
   "execution_count": null,
   "id": "5bd1dd49",
   "metadata": {},
   "outputs": [],
   "source": [
    "print (max(li)-min(li))"
   ]
  },
  {
   "cell_type": "markdown",
   "id": "94009c07",
   "metadata": {},
   "source": [
    "# Mean Diviation(by mean)"
   ]
  },
  {
   "cell_type": "code",
   "execution_count": null,
   "id": "a9f74933",
   "metadata": {},
   "outputs": [],
   "source": [
    "from numpy import mean, absolute\n",
    "  \n",
    "data = [1,2,3,4,5]\n",
    "  \n",
    "# Absolute mean deviation\n",
    "print(mean(absolute(data - mean(data))))"
   ]
  },
  {
   "cell_type": "code",
   "execution_count": null,
   "id": "ced35425",
   "metadata": {},
   "outputs": [],
   "source": []
  },
  {
   "cell_type": "code",
   "execution_count": null,
   "id": "fd9a7b8d",
   "metadata": {},
   "outputs": [],
   "source": [
    "\n",
    "sample = [17, 15, 23, 7, 9,13]\n",
    "print(statistics.variance(sample))"
   ]
  },
  {
   "cell_type": "code",
   "execution_count": null,
   "id": "1bee029c",
   "metadata": {},
   "outputs": [],
   "source": [
    "print(statistics.stdev(sample))"
   ]
  },
  {
   "cell_type": "code",
   "execution_count": null,
   "id": "5c528718",
   "metadata": {},
   "outputs": [],
   "source": []
  }
 ],
 "metadata": {
  "kernelspec": {
   "display_name": "Python 3 (ipykernel)",
   "language": "python",
   "name": "python3"
  },
  "language_info": {
   "codemirror_mode": {
    "name": "ipython",
    "version": 3
   },
   "file_extension": ".py",
   "mimetype": "text/x-python",
   "name": "python",
   "nbconvert_exporter": "python",
   "pygments_lexer": "ipython3",
   "version": "3.10.1"
  }
 },
 "nbformat": 4,
 "nbformat_minor": 5
}
