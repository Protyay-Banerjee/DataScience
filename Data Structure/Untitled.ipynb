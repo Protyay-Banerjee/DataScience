{
 "cells": [
  {
   "cell_type": "markdown",
   "id": "5af710dd",
   "metadata": {},
   "source": []
  },
  {
   "cell_type": "code",
   "execution_count": 19,
   "id": "f8d095fe",
   "metadata": {
    "scrolled": true
   },
   "outputs": [
    {
     "name": "stdout",
     "output_type": "stream",
     "text": [
      "b'\\x0c\\x00\\x00\\x00'\n",
      "(12,)\n"
     ]
    }
   ],
   "source": [
    "from struct import *;\n",
    "a=pack('i',12)\n",
    "print(a)\n",
    "print(unpack('i',b'\\x0c\\x00\\x00\\x00'))"
   ]
  },
  {
   "cell_type": "markdown",
   "id": "48068ce9",
   "metadata": {},
   "source": [
    "# Dictionary"
   ]
  },
  {
   "cell_type": "code",
   "execution_count": null,
   "id": "07b73782",
   "metadata": {},
   "outputs": [],
   "source": [
    "#Dictionary is used to implement the key-value pair in python\n",
    "#whereas the keys are the immutable (duplicate key not supported)  python object.\n",
    "Dict = {\"Name\": “Abc\",\"Age\": 30}\n",
    "print(\"my name is \"+ Dict[\"Name\"]);\n"
   ]
  },
  {
   "cell_type": "markdown",
   "id": "8f05646d",
   "metadata": {},
   "source": [
    "# Python Tuple"
   ]
  },
  {
   "cell_type": "code",
   "execution_count": 10,
   "id": "fe41093b",
   "metadata": {},
   "outputs": [
    {
     "name": "stdout",
     "output_type": "stream",
     "text": [
      "(10, 'abc', 30, 40.5, 50, 60)\n"
     ]
    }
   ],
   "source": [
    "\n",
    "#Python Tuple is used to store the sequence of immutable python objects. \n",
    "tuple1 = (10, \"abc\", 30, 40.5, 50, 60)\n",
    "print(tuple1) ;\n"
   ]
  },
  {
   "cell_type": "markdown",
   "id": "c764fd12",
   "metadata": {},
   "source": [
    "# Set"
   ]
  },
  {
   "cell_type": "code",
   "execution_count": 17,
   "id": "8a6e4e00",
   "metadata": {},
   "outputs": [
    {
     "name": "stdout",
     "output_type": "stream",
     "text": [
      "{'Wednesday', 'Sunday', 'Saturday', 'Thursday', 'Friday', 'Monday', 'Tuesday'}\n",
      "<class 'set'>\n"
     ]
    }
   ],
   "source": [
    "\n",
    "#The set in python can be defined as the unordered collection of various\n",
    "#items enclosed within the curly braces. The elements of the set can not be duplicate. \n",
    "#The elements of the python set must be immutable.\n",
    "Days = {\"Monday\", \"Tuesday\", \"Wednesday\", \"Thursday\", \"Friday\", \"Saturday\", \"Sunday\"}  \n",
    "print(Days)  \n",
    "print(type(Days)) "
   ]
  },
  {
   "cell_type": "markdown",
   "id": "b49093c6",
   "metadata": {},
   "source": [
    "# Python Stack"
   ]
  },
  {
   "cell_type": "code",
   "execution_count": 13,
   "id": "d237b1b6",
   "metadata": {},
   "outputs": [
    {
     "name": "stdout",
     "output_type": "stream",
     "text": [
      "[1, 2, 3, 4, 5]\n",
      "5\n",
      "[1, 2, 3, 4]\n",
      "4\n",
      "[1, 2, 3]\n"
     ]
    }
   ],
   "source": [
    "x = [1, 2, 3]   \n",
    "x.append(4) # append=push operation \n",
    "x.append(5)\n",
    "print(x)   \n",
    "print(x.pop())   \n",
    "print(x)   \n",
    "print(x.pop())   \n",
    "print(x) \n"
   ]
  },
  {
   "cell_type": "markdown",
   "id": "01c8379c",
   "metadata": {},
   "source": [
    "# Python Queue"
   ]
  },
  {
   "cell_type": "code",
   "execution_count": 14,
   "id": "04bfaa6f",
   "metadata": {},
   "outputs": [
    {
     "name": "stdout",
     "output_type": "stream",
     "text": [
      "9\n",
      "6\n",
      "7\n",
      "4\n"
     ]
    }
   ],
   "source": [
    "import queue\n",
    "# Queue is created as an object 'L'\n",
    "L = queue.Queue(maxsize=10)\n",
    "# Data is inserted in 'L' at the end using put()\n",
    "L.put(9)\n",
    "L.put(6)\n",
    "L.put(7)\n",
    "L.put(4)\n",
    "# get() takes data from\n",
    "# from the head\n",
    "# of the Queue\n",
    "print(L.get())\n",
    "print(L.get())\n",
    "print(L.get())\n",
    "print(L.get())   "
   ]
  },
  {
   "cell_type": "markdown",
   "id": "eea1110a",
   "metadata": {},
   "source": [
    "# Single Linked List"
   ]
  },
  {
   "cell_type": "code",
   "execution_count": 3,
   "id": "6078d3df",
   "metadata": {},
   "outputs": [
    {
     "name": "stdout",
     "output_type": "stream",
     "text": [
      "1\n",
      "2\n",
      "3\n"
     ]
    }
   ],
   "source": [
    "# A simple Python program to introduce a linked list\n",
    " \n",
    "# Node class\n",
    "class Node:\n",
    " \n",
    "    # Function to initialise the node object\n",
    "    def __init__(self, data):\n",
    "        self.data = data  # Assign data\n",
    "        self.next = None  # Initialize next as null\n",
    " \n",
    " \n",
    "# Linked List class contains a Node object\n",
    "class LinkedList:\n",
    " \n",
    "    # Function to initialize head\n",
    "    def __init__(self):\n",
    "        self.head = None\n",
    "      # This function prints contents of linked list\n",
    "    # starting from head\n",
    "    def printList(self):\n",
    "        temp = self.head\n",
    "        while (temp):\n",
    "            print (temp.data)\n",
    "            temp = temp.next\n",
    " \n",
    " \n",
    "# Code execution starts here\n",
    "if __name__=='__main__':\n",
    " \n",
    "    # Start with the empty list\n",
    "    llist = LinkedList()\n",
    " \n",
    "    llist.head = Node(1)\n",
    "    second = Node(2)\n",
    "    third = Node(3)\n",
    " \n",
    "    '''\n",
    "    Three nodes have been created.\n",
    "    We have references to these three blocks as head,\n",
    "    second and third\n",
    " \n",
    "    llist.head        second              third\n",
    "         |                |                  |\n",
    "         |                |                  |\n",
    "    +----+------+     +----+------+     +----+------+\n",
    "    | 1  | None |     | 2  | None |     |  3 | None |\n",
    "    +----+------+     +----+------+     +----+------+\n",
    "    '''\n",
    " \n",
    "    llist.head.next = second; # Link first node with second\n",
    " \n",
    "    '''\n",
    "    Now next of first Node refers to second.  So they\n",
    "    both are linked.\n",
    " \n",
    "    llist.head        second              third\n",
    "         |                |                  |\n",
    "         |                |                  |\n",
    "    +----+------+     +----+------+     +----+------+\n",
    "    | 1  |  o-------->| 2  | null |     |  3 | null |\n",
    "    +----+------+     +----+------+     +----+------+\n",
    "    '''\n",
    " \n",
    "    second.next = third; # Link second node with the third node\n",
    " \n",
    "    '''\n",
    "    Now next of second Node refers to third.  So all three\n",
    "    nodes are linked.\n",
    " \n",
    "    llist.head        second              third\n",
    "         |                |                  |\n",
    "         |                |                  |\n",
    "    +----+------+     +----+------+     +----+------+\n",
    "    | 1  |  o-------->| 2  |  o-------->|  3 | null |\n",
    "    +----+------+     +----+------+     +----+------+\n",
    "    '''\n",
    "llist.printList()"
   ]
  },
  {
   "cell_type": "markdown",
   "id": "a702897a",
   "metadata": {},
   "source": [
    "#  Insert Linked List"
   ]
  },
  {
   "cell_type": "code",
   "execution_count": 7,
   "id": "82aa8d2c",
   "metadata": {},
   "outputs": [
    {
     "name": "stdout",
     "output_type": "stream",
     "text": [
      "Created linked list is:\n",
      "1\n",
      "7\n",
      "8\n",
      "6\n",
      "4\n"
     ]
    }
   ],
   "source": [
    "# A complete working Python program to demonstrate all\n",
    "# insertion methods of linked list\n",
    "\n",
    "# Node class\n",
    "class Node:\n",
    "\n",
    "    # Function to initialise the node object\n",
    "    def __init__(self, data):\n",
    "        self.data = data  # Assign data\n",
    "        self.next = None  # Initialize next as null\n",
    "\n",
    "\n",
    "# Linked List class contains a Node object\n",
    "class LinkedList:\n",
    "\n",
    "    # Function to initialize head\n",
    "    def __init__(self):\n",
    "        self.head = None\n",
    "\n",
    "\n",
    "    # Functio to insert a new node at the beginning\n",
    "    def push(self, new_data):\n",
    "\n",
    "        # 1 & 2: Allocate the Node &\n",
    "        #        Put in the data\n",
    "        new_node = Node(new_data)\n",
    "\n",
    "        # 3. Make next of new Node as head\n",
    "        new_node.next = self.head\n",
    "\n",
    "        # 4. Move the head to point to new Node\n",
    "        self.head = new_node\n",
    "\n",
    "\n",
    "    # This function is in LinkedList class. Inserts a\n",
    "    # new node after the given prev_node. This method is\n",
    "    # defined inside LinkedList class shown above */\n",
    "    def insertAfter(self, prev_node, new_data):\n",
    "\n",
    "        # 1. check if the given prev_node exists\n",
    "        if prev_node is None:\n",
    "            print(\"The given previous node must inLinkedList.\")\n",
    "            return\n",
    "\n",
    "        #  2. create new node &\n",
    "        #      Put in the data\n",
    "        new_node = Node(new_data)\n",
    "\n",
    "        # 4. Make next of new Node as next of prev_node\n",
    "        new_node.next = prev_node.next\n",
    "\n",
    "        # 5. make next of prev_node as new_node\n",
    "        prev_node.next = new_node\n",
    "\n",
    "\n",
    "    # This function is defined in Linked List class\n",
    "    # Appends a new node at the end.  This method is\n",
    "    # defined inside LinkedList class shown above */\n",
    "    def append(self, new_data):\n",
    "\n",
    "        # 1. Create a new node\n",
    "        # 2. Put in the data\n",
    "        # 3. Set next as None\n",
    "        new_node = Node(new_data)\n",
    "\n",
    "        # 4. If the Linked List is empty, then make the\n",
    "        #    new node as head\n",
    "        if self.head is None:\n",
    "            self.head = new_node\n",
    "            return\n",
    "\n",
    "        # 5. Else traverse till the last node\n",
    "        last = self.head\n",
    "        while (last.next):\n",
    "            last = last.next\n",
    "\n",
    "        # 6. Change the next of last node\n",
    "        last.next =  new_node\n",
    "\n",
    "\n",
    "    # Utility function to print the linked list\n",
    "    def printList(self):\n",
    "        temp = self.head\n",
    "        while (temp):\n",
    "            print(temp.data)\n",
    "            temp = temp.next\n",
    "\n",
    "\n",
    "\n",
    "# Code execution starts here\n",
    "if __name__=='__main__':\n",
    "\n",
    "    # Start with the empty list\n",
    "    llist = LinkedList()\n",
    "\n",
    "    # Insert 6.  So linked list becomes 6->None\n",
    "    llist.append(6)\n",
    "\n",
    "    # Insert 7 at the beginning. So linked list becomes 7->6->None\n",
    "    llist.push(7);\n",
    "\n",
    "    # Insert 1 at the beginning. So linked list becomes 1->7->6->None\n",
    "    llist.push(1);\n",
    "\n",
    "    # Insert 4 at the end. So linked list becomes 1->7->6->4->None\n",
    "    llist.append(4)\n",
    "\n",
    "    # Insert 8, after 7. So linked list becomes 1 -> 7-> 8-> 6-> 4-> None\n",
    "    llist.insertAfter(llist.head.next, 8)\n",
    "\n",
    "    print('Created linked list is:')\n",
    "    llist.printList()\n"
   ]
  },
  {
   "cell_type": "markdown",
   "id": "802a8567",
   "metadata": {},
   "source": [
    "# Delete Linked List"
   ]
  },
  {
   "cell_type": "code",
   "execution_count": 8,
   "id": "528a8c83",
   "metadata": {},
   "outputs": [
    {
     "name": "stdout",
     "output_type": "stream",
     "text": [
      "Created Linked List: \n",
      " 2\n",
      " 3\n",
      " 1\n",
      " 7\n",
      "\n",
      "Linked List after Deletion of 1:\n",
      " 2\n",
      " 3\n",
      " 7\n"
     ]
    }
   ],
   "source": [
    "# A complete working Python3 program to\n",
    "# demonstrate deletion in singly \n",
    "# linked list with class \n",
    "\n",
    "# Node class \n",
    "class Node: \n",
    "\n",
    "    # Constructor to initialize the node object \n",
    "    def __init__(self, data): \n",
    "        self.data = data \n",
    "        self.next = None\n",
    "\n",
    "class LinkedList: \n",
    "\n",
    "    # Function to initialize head \n",
    "    def __init__(self): \n",
    "        self.head = None\n",
    "\n",
    "    # Function to insert a new node at the beginning \n",
    "    def push(self, new_data): \n",
    "        new_node = Node(new_data) \n",
    "        new_node.next = self.head \n",
    "        self.head = new_node \n",
    "\n",
    "    # Given a reference to the head of a list and a key, \n",
    "    # delete the first occurrence of key in linked list \n",
    "    def deleteNode(self, key): \n",
    "        \n",
    "        # Store head node \n",
    "        temp = self.head \n",
    "\n",
    "        # If head node itself holds the key to be deleted \n",
    "        if (temp is not None): \n",
    "            if (temp.data == key): \n",
    "                self.head = temp.next\n",
    "                temp = None\n",
    "                return\n",
    "\n",
    "        # Search for the key to be deleted, keep track of the \n",
    "        # previous node as we need to change 'prev.next' \n",
    "        while(temp is not None): \n",
    "            if temp.data == key: \n",
    "                break\n",
    "            prev = temp \n",
    "            temp = temp.next\n",
    "\n",
    "        # if key was not present in linked list \n",
    "        if(temp == None): \n",
    "            return\n",
    "\n",
    "        # Unlink the node from linked list \n",
    "        prev.next = temp.next\n",
    "\n",
    "        temp = None\n",
    "\n",
    "\n",
    "    # Utility function to print the linked LinkedList \n",
    "    def printList(self): \n",
    "        temp = self.head \n",
    "        while(temp): \n",
    "            print (\" %d\" %(temp.data)), \n",
    "            temp = temp.next\n",
    "\n",
    "\n",
    "# Driver program \n",
    "llist = LinkedList() \n",
    "llist.push(7) \n",
    "llist.push(1) \n",
    "llist.push(3) \n",
    "llist.push(2) \n",
    "\n",
    "print (\"Created Linked List: \")\n",
    "llist.printList() \n",
    "llist.deleteNode(1) \n",
    "print (\"\\nLinked List after Deletion of 1:\")\n",
    "llist.printList() \n"
   ]
  },
  {
   "cell_type": "markdown",
   "id": "157c0c58",
   "metadata": {},
   "source": [
    "# Doubly Linked List(insert & delete)"
   ]
  },
  {
   "cell_type": "code",
   "execution_count": 9,
   "id": "a787bb54",
   "metadata": {},
   "outputs": [
    {
     "name": "stdout",
     "output_type": "stream",
     "text": [
      "Element is:  10\n",
      "Element is:  20\n",
      "Element is:  30\n",
      "Element is:  40\n",
      "Element is:  50\n",
      "Element is:  60\n",
      "\n",
      "\n",
      "Element is:  30\n",
      "Element is:  40\n",
      "Element is:  50\n",
      "Element is:  60\n",
      "\n",
      "\n"
     ]
    }
   ],
   "source": [
    "# Initialise the Node\n",
    "class Node:\n",
    "    def __init__(self, data):\n",
    "        self.item = data\n",
    "        self.next = None\n",
    "        self.prev = None\n",
    "# Class for doubly Linked List\n",
    "class doublyLinkedList:\n",
    "    def __init__(self):\n",
    "        self.start_node = None\n",
    "    # Insert Element to Empty list\n",
    "    def InsertToEmptyList(self, data):\n",
    "        if self.start_node is None:\n",
    "            new_node = Node(data)\n",
    "            self.start_node = new_node\n",
    "        else:\n",
    "            print(\"The list is empty\")\n",
    "    # Insert element at the end\n",
    "    def InsertToEnd(self, data):\n",
    "        # Check if the list is empty\n",
    "        if self.start_node is None:\n",
    "            new_node = Node(data)\n",
    "            self.start_node = new_node\n",
    "            return\n",
    "        n = self.start_node\n",
    "        # Iterate till the next reaches NULL\n",
    "        while n.next is not None:\n",
    "            n = n.next\n",
    "        new_node = Node(data)\n",
    "        n.next = new_node\n",
    "        new_node.prev = n\n",
    "    # Delete the elements from the start\n",
    "    def DeleteAtStart(self):\n",
    "        if self.start_node is None:\n",
    "            print(\"The Linked list is empty, no element to delete\")\n",
    "            return \n",
    "        if self.start_node.next is None:\n",
    "            self.start_node = None\n",
    "            return\n",
    "        self.start_node = self.start_node.next\n",
    "        self.start_prev = None;\n",
    "    # Delete the elements from the end\n",
    "    def delete_at_end(self):\n",
    "        # Check if the List is empty\n",
    "        if self.start_node is None:\n",
    "            print(\"The Linked list is empty, no element to delete\")\n",
    "            return \n",
    "        if self.start_node.next is None:\n",
    "            self.start_node = None\n",
    "            return\n",
    "        n = self.start_node\n",
    "        while n.next is not None:\n",
    "            n = n.next\n",
    "        n.prev.next = None\n",
    "    # Traversing and Displaying each element of the list\n",
    "    def Display(self):\n",
    "        if self.start_node is None:\n",
    "            print(\"The list is empty\")\n",
    "            return\n",
    "        else:\n",
    "            n = self.start_node\n",
    "            while n is not None:\n",
    "                print(\"Element is: \", n.item)\n",
    "                n = n.next\n",
    "        print(\"\\n\")\n",
    "# Create a new Doubly Linked List\n",
    "NewDoublyLinkedList = doublyLinkedList()\n",
    "# Insert the element to empty list\n",
    "NewDoublyLinkedList.InsertToEmptyList(10)\n",
    "# Insert the element at the end\n",
    "NewDoublyLinkedList.InsertToEnd(20)\n",
    "NewDoublyLinkedList.InsertToEnd(30)\n",
    "NewDoublyLinkedList.InsertToEnd(40)\n",
    "NewDoublyLinkedList.InsertToEnd(50)\n",
    "NewDoublyLinkedList.InsertToEnd(60)\n",
    "# Display Data\n",
    "NewDoublyLinkedList.Display()\n",
    "# Delete elements from start\n",
    "NewDoublyLinkedList.DeleteAtStart()\n",
    "# Delete elements from end\n",
    "NewDoublyLinkedList.DeleteAtStart()\n",
    "# Display Data\n",
    "NewDoublyLinkedList.Display()"
   ]
  },
  {
   "cell_type": "markdown",
   "id": "b347a128",
   "metadata": {},
   "source": [
    "# Circular Linked List"
   ]
  },
  {
   "cell_type": "code",
   "execution_count": 10,
   "id": "60afef10",
   "metadata": {},
   "outputs": [
    {
     "name": "stdout",
     "output_type": "stream",
     "text": [
      "2 10 6 8 \n",
      "2 10 6 "
     ]
    }
   ],
   "source": [
    "# Python code to perform circular linked list operations\n",
    "\n",
    "class Node:\n",
    "    def __init__(self, data):\n",
    "        self.data = data\n",
    "        self.next = None\n",
    "\n",
    "\n",
    "class CircularLinkedList:\n",
    "    def __init__(self):\n",
    "        self.last = None\n",
    "\n",
    "    def addToEmpty(self, data):\n",
    "\n",
    "        if self.last != None:\n",
    "            return self.last\n",
    "\n",
    "        # allocate memory to the new node and add data to the node\n",
    "        newNode = Node(data)\n",
    "\n",
    "        # assign last to newNode\n",
    "        self.last = newNode\n",
    "\n",
    "        # create link to iteself\n",
    "        self.last.next = self.last\n",
    "        return self.last\n",
    "\n",
    "    # add node to the front\n",
    "    def addFront(self, data):\n",
    "\n",
    "        # check if the list is empty\n",
    "        if self.last == None:\n",
    "            return self.addToEmpty(data)\n",
    "\n",
    "        # allocate memory to the new node and add data to the node\n",
    "        newNode = Node(data)\n",
    "\n",
    "        # store the address of the current first node in the newNode\n",
    "        newNode.next = self.last.next\n",
    "\n",
    "        # make newNode as last\n",
    "        self.last.next = newNode\n",
    "\n",
    "        return self.last\n",
    "\n",
    "    # add node to the end\n",
    "    def addEnd(self, data):\n",
    "        # check if the node is empty\n",
    "        if self.last == None:\n",
    "            return self.addToEmpty(data)\n",
    "\n",
    "        # allocate memory to the new node and add data to the node\n",
    "        newNode = Node(data)\n",
    "\n",
    "        # store the address of the last node to next of newNode\n",
    "        newNode.next = self.last.next\n",
    "\n",
    "        # point the current last node to the newNode\n",
    "        self.last.next = newNode\n",
    "\n",
    "        # make newNode as the last node\n",
    "        self.last = newNode\n",
    "\n",
    "        return self.last\n",
    "\n",
    "    # insert node after a specific node\n",
    "    def addAfter(self, data, item):\n",
    "\n",
    "        # check if the list is empty\n",
    "        if self.last == None:\n",
    "            return None\n",
    "\n",
    "        newNode = Node(data)\n",
    "        p = self.last.next\n",
    "        while p:\n",
    "\n",
    "            # if the item is found, place newNode after it\n",
    "            if p.data == item:\n",
    "\n",
    "                # make the next of the current node as the next of newNode\n",
    "                newNode.next = p.next\n",
    "\n",
    "                # put newNode to the next of p\n",
    "                p.next = newNode\n",
    "\n",
    "                if p == self.last:\n",
    "                    self.last = newNode\n",
    "                    return self.last\n",
    "                else:\n",
    "                    return self.last\n",
    "            p = p.next\n",
    "            if p == self.last.next:\n",
    "                print(item, \"The given node is not present in the list\")\n",
    "                break\n",
    "\n",
    "    # delete a node\n",
    "    def deleteNode(self, last, key):\n",
    "\n",
    "        # If linked list is empty\n",
    "        if last == None:\n",
    "            return\n",
    "\n",
    "        # If the list contains only a single node\n",
    "        if (last).data == key and (last).next == last:\n",
    "\n",
    "            last = None\n",
    "\n",
    "        temp = last\n",
    "        d = None\n",
    "\n",
    "        # if last node is to be deleted\n",
    "        if (last).data == key:\n",
    "\n",
    "            # find the node before the last node\n",
    "            while temp.next != last:\n",
    "                temp = temp.next\n",
    "\n",
    "            # point temp node to the next of last i.e. first node\n",
    "            temp.next = (last).next\n",
    "            last = temp.next\n",
    "\n",
    "        # travel to the node to be deleted\n",
    "        while temp.next != last and temp.next.data != key:\n",
    "            temp = temp.next\n",
    "\n",
    "        # if node to be deleted was found\n",
    "        if temp.next.data == key:\n",
    "            d = temp.next\n",
    "            temp.next = d.next\n",
    "\n",
    "        return last\n",
    "\n",
    "    def traverse(self):\n",
    "        if self.last == None:\n",
    "            print(\"The list is empty\")\n",
    "            return\n",
    "\n",
    "        newNode = self.last.next\n",
    "        while newNode:\n",
    "            print(newNode.data, end=\" \")\n",
    "            newNode = newNode.next\n",
    "            if newNode == self.last.next:\n",
    "                break\n",
    "\n",
    "\n",
    "if __name__ == \"__main__\":\n",
    "\n",
    "    cll = CircularLinkedList()\n",
    "\n",
    "    last = cll.addToEmpty(6)\n",
    "    last = cll.addEnd(8)\n",
    "    last = cll.addFront(2)\n",
    "    last = cll.addAfter(10, 2)\n",
    "\n",
    "    cll.traverse()\n",
    "\n",
    "    last = cll.deleteNode(last, 8)\n",
    "    print()\n",
    "    cll.traverse()"
   ]
  },
  {
   "cell_type": "markdown",
   "id": "47c5867a",
   "metadata": {},
   "source": [
    "# Non-Linear Data Structure "
   ]
  },
  {
   "cell_type": "markdown",
   "id": "61a8b49d",
   "metadata": {},
   "source": [
    "# Tree"
   ]
  },
  {
   "cell_type": "code",
   "execution_count": 1,
   "id": "f09dfec4",
   "metadata": {},
   "outputs": [
    {
     "name": "stdout",
     "output_type": "stream",
     "text": [
      "A\n",
      "B\n",
      "C\n",
      "D\n",
      "M\n",
      "N\n",
      "P\n"
     ]
    }
   ],
   "source": [
    "class A:\n",
    "    def __init__(self, data):\n",
    "        self.data = data\n",
    "        self.children = []\n",
    "        self.parent = None\n",
    "\n",
    "    def add_child(self, child):\n",
    "        child.parent = self\n",
    "        self.children.append(child)\n",
    "    def print_tree(self):\n",
    "        print(self.data)\n",
    "        if self.children:\n",
    "            for child in self.children:\n",
    "                child.print_tree()\n",
    "\n",
    "def run():\n",
    "    root = A(\"A\")\n",
    "\n",
    "    B = A(\"B\")\n",
    "    \n",
    "    B.add_child(A(\"C\"))\n",
    "    B.add_child(A(\"D\"))\n",
    "    \n",
    "    root.add_child(B)\n",
    "    \n",
    "    M = A(\"M\")\n",
    "    \n",
    "    M.add_child(A(\"N\"))\n",
    "    M.add_child(A(\"P\"))\n",
    "    \n",
    "    root.add_child(M)\n",
    "    \n",
    "    \n",
    "    root.print_tree()\n",
    "    \n",
    "\n",
    "if __name__ == '__main__':\n",
    "    run()\n"
   ]
  },
  {
   "cell_type": "markdown",
   "id": "7adba962",
   "metadata": {},
   "source": [
    "# Tries"
   ]
  },
  {
   "cell_type": "code",
   "execution_count": 22,
   "id": "fc51ec83",
   "metadata": {},
   "outputs": [
    {
     "name": "stdout",
     "output_type": "stream",
     "text": [
      "False\n",
      "False\n",
      "True\n",
      "False\n"
     ]
    }
   ],
   "source": [
    "class Trie(object):\n",
    "    def __init__(self):\n",
    "        self.child = {}\n",
    "    def insert(self, word):\n",
    "        current = self.child\n",
    "        for l in word:\n",
    "            if l not in current:\n",
    "                current[l] = {}\n",
    "            current = current[l]\n",
    "        current['#']=1\n",
    "    def search(self, word):\n",
    "        current = self.child\n",
    "        for l in word:\n",
    "            if l not in current:\n",
    "                return False\n",
    "            current = current[l]\n",
    "        return '#' in current\n",
    "    def startsWith(self, prefix):\n",
    "        current = self.child\n",
    "        for l in prefix:\n",
    "            if l not in current:\n",
    "                return False\n",
    "            current = current[l]\n",
    "        return True\n",
    "ob1 = Trie()\n",
    "ob1.insert(\"bear\")\n",
    "ob1.insert(\"bell\")\n",
    "\n",
    "ob1.insert(\"bid\")\n",
    "ob1.insert(\"bull\")\n",
    "ob1.insert(\"stock\")\n",
    "ob1.insert(\"stop\")\n",
    "\n",
    "print(ob1.search(\"apple\"))\n",
    "print(ob1.startsWith(\"app\"))\n",
    "\n",
    "print(ob1.search(\"bear\"))\n",
    "print(ob1.startsWith(\"bes\"))\n",
    "\n"
   ]
  },
  {
   "cell_type": "code",
   "execution_count": 1,
   "id": "b281b07f",
   "metadata": {},
   "outputs": [
    {
     "name": "stdout",
     "output_type": "stream",
     "text": [
      "a\n",
      "b\n",
      "c\n"
     ]
    }
   ],
   "source": [
    "x=\"abc\"\n",
    "for i in x:\n",
    "    print(i)"
   ]
  },
  {
   "cell_type": "markdown",
   "id": "cad60c3c",
   "metadata": {},
   "source": [
    "# Minheap (using Library function)"
   ]
  },
  {
   "cell_type": "code",
   "execution_count": 2,
   "id": "93513b87",
   "metadata": {},
   "outputs": [
    {
     "name": "stdout",
     "output_type": "stream",
     "text": [
      "Head value of heap : 2\n",
      "The heap elements : \n",
      "2 5 20 400 10 \n",
      "\n",
      "The heap elements : \n",
      "5 10 20 400 "
     ]
    }
   ],
   "source": [
    "#Minheap (using Library function)\n",
    "from heapq import heapify, heappush, heappop\n",
    " \n",
    "# Creating empty heap\n",
    "heap = []\n",
    "heapify(heap)\n",
    " \n",
    "# Adding items to the heap using heappush function\n",
    "heappush(heap, 10)\n",
    "heappush(heap, 5)\n",
    "heappush(heap, 20)\n",
    "heappush(heap, 400)\n",
    "heappush(heap,2)\n",
    " \n",
    "# printing the value of minimum element\n",
    "print(\"Head value of heap : \"+str(heap[0]))\n",
    " \n",
    "# printing the elements of the heap\n",
    "print(\"The heap elements : \")\n",
    "for i in heap:\n",
    "    print(i, end = ' ')\n",
    "print(\"\\n\")\n",
    " \n",
    "element = heappop(heap)\n",
    " \n",
    "# printing the elements of the heap\n",
    "print(\"The heap elements : \")\n",
    "for i in heap:\n",
    "    print(i, end = ' ')"
   ]
  },
  {
   "cell_type": "markdown",
   "id": "d76a8b31",
   "metadata": {},
   "source": [
    "# maxheap (using Library function)\n",
    "(We use heapq class to implement Heaps in Python. By default Min Heap is implemented by this class. But we multiply each value by -1 so that we can use it as MaxHeap.)\n"
   ]
  },
  {
   "cell_type": "code",
   "execution_count": 2,
   "id": "459ff949",
   "metadata": {},
   "outputs": [
    {
     "name": "stdout",
     "output_type": "stream",
     "text": [
      "Head value of heap : 400\n",
      "The heap elements : \n",
      "400 20 10 5 2 \n",
      "\n",
      "The heap elements : \n",
      "20 5 10 2 "
     ]
    }
   ],
   "source": [
    "from heapq import heapify, heappush, heappop\n",
    " \n",
    "# Creating empty heap\n",
    "heap = []\n",
    "heapify(heap)\n",
    " \n",
    "# Adding items to the heap using heappush function\n",
    "heappush(heap,-1 * 10)\n",
    "heappush(heap,-1 * 5)\n",
    "heappush(heap,-1 * 20)\n",
    "heappush(heap, -1 * 400)\n",
    "heappush(heap,-1 * 2)\n",
    " \n",
    "# printing the value of minimum element\n",
    "print(\"Head value of heap : \"+str(-1 * heap[0]))\n",
    " \n",
    "# printing the elements of the heap\n",
    "print(\"The heap elements : \")\n",
    "for i in heap:\n",
    "    print(-1 * i, end = ' ')\n",
    "print(\"\\n\")\n",
    " \n",
    "element = heappop(heap)\n",
    " \n",
    "# printing the elements of the heap\n",
    "print(\"The heap elements : \")\n",
    "for i in heap:\n",
    "    print(-1 * i, end = ' ')\n"
   ]
  },
  {
   "cell_type": "markdown",
   "id": "8ea439a6",
   "metadata": {},
   "source": [
    "# Adjancy List "
   ]
  },
  {
   "cell_type": "code",
   "execution_count": 25,
   "id": "9e17894d",
   "metadata": {},
   "outputs": [
    {
     "name": "stdout",
     "output_type": "stream",
     "text": [
      "['B', 'C']\n"
     ]
    }
   ],
   "source": [
    "adj_list={\n",
    "    \"A\":[\"B\",\"C\"],\n",
    "    \"B\":[\"A\",\"D\"],\n",
    "    \"C\":[\"A\",\"D\",\"E\"],\n",
    "    \"D\":[\"B\",\"C\",\"E\"],\n",
    "    \"E\":[\"C\",\"D\"]\n",
    "    }\n",
    "print(adj_list[\"A\"])\n"
   ]
  },
  {
   "cell_type": "code",
   "execution_count": 26,
   "id": "64c30bb6",
   "metadata": {},
   "outputs": [
    {
     "name": "stdout",
     "output_type": "stream",
     "text": [
      "A -> []\n",
      "B -> []\n",
      "C -> []\n",
      "D -> []\n",
      "E -> []\n",
      "A -> ['B', 'C']\n",
      "B -> ['A', 'D']\n",
      "C -> ['A', 'D', 'E']\n",
      "D -> ['B', 'C', 'E']\n",
      "E -> ['C', 'D']\n"
     ]
    }
   ],
   "source": [
    "all_edges=[(\"A\",\"B\"),(\"A\",\"C\"),(\"B\",\"D\"),(\"C\",\"D\"),(\"C\",\"E\"),(\"D\",\"E\")]\n",
    "class Graph:\n",
    "    # Initialize the matrix\n",
    "    def __init__(self, Nodes):\n",
    "        self.nodes = Nodes;\n",
    "        self.adj_list={}\n",
    "        for node in self.nodes:\n",
    "            self.adj_list[node]=[]\n",
    "        \n",
    "    # Add edges\n",
    "    def add_edge(self, u, v):\n",
    "        self.adj_list[u].append(v)\n",
    "        self.adj_list[v].append(u)\n",
    "  # Print the matrix\n",
    "    def print_adj_list(self):\n",
    "        for node in self.nodes:\n",
    "            print(node,\"->\",self.adj_list[node])\n",
    "\n",
    "nodes=[\"A\",\"B\",\"C\",\"D\",\"E\"]\n",
    "graph=Graph(nodes)\n",
    "#main vertex print\n",
    "graph.print_adj_list()\n",
    "\n",
    "for u,v in all_edges:\n",
    "    graph.add_edge(u,v)\n",
    "graph.print_adj_list() \n"
   ]
  },
  {
   "cell_type": "markdown",
   "id": "0ef31128",
   "metadata": {},
   "source": [
    "# 2.Adjancy Matrix(Graph)"
   ]
  },
  {
   "cell_type": "code",
   "execution_count": 1,
   "id": "6174e5e5",
   "metadata": {},
   "outputs": [
    {
     "name": "stdout",
     "output_type": "stream",
     "text": [
      "[0, 1, 1, 1]\n",
      "[1, 0, 1, 1]\n",
      "[1, 1, 0, 1]\n",
      "[1, 1, 1, 0]\n"
     ]
    }
   ],
   "source": [
    "adj_list={\n",
    "    \"A\":[0,1,1,1],\n",
    "    \"B\":[1,0,1,1],\n",
    "    \"C\":[1,1,0,1],\n",
    "    \"D\":[1,1,1,0]\n",
    "    }\n",
    "#print(adj_list[\"A\"])\n",
    "for m in adj_list:\n",
    "      print(adj_list[m])"
   ]
  },
  {
   "cell_type": "markdown",
   "id": "b7187f7c",
   "metadata": {},
   "source": [
    "# Adjancy Matrix(Explain)"
   ]
  },
  {
   "cell_type": "code",
   "execution_count": 29,
   "id": "1e23f02f",
   "metadata": {},
   "outputs": [
    {
     "name": "stdout",
     "output_type": "stream",
     "text": [
      "\n",
      "\n",
      "01110\n",
      "\n",
      "10011\n",
      "\n",
      "10010\n",
      "\n",
      "11101\n",
      "\n",
      "01010"
     ]
    }
   ],
   "source": [
    "class Graph(object):\n",
    "    # Initialize the matrix\n",
    "    def __init__(self, size):\n",
    "         self.size = size # create size global variable\n",
    "        self.adjMatrix = [] # List\n",
    "         for i in range(size): #fill list with 0\n",
    "             self.adjMatrix.append([0 for i in range(size)])\n",
    "       \n",
    "# Add edges\n",
    "    def add_edge(self, v1, v2):\n",
    "        if v1 == v2:\n",
    "            print(\"Same vertex %d and %d\" % (v1, v2))\n",
    "        self.adjMatrix[v1][v2] = 1\n",
    "        self.adjMatrix[v2][v1] = 1\n",
    "\n",
    "# Remove edges\n",
    "    def remove_edge(self, v1, v2):\n",
    "        if self.adjMatrix[v1][v2] == 0:\n",
    "            print(\"No edge between %d and %d\" % (v1, v2))\n",
    "            return\n",
    "        self.adjMatrix[v1][v2] = 0 # A connect to B\n",
    "        self.adjMatrix[v2][v1] = 0 # B connect to A\n",
    "\n",
    " # Print the matrix\n",
    "    def print_matrix(self):\n",
    "        for row in self.adjMatrix:\n",
    "            print(\"\\n\")\n",
    "            for val in row:\n",
    "                print(val,end=\"\"),\n",
    "            print\n",
    "g = Graph(5)\n",
    "#(row=0(A),coulm (A=0,B=1,C=2,D=3,E=4))\n",
    "g.add_edge(0, 1) \n",
    "g.add_edge(0, 2)\n",
    "g.add_edge(0, 3)\n",
    "#(row=1(B),coulm (A=0,B=1,C=2,D=3,E=4))\n",
    "g.add_edge(1, 0) \n",
    "g.add_edge(1, 3)\n",
    "g.add_edge(1, 4)\n",
    "#(row=2(C),coulm (A=0,B=1,C=2,D=3,E=4))\n",
    "g.add_edge(2, 0) \n",
    "g.add_edge(2, 3)\n",
    "#(row=3(D),coulm (A=0,B=1,C=2,D=3,E=4))\n",
    "g.add_edge(3, 0) \n",
    "g.add_edge(3, 1)\n",
    "g.add_edge(3, 2)\n",
    "g.add_edge(3, 4)\n",
    "#(row=4(E),coulm (A=0,B=1,C=2,D=3,E=4))\n",
    "g.add_edge(4, 1) \n",
    "g.add_edge(4, 3)\n",
    "    \n",
    "g.print_matrix()\n"
   ]
  },
  {
   "cell_type": "code",
   "execution_count": null,
   "id": "f5b808cd",
   "metadata": {},
   "outputs": [],
   "source": []
  }
 ],
 "metadata": {
  "kernelspec": {
   "display_name": "Python 3 (ipykernel)",
   "language": "python",
   "name": "python3"
  },
  "language_info": {
   "codemirror_mode": {
    "name": "ipython",
    "version": 3
   },
   "file_extension": ".py",
   "mimetype": "text/x-python",
   "name": "python",
   "nbconvert_exporter": "python",
   "pygments_lexer": "ipython3",
   "version": "3.10.1"
  }
 },
 "nbformat": 4,
 "nbformat_minor": 5
}
