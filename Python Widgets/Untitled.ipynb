{
 "cells": [
  {
   "cell_type": "markdown",
   "id": "2f0eb9bd",
   "metadata": {},
   "source": [
    "# Basic Python"
   ]
  },
  {
   "cell_type": "code",
   "execution_count": 25,
   "id": "18f3ba3e",
   "metadata": {},
   "outputs": [
    {
     "name": "stdout",
     "output_type": "stream",
     "text": [
      "c\n"
     ]
    }
   ],
   "source": []
  },
  {
   "cell_type": "markdown",
   "id": "4c50b934",
   "metadata": {},
   "source": [
    "# widgets "
   ]
  },
  {
   "cell_type": "code",
   "execution_count": 1,
   "id": "f75535a3",
   "metadata": {},
   "outputs": [],
   "source": [
    "import ipywidgets as wid "
   ]
  },
  {
   "cell_type": "markdown",
   "id": "2f0cf2a0",
   "metadata": {},
   "source": [
    "#Dropdown Box Create( choose options )"
   ]
  },
  {
   "cell_type": "code",
   "execution_count": 6,
   "id": "0d82bd15",
   "metadata": {},
   "outputs": [
    {
     "data": {
      "application/vnd.jupyter.widget-view+json": {
       "model_id": "a3934515fa6642b5bff7af6957289476",
       "version_major": 2,
       "version_minor": 0
      },
      "text/plain": [
       "interactive(children=(Dropdown(description='Choose', options=('[10,12,15]', '[20,30,40]', '[50,ii,jn]'), value…"
      ]
     },
     "metadata": {},
     "output_type": "display_data"
    }
   ],
   "source": [
    "def ab(Choose=[]):\n",
    "    print(Choose)\n",
    "    \n",
    "wid.interact(ab,Choose=['[10,12,15]','[20,30,40]','[50,ii,jn]']);"
   ]
  },
  {
   "cell_type": "code",
   "execution_count": 5,
   "id": "820b3732",
   "metadata": {},
   "outputs": [
    {
     "data": {
      "application/vnd.jupyter.widget-view+json": {
       "model_id": "ff229d4ab77b410290299d94129ce336",
       "version_major": 2,
       "version_minor": 0
      },
      "text/plain": [
       "interactive(children=(Dropdown(description='Square', options=(0, 1, 2, 3, 4, 5, 6, 7, 8, 9, 10, 11, 12, 13, 14…"
      ]
     },
     "metadata": {},
     "output_type": "display_data"
    }
   ],
   "source": [
    "def ab(Square):\n",
    "    print(Square*Square)\n",
    "    \n",
    "wid.interact(ab,Square=[x for x in range(1000) ]);\n"
   ]
  },
  {
   "cell_type": "markdown",
   "id": "b5549da0",
   "metadata": {},
   "source": [
    "# Slider create"
   ]
  },
  {
   "cell_type": "code",
   "execution_count": 7,
   "id": "7e8903cc",
   "metadata": {},
   "outputs": [
    {
     "data": {
      "application/vnd.jupyter.widget-view+json": {
       "model_id": "02f4fc2fa1aa41b3a263e586fbcf9cd9",
       "version_major": 2,
       "version_minor": 0
      },
      "text/plain": [
       "interactive(children=(IntSlider(value=18, description='Sound', max=54, min=-18), Output()), _dom_classes=('wid…"
      ]
     },
     "metadata": {},
     "output_type": "display_data"
    }
   ],
   "source": [
    "def ab2(Sound):\n",
    "    if int(Sound)>=30:\n",
    "        print(\"High Sound\")\n",
    "    else:\n",
    "        if int(Sound)<=10:\n",
    "            print(\"very low\")        \n",
    "\n",
    "wid.interact(ab2,Sound=18);"
   ]
  },
  {
   "cell_type": "code",
   "execution_count": null,
   "id": "394c88d1",
   "metadata": {},
   "outputs": [],
   "source": [
    "#Text Box Create(Squere programme)"
   ]
  },
  {
   "cell_type": "code",
   "execution_count": 8,
   "id": "1fae7719",
   "metadata": {},
   "outputs": [
    {
     "data": {
      "application/vnd.jupyter.widget-view+json": {
       "model_id": "17a9f577d93c4828837ea28ce33a0f17",
       "version_major": 2,
       "version_minor": 0
      },
      "text/plain": [
       "interactive(children=(Text(value='', description='Confirmed'), Output()), _dom_classes=('widget-interact',))"
      ]
     },
     "metadata": {},
     "output_type": "display_data"
    }
   ],
   "source": [
    "def ab2(Confirmed=\"\"):\n",
    "    if Confirmed:\n",
    "        x=int(Confirmed)\n",
    "        print(x*x)\n",
    "    else:\n",
    "        print(\"plz put valid data \")\n",
    "\n",
    "    \n",
    "wid.interact(ab2,Confirmed=\"\");"
   ]
  },
  {
   "cell_type": "markdown",
   "id": "f9ef9868",
   "metadata": {},
   "source": [
    "#CheckBox Create( Reverse Number Create)"
   ]
  },
  {
   "cell_type": "code",
   "execution_count": 21,
   "id": "9ca3be5f",
   "metadata": {},
   "outputs": [
    {
     "data": {
      "application/vnd.jupyter.widget-view+json": {
       "model_id": "c8e4722a82b94fb69dc963ce3ad504ac",
       "version_major": 2,
       "version_minor": 0
      },
      "text/plain": [
       "interactive(children=(Text(value='', description='Number'), Checkbox(value=False, description='Reverse'), Outp…"
      ]
     },
     "metadata": {},
     "output_type": "display_data"
    }
   ],
   "source": [
    "def ab3(Number=\"\",Reverse =False):\n",
    "    if Reverse:\n",
    "        num = int(Number)\n",
    "        print(str(num)[::-1])\n",
    "    else:\n",
    "        print(Number) \n",
    "wid.interact(ab3,Number=\"\",Reverse =False); "
   ]
  },
  {
   "cell_type": "markdown",
   "id": "53ad7303",
   "metadata": {},
   "source": [
    "#Radio Button Create "
   ]
  },
  {
   "cell_type": "code",
   "execution_count": 22,
   "id": "f011cb7e",
   "metadata": {},
   "outputs": [
    {
     "data": {
      "application/vnd.jupyter.widget-view+json": {
       "model_id": "49d55f3ce2c2482b8051a665dae51362",
       "version_major": 2,
       "version_minor": 0
      },
      "text/plain": [
       "interactive(children=(RadioButtons(description='y', index=1, options=(0, 1, 2, 3), value=1), Output()), _dom_c…"
      ]
     },
     "metadata": {},
     "output_type": "display_data"
    },
    {
     "data": {
      "text/plain": [
       "<function __main__.ab4(y)>"
      ]
     },
     "execution_count": 22,
     "metadata": {},
     "output_type": "execute_result"
    }
   ],
   "source": [
    "x=wid.RadioButtons( options=[0,1,2,3], value=1)\n",
    "def ab4(y):\n",
    "    if y==0:\n",
    "        print(\"ok\");\n",
    "    else:\n",
    "         if y==1:\n",
    "            print(\"ok2\");\n",
    "variable_store =wid.interact(ab4,y=x); \n",
    "variable_store"
   ]
  },
  {
   "cell_type": "markdown",
   "id": "030d59db",
   "metadata": {},
   "source": [
    "#Button Create "
   ]
  },
  {
   "cell_type": "code",
   "execution_count": 3,
   "id": "bb034a98",
   "metadata": {},
   "outputs": [
    {
     "data": {
      "application/vnd.jupyter.widget-view+json": {
       "model_id": "6b431569873e4724a5824fc34e31bb0d",
       "version_major": 2,
       "version_minor": 0
      },
      "text/plain": [
       "Button(description='Test Button', style=ButtonStyle())"
      ]
     },
     "metadata": {},
     "output_type": "display_data"
    }
   ],
   "source": [
    "from IPython.display import display\n",
    "import ipywidgets as widgets\n",
    "\n",
    "\n",
    "def clicked(arg):\n",
    "    print(\"i am test button \")\n",
    "\n",
    "x= widgets.Button(description = 'Test Button') \n",
    "\n",
    "x.on_click(clicked)\n",
    "\n",
    "display(x)\n"
   ]
  },
  {
   "cell_type": "code",
   "execution_count": null,
   "id": "72dac9f0",
   "metadata": {},
   "outputs": [],
   "source": []
  },
  {
   "cell_type": "code",
   "execution_count": null,
   "id": "37433ddc",
   "metadata": {},
   "outputs": [],
   "source": []
  },
  {
   "cell_type": "code",
   "execution_count": null,
   "id": "7caed099",
   "metadata": {},
   "outputs": [],
   "source": []
  }
 ],
 "metadata": {
  "kernelspec": {
   "display_name": "Python 3 (ipykernel)",
   "language": "python",
   "name": "python3"
  },
  "language_info": {
   "codemirror_mode": {
    "name": "ipython",
    "version": 3
   },
   "file_extension": ".py",
   "mimetype": "text/x-python",
   "name": "python",
   "nbconvert_exporter": "python",
   "pygments_lexer": "ipython3",
   "version": "3.10.1"
  }
 },
 "nbformat": 4,
 "nbformat_minor": 5
}
